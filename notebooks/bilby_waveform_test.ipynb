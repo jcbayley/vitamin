{
 "cells": [
  {
   "cell_type": "code",
   "execution_count": 2,
   "id": "d2e18c98-77fd-46bd-b630-6d9ee9e1442c",
   "metadata": {},
   "outputs": [],
   "source": [
    "import bilby\n",
    "import numpy as np\n",
    "import matplotlib.pyplot as plt\n",
    "import sys\n",
    "sys.path.append(\"../vitamin_c/\")\n",
    "from gen_benchmark_pe import gen_template"
   ]
  },
  {
   "cell_type": "code",
   "execution_count": 3,
   "id": "b43c27b6-4be8-4fb0-8060-b898ae504ab1",
   "metadata": {},
   "outputs": [],
   "source": [
    "%matplotlib inline"
   ]
  },
  {
   "cell_type": "code",
   "execution_count": 4,
   "id": "4c7c1ddc-88cd-43e6-9a5e-9747bab98ef6",
   "metadata": {},
   "outputs": [],
   "source": [
    "np.random.seed(45)"
   ]
  },
  {
   "cell_type": "code",
   "execution_count": 5,
   "id": "0b70c99b-eb2f-4719-a707-5e25d1a81282",
   "metadata": {},
   "outputs": [],
   "source": [
    "duration = 1\n",
    "sampling_frequency = 1024\n",
    "ref_geocent_time = 1325029268\n",
    "start_time = ref_geocent_time - duration/2\n",
    "waveform_arguments = dict(waveform_approximant='IMRPhenomPv2',\n",
    "                              reference_frequency=20.,\n",
    "                              minimum_frequency=10.,\n",
    "                              maximum_frequency=sampling_frequency/2.0)"
   ]
  },
  {
   "cell_type": "code",
   "execution_count": 6,
   "id": "842f1406-9271-4455-abfa-f09edea7d9c8",
   "metadata": {},
   "outputs": [],
   "source": [
    "Nt = sampling_frequency*duration"
   ]
  },
  {
   "cell_type": "code",
   "execution_count": 7,
   "id": "7f98ad76-27bf-4615-9c20-fb386724c458",
   "metadata": {},
   "outputs": [],
   "source": [
    "pars = {}\n",
    "pars[\"mass_1\"] = 50\n",
    "pars[\"mass_2\"] = 50\n",
    "pars[\"a_1\"] = 0.0\n",
    "pars[\"a_2\"] = 0.0\n",
    "pars[\"tilt_1\"] = 0.0\n",
    "pars[\"tilt_2\"] = 0.0\n",
    "pars[\"phi_12\"] = 0.0\n",
    "pars[\"phi_jl\"] = 0.0\n",
    "pars[\"psi\"] = 0.0\n",
    "pars[\"theta_jn\"] = 0.0\n",
    "pars[\"phase\"] = 0.0\n",
    "pars[\"geocent_time\"] = ref_geocent_time + 0.2\n",
    "pars[\"ra\"] = 1.375\n",
    "pars[\"dec\"] = -1.2108\n",
    "pars[\"luminosity_distance\"] = 1000\n",
    "pars[\"det\"] = [\"H1\",\"L1\"]"
   ]
  },
  {
   "cell_type": "code",
   "execution_count": 8,
   "id": "6a6e5df0-e145-405e-8c62-ca9ea0f6b693",
   "metadata": {},
   "outputs": [],
   "source": [
    "psd_file = \"/home/joseph.bayley/projects/o4_online_pe_mdc/data/asd_files/aLIGO_O4_high_asd.txt\""
   ]
  },
  {
   "cell_type": "code",
   "execution_count": 9,
   "id": "cbdd9590-0f76-4bfd-aed3-599cef8cbd11",
   "metadata": {},
   "outputs": [],
   "source": [
    "injection_parameters = dict(mass_1=pars['mass_1'],mass_2=pars['mass_2'], a_1=pars['a_1'], a_2=pars['a_2'], tilt_1=pars['tilt_1'], tilt_2=pars['tilt_2'],phi_12=pars['phi_12'], phi_jl=pars['phi_jl'], luminosity_distance=pars['luminosity_distance'], theta_jn=pars['theta_jn'], psi=pars['psi'],phase=pars['phase'], geocent_time=pars['geocent_time'], ra=pars['ra'], dec=pars['dec'])"
   ]
  },
  {
   "cell_type": "code",
   "execution_count": 10,
   "id": "06cf2459-ebc0-4b6e-80d7-b93cd08ffa87",
   "metadata": {},
   "outputs": [
    {
     "name": "stderr",
     "output_type": "stream",
     "text": [
      "09:24 bilby INFO    : Waveform generator initiated with\n",
      "  frequency_domain_source_model: bilby.gw.source.lal_binary_black_hole\n",
      "  time_domain_source_model: None\n",
      "  parameter_conversion: bilby.gw.conversion.convert_to_lal_binary_black_hole_parameters\n"
     ]
    }
   ],
   "source": [
    "waveform_generator = bilby.gw.WaveformGenerator(\n",
    "        duration=duration, sampling_frequency=sampling_frequency,\n",
    "        frequency_domain_source_model=bilby.gw.source.lal_binary_black_hole,\n",
    "        parameter_conversion=bilby.gw.conversion.convert_to_lal_binary_black_hole_parameters,\n",
    "        waveform_arguments=waveform_arguments,\n",
    "        start_time=start_time)"
   ]
  },
  {
   "cell_type": "code",
   "execution_count": 11,
   "id": "a51a365d-6320-448e-9fdd-cb146ce27d8b",
   "metadata": {},
   "outputs": [],
   "source": [
    "wfg = waveform_generator\n",
    "waveform_generator.parameters = injection_parameters"
   ]
  },
  {
   "cell_type": "code",
   "execution_count": 12,
   "id": "b0234b52-70fa-4b9a-8103-b8efa7af7f9a",
   "metadata": {},
   "outputs": [
    {
     "data": {
      "text/plain": [
       "{'mass_1': 50,\n",
       " 'mass_2': 50,\n",
       " 'a_1': 0.0,\n",
       " 'a_2': 0.0,\n",
       " 'tilt_1': 0.0,\n",
       " 'tilt_2': 0.0,\n",
       " 'phi_12': 0.0,\n",
       " 'phi_jl': 0.0,\n",
       " 'luminosity_distance': 1000,\n",
       " 'theta_jn': 0.0,\n",
       " 'phase': 0.0,\n",
       " 'waveform_approximant': 'IMRPhenomPv2',\n",
       " 'reference_frequency': 20.0,\n",
       " 'minimum_frequency': 10.0,\n",
       " 'maximum_frequency': 512.0}"
      ]
     },
     "execution_count": 12,
     "metadata": {},
     "output_type": "execute_result"
    }
   ],
   "source": [
    "waveform_generator.parameters"
   ]
  },
  {
   "cell_type": "code",
   "execution_count": 13,
   "id": "ffa86627-6779-4f8f-af3b-c2d2bde8c056",
   "metadata": {},
   "outputs": [],
   "source": [
    "freq_signal = wfg.frequency_domain_strain()"
   ]
  },
  {
   "cell_type": "code",
   "execution_count": 14,
   "id": "a780e27c-26a4-4440-bdb9-7583e172c4c6",
   "metadata": {},
   "outputs": [
    {
     "data": {
      "text/plain": [
       "{'plus': array([0.-0.j, 0.-0.j, 0.-0.j, ..., 0.-0.j, 0.-0.j, 0.-0.j]),\n",
       " 'cross': array([0.+0.j, 0.+0.j, 0.+0.j, ..., 0.+0.j, 0.+0.j, 0.+0.j])}"
      ]
     },
     "execution_count": 14,
     "metadata": {},
     "output_type": "execute_result"
    }
   ],
   "source": [
    "freq_signal"
   ]
  },
  {
   "cell_type": "code",
   "execution_count": 15,
   "id": "11bbc0c9-f648-4d4f-936a-cbd525bccaf5",
   "metadata": {},
   "outputs": [],
   "source": [
    "plus_cross = np.array([freq_signal[\"plus\"], freq_signal[\"cross\"]])"
   ]
  },
  {
   "cell_type": "code",
   "execution_count": 16,
   "id": "c27c595e-42ec-4119-bffe-add42dfa3edd",
   "metadata": {},
   "outputs": [
    {
     "data": {
      "text/plain": [
       "{'plus': array([0.-0.j, 0.-0.j, 0.-0.j, ..., 0.-0.j, 0.-0.j, 0.-0.j]),\n",
       " 'cross': array([0.+0.j, 0.+0.j, 0.+0.j, ..., 0.+0.j, 0.+0.j, 0.+0.j])}"
      ]
     },
     "execution_count": 16,
     "metadata": {},
     "output_type": "execute_result"
    }
   ],
   "source": [
    "freq_signal"
   ]
  },
  {
   "cell_type": "code",
   "execution_count": 17,
   "id": "86f71d31-550c-471b-b028-84cb80fcdb95",
   "metadata": {},
   "outputs": [],
   "source": [
    "ifos = bilby.gw.detector.InterferometerList(pars['det'])\n",
    "ifos1 = bilby.gw.detector.InterferometerList(pars['det'])"
   ]
  },
  {
   "cell_type": "code",
   "execution_count": 20,
   "id": "a1e0d412-f151-4c58-b24c-a79c71033b97",
   "metadata": {},
   "outputs": [
    {
     "data": {
      "text/plain": [
       "'H1'"
      ]
     },
     "execution_count": 20,
     "metadata": {},
     "output_type": "execute_result"
    }
   ],
   "source": [
    "ifos[0].name"
   ]
  },
  {
   "cell_type": "code",
   "execution_count": 18,
   "id": "c779bdd7-e69b-41c3-a777-062d05d013a1",
   "metadata": {},
   "outputs": [],
   "source": [
    "for int_idx,ifo in enumerate(ifos):\n",
    "    ifo.power_spectral_density = bilby.gw.detector.PowerSpectralDensity(asd_file=psd_file)\n",
    "for int_idx,ifo in enumerate(ifos1):\n",
    "    ifo.power_spectral_density = bilby.gw.detector.PowerSpectralDensity(asd_file=psd_file)\n"
   ]
  },
  {
   "cell_type": "code",
   "execution_count": 19,
   "id": "d5c7eb89-85fd-4480-8015-cfbfcd000e31",
   "metadata": {},
   "outputs": [
    {
     "name": "stderr",
     "output_type": "stream",
     "text": [
      "/home/joseph.bayley/.local/lib/python3.7/site-packages/bilby/gw/detector/psd.py:362: RuntimeWarning: invalid value encountered in multiply\n",
      "  frequency_domain_strain = self.__power_spectral_density_interpolated(frequencies) ** 0.5 * white_noise\n"
     ]
    }
   ],
   "source": [
    "ifos.set_strain_data_from_power_spectral_densities(sampling_frequency=sampling_frequency, duration=duration, start_time=start_time)\n",
    "#ifos1.set_strain_data_from_power_spectral_densities(sampling_frequency=sampling_frequency, duration=duration, start_time=start_time)"
   ]
  },
  {
   "cell_type": "code",
   "execution_count": 20,
   "id": "62f82b99-06fc-46c4-ac3b-a9ce6004aeea",
   "metadata": {},
   "outputs": [],
   "source": [
    "ifos1[0].set_strain_data_from_frequency_domain_strain(ifos[0].frequency_domain_strain,\n",
    "                                                         sampling_frequency=sampling_frequency,\n",
    "                                                         duration=duration,\n",
    "                                                         start_time=start_time)\n",
    "ifos1[1].set_strain_data_from_frequency_domain_strain(ifos[1].frequency_domain_strain,\n",
    "                                                         sampling_frequency=sampling_frequency,\n",
    "                                                         duration=duration,\n",
    "                                                         start_time=start_time)"
   ]
  },
  {
   "cell_type": "code",
   "execution_count": 21,
   "id": "bcc46fe8-ad53-42dc-95a0-51c6bc712dc7",
   "metadata": {
    "collapsed": true,
    "jupyter": {
     "outputs_hidden": true
    },
    "tags": []
   },
   "outputs": [
    {
     "name": "stderr",
     "output_type": "stream",
     "text": [
      "04:00 bilby INFO    : Injected signal in H1:\n",
      "04:00 bilby INFO    :   optimal SNR = 40.73\n",
      "04:00 bilby INFO    :   matched filter SNR = 39.74+1.97j\n",
      "04:00 bilby INFO    :   mass_1 = 50\n",
      "04:00 bilby INFO    :   mass_2 = 50\n",
      "04:00 bilby INFO    :   a_1 = 0.0\n",
      "04:00 bilby INFO    :   a_2 = 0.0\n",
      "04:00 bilby INFO    :   tilt_1 = 0.0\n",
      "04:00 bilby INFO    :   tilt_2 = 0.0\n",
      "04:00 bilby INFO    :   phi_12 = 0.0\n",
      "04:00 bilby INFO    :   phi_jl = 0.0\n",
      "04:00 bilby INFO    :   luminosity_distance = 1000\n",
      "04:00 bilby INFO    :   theta_jn = 0.0\n",
      "04:00 bilby INFO    :   psi = 0.0\n",
      "04:00 bilby INFO    :   phase = 0.0\n",
      "04:00 bilby INFO    :   geocent_time = 1325029268.2\n",
      "04:00 bilby INFO    :   ra = 1.375\n",
      "04:00 bilby INFO    :   dec = -1.2108\n",
      "04:00 bilby INFO    : Injected signal in L1:\n",
      "04:00 bilby INFO    :   optimal SNR = 30.52\n",
      "04:00 bilby INFO    :   matched filter SNR = 29.96+1.82j\n",
      "04:00 bilby INFO    :   mass_1 = 50\n",
      "04:00 bilby INFO    :   mass_2 = 50\n",
      "04:00 bilby INFO    :   a_1 = 0.0\n",
      "04:00 bilby INFO    :   a_2 = 0.0\n",
      "04:00 bilby INFO    :   tilt_1 = 0.0\n",
      "04:00 bilby INFO    :   tilt_2 = 0.0\n",
      "04:00 bilby INFO    :   phi_12 = 0.0\n",
      "04:00 bilby INFO    :   phi_jl = 0.0\n",
      "04:00 bilby INFO    :   luminosity_distance = 1000\n",
      "04:00 bilby INFO    :   theta_jn = 0.0\n",
      "04:00 bilby INFO    :   psi = 0.0\n",
      "04:00 bilby INFO    :   phase = 0.0\n",
      "04:00 bilby INFO    :   geocent_time = 1325029268.2\n",
      "04:00 bilby INFO    :   ra = 1.375\n",
      "04:00 bilby INFO    :   dec = -1.2108\n",
      "04:00 bilby INFO    : Injected signal in H1:\n",
      "04:00 bilby INFO    :   optimal SNR = 40.73\n",
      "04:00 bilby INFO    :   matched filter SNR = 39.74+1.97j\n",
      "04:00 bilby INFO    :   mass_1 = 50\n",
      "04:00 bilby INFO    :   mass_2 = 50\n",
      "04:00 bilby INFO    :   a_1 = 0.0\n",
      "04:00 bilby INFO    :   a_2 = 0.0\n",
      "04:00 bilby INFO    :   tilt_1 = 0.0\n",
      "04:00 bilby INFO    :   tilt_2 = 0.0\n",
      "04:00 bilby INFO    :   phi_12 = 0.0\n",
      "04:00 bilby INFO    :   phi_jl = 0.0\n",
      "04:00 bilby INFO    :   luminosity_distance = 1000\n",
      "04:00 bilby INFO    :   theta_jn = 0.0\n",
      "04:00 bilby INFO    :   psi = 0.0\n",
      "04:00 bilby INFO    :   phase = 0.0\n",
      "04:00 bilby INFO    :   geocent_time = 1325029268.2\n",
      "04:00 bilby INFO    :   ra = 1.375\n",
      "04:00 bilby INFO    :   dec = -1.2108\n",
      "04:00 bilby INFO    : Injected signal in L1:\n",
      "04:00 bilby INFO    :   optimal SNR = 30.52\n",
      "04:00 bilby INFO    :   matched filter SNR = 29.96+1.82j\n",
      "04:00 bilby INFO    :   mass_1 = 50\n",
      "04:00 bilby INFO    :   mass_2 = 50\n",
      "04:00 bilby INFO    :   a_1 = 0.0\n",
      "04:00 bilby INFO    :   a_2 = 0.0\n",
      "04:00 bilby INFO    :   tilt_1 = 0.0\n",
      "04:00 bilby INFO    :   tilt_2 = 0.0\n",
      "04:00 bilby INFO    :   phi_12 = 0.0\n",
      "04:00 bilby INFO    :   phi_jl = 0.0\n",
      "04:00 bilby INFO    :   luminosity_distance = 1000\n",
      "04:00 bilby INFO    :   theta_jn = 0.0\n",
      "04:00 bilby INFO    :   psi = 0.0\n",
      "04:00 bilby INFO    :   phase = 0.0\n",
      "04:00 bilby INFO    :   geocent_time = 1325029268.2\n",
      "04:00 bilby INFO    :   ra = 1.375\n",
      "04:00 bilby INFO    :   dec = -1.2108\n"
     ]
    },
    {
     "data": {
      "text/plain": [
       "[{'plus': array([0.-0.j, 0.-0.j, 0.-0.j, ..., 0.-0.j, 0.-0.j, 0.-0.j]),\n",
       "  'cross': array([0.+0.j, 0.+0.j, 0.+0.j, ..., 0.+0.j, 0.+0.j, 0.+0.j])},\n",
       " {'plus': array([0.-0.j, 0.-0.j, 0.-0.j, ..., 0.-0.j, 0.-0.j, 0.-0.j]),\n",
       "  'cross': array([0.+0.j, 0.+0.j, 0.+0.j, ..., 0.+0.j, 0.+0.j, 0.+0.j])}]"
      ]
     },
     "execution_count": 21,
     "metadata": {},
     "output_type": "execute_result"
    }
   ],
   "source": [
    "ifos.inject_signal(waveform_generator=waveform_generator,parameters=injection_parameters)\n",
    "ifos1.inject_signal(waveform_generator=waveform_generator,parameters=injection_parameters)"
   ]
  },
  {
   "cell_type": "code",
   "execution_count": 62,
   "id": "70b95f82-4fdd-42f4-8213-92208b3cb600",
   "metadata": {},
   "outputs": [
    {
     "data": {
      "text/plain": [
       "0.0"
      ]
     },
     "execution_count": 62,
     "metadata": {},
     "output_type": "execute_result"
    }
   ],
   "source": [
    "np.sum(np.abs(ifos[0].strain_data.frequency_domain_strain - ifos1[0].strain_data.frequency_domain_strain))"
   ]
  },
  {
   "cell_type": "code",
   "execution_count": 24,
   "id": "86b25bc7-4cab-44cb-b24b-6243f6cddf17",
   "metadata": {},
   "outputs": [
    {
     "data": {
      "text/plain": [
       "array([-2.81313044e-23,  1.18818153e-22, -9.68653256e-23, ...,\n",
       "       -1.32505631e-22, -1.89403293e-22, -7.28388332e-23])"
      ]
     },
     "execution_count": 24,
     "metadata": {},
     "output_type": "execute_result"
    }
   ],
   "source": [
    "ifos[0].strain_data.time_domain_strain"
   ]
  },
  {
   "cell_type": "code",
   "execution_count": 25,
   "id": "503cd505-6cd4-47bf-afbb-6af064185ef5",
   "metadata": {},
   "outputs": [
    {
     "data": {
      "text/plain": [
       "array([-2.81313044e-23,  1.18818153e-22, -9.68653256e-23, ...,\n",
       "       -1.32505631e-22, -1.89403293e-22, -7.28388332e-23])"
      ]
     },
     "execution_count": 25,
     "metadata": {},
     "output_type": "execute_result"
    }
   ],
   "source": [
    "ifos1[0].strain_data.time_domain_strain"
   ]
  },
  {
   "cell_type": "code",
   "execution_count": 23,
   "id": "52e0225f-ee50-45e5-b6ae-3b6a279ae795",
   "metadata": {},
   "outputs": [
    {
     "name": "stdout",
     "output_type": "stream",
     "text": [
      "40.73145825037711\n",
      "40.73145825037711\n"
     ]
    }
   ],
   "source": [
    "print(ifos[0].meta_data['optimal_SNR'])\n",
    "print(ifos1[0].meta_data['optimal_SNR'])"
   ]
  },
  {
   "cell_type": "code",
   "execution_count": 22,
   "id": "f0da355f-a3d2-4e3a-8a67-90a5be926c82",
   "metadata": {},
   "outputs": [
    {
     "data": {
      "text/plain": [
       "[<matplotlib.lines.Line2D at 0x7f23c2749940>]"
      ]
     },
     "execution_count": 22,
     "metadata": {},
     "output_type": "execute_result"
    },
    {
     "data": {
      "image/png": "[encoded data removed]",
      "text/plain": [
       "<Figure size 432x288 with 1 Axes>"
      ]
     },
     "metadata": {
      "needs_background": "light"
     },
     "output_type": "display_data"
    }
   ],
   "source": [
    "fig, ax = plt.subplots()\n",
    "ax.plot(ifos[1].strain_data.time_domain_strain)\n",
    "ax.plot(ifos1[1].strain_data.time_domain_strain)"
   ]
  },
  {
   "cell_type": "code",
   "execution_count": 23,
   "id": "37d6a956-d624-4ff0-9fad-3259689edf34",
   "metadata": {},
   "outputs": [
    {
     "data": {
      "text/plain": [
       "[<matplotlib.lines.Line2D at 0x7f23ba666b70>]"
      ]
     },
     "execution_count": 23,
     "metadata": {},
     "output_type": "execute_result"
    },
    {
     "data": {
      "image/png": "[encoded data removed]",
      "text/plain": [
       "<Figure size 432x288 with 1 Axes>"
      ]
     },
     "metadata": {
      "needs_background": "light"
     },
     "output_type": "display_data"
    }
   ],
   "source": [
    "fig, ax = plt.subplots()\n",
    "ax.plot(ifos[1].strain_data.time_domain_strain - ifos1[1].strain_data.time_domain_strain)"
   ]
  },
  {
   "cell_type": "code",
   "execution_count": 32,
   "id": "b1bcac45-9f57-4a81-98f5-d8df9af0f585",
   "metadata": {},
   "outputs": [],
   "source": [
    "whitened_signal_td_all = []\n",
    "whitened_h_td_all = []\n",
    "for i in range(len(pars['det'])):\n",
    "    # get frequency domain noise-free signal at detector                                                   \n",
    "    signal_fd = ifos[i].get_detector_response(freq_signal, injection_parameters)\n",
    "\n",
    "    # get frequency domain signal + noise at detector                                                      \n",
    "    h_fd = ifos[i].strain_data.frequency_domain_strain\n",
    "    # whiten frequency domain noise-free signal (and reshape/flatten)                                  \n",
    "    whitened_signal_fd = signal_fd/ifos[i].amplitude_spectral_density_array\n",
    "    #whitened_signal_fd = whitened_signal_fd.reshape(whitened_signal_fd.shape[0])                      \n",
    "\n",
    "    # inverse FFT noise-free signal back to time domain and normalise                                  \n",
    "    whitened_signal_td = np.sqrt(2.0*Nt)*np.fft.irfft(whitened_signal_fd)\n",
    "\n",
    "    # whiten noisy frequency domain signal                                                             \n",
    "    whitened_h_fd = h_fd/ifos[i].amplitude_spectral_density_array\n",
    "\n",
    "    # inverse FFT noisy signal back to time domain and normalise                                       \n",
    "    whitened_h_td = np.sqrt(2.0*Nt)*np.fft.irfft(whitened_h_fd)\n",
    "    whitened_h_td_all.append([whitened_h_td])\n",
    "    whitened_signal_td_all.append(whitened_signal_td)"
   ]
  },
  {
   "cell_type": "code",
   "execution_count": 44,
   "id": "e629faba-ef4a-4688-bad3-e6acfb7b8f8b",
   "metadata": {},
   "outputs": [
    {
     "data": {
      "text/plain": [
       "(2, 513)"
      ]
     },
     "execution_count": 44,
     "metadata": {},
     "output_type": "execute_result"
    }
   ],
   "source": [
    "plus_cross.shape"
   ]
  },
  {
   "cell_type": "code",
   "execution_count": 45,
   "id": "1dcfc94b-10c9-43b7-bd1b-ce62dfc16edc",
   "metadata": {},
   "outputs": [],
   "source": [
    "plus_cross = np.transpose(plus_cross, (1,0))"
   ]
  },
  {
   "cell_type": "code",
   "execution_count": 46,
   "id": "bc6e8591-2671-4beb-a731-0fe22eca5a1e",
   "metadata": {},
   "outputs": [],
   "source": [
    "whitened_signals_td = []\n",
    "for dt in range(len(pars['det'])):\n",
    "    polarisations = {\"plus\":plus_cross[:,0], \"cross\":plus_cross[:,1]}\n",
    "    signal_fd = ifos[dt].get_detector_response(polarisations, injection_parameters)\n",
    "    whitened_signal_fd = signal_fd/ifos[dt].amplitude_spectral_density_array\n",
    "    whitened_signal_td = np.sqrt(2.0*Nt)*np.fft.irfft(whitened_signal_fd)\n",
    "    whitened_signals_td.append(whitened_signal_td)"
   ]
  },
  {
   "cell_type": "code",
   "execution_count": 47,
   "id": "8596ee74-2af9-4897-8f6f-0991b6b42113",
   "metadata": {},
   "outputs": [
    {
     "data": {
      "text/plain": [
       "(2, 1024)"
      ]
     },
     "execution_count": 47,
     "metadata": {},
     "output_type": "execute_result"
    }
   ],
   "source": [
    "np.shape(whitened_signal_td_all)"
   ]
  },
  {
   "cell_type": "code",
   "execution_count": 48,
   "id": "4779f718-147b-42d7-ab20-397b646d3da7",
   "metadata": {},
   "outputs": [
    {
     "data": {
      "text/plain": [
       "[<matplotlib.lines.Line2D at 0x7f6d11419cc0>]"
      ]
     },
     "execution_count": 48,
     "metadata": {},
     "output_type": "execute_result"
    },
    {
     "data": {
      "image/png": "[encoded data removed]",
      "text/plain": [
       "<Figure size 432x288 with 1 Axes>"
      ]
     },
     "metadata": {
      "needs_background": "light"
     },
     "output_type": "display_data"
    }
   ],
   "source": [
    "fig, ax = plt.subplots()\n",
    "ax.plot(whitened_signals_td[0]-whitened_signal_td_all[0])\n",
    "#ax.plot(whitened_signal_td_all[0])"
   ]
  },
  {
   "cell_type": "code",
   "execution_count": 40,
   "id": "c4f938d4-b526-4107-b028-eb92a5482bcb",
   "metadata": {},
   "outputs": [],
   "source": [
    "resp_fd = []\n",
    "Nt = len(wfg_pol)\n",
    "for ifo in ifos:\n",
    "    signal_fd = ifo.get_detector_response(wfg_pol, injection_parameters)\n",
    "    whitened_signal_fd = signal_fd/ifo.amplitude_spectral_density_array\n",
    "    whitened_signal_td = np.sqrt(2.0*Nt)*np.fft.irfft(whitened_signal_fd)\n",
    "    resp_fd.append(whitened_signal_td)"
   ]
  },
  {
   "cell_type": "code",
   "execution_count": 41,
   "id": "ef231bc0-657f-4708-bdd0-2f4e0c463656",
   "metadata": {},
   "outputs": [
    {
     "data": {
      "text/plain": [
       "array([  0.,   1.,   2., ..., 510., 511., 512.])"
      ]
     },
     "execution_count": 41,
     "metadata": {},
     "output_type": "execute_result"
    }
   ],
   "source": [
    "ifo.strain_data.frequency_array"
   ]
  },
  {
   "cell_type": "code",
   "execution_count": 17,
   "id": "6cd38f71-143d-441c-9951-05a6e41b6414",
   "metadata": {},
   "outputs": [],
   "source": [
    "resp_old = resp_fd[0]"
   ]
  },
  {
   "cell_type": "code",
   "execution_count": 36,
   "id": "8198f1e3-ae0f-4019-b9ec-7f3c3d4a635e",
   "metadata": {},
   "outputs": [],
   "source": [
    "asd_old = ifo.amplitude_spectral_density_array"
   ]
  },
  {
   "cell_type": "code",
   "execution_count": 43,
   "id": "3cb64fe7-f45b-4810-bbfa-d39c6776ec2b",
   "metadata": {},
   "outputs": [
    {
     "name": "stderr",
     "output_type": "stream",
     "text": [
      "/home/joseph.bayley/.conda/envs/vitc_newkeras/lib/python3.7/site-packages/ipykernel_launcher.py:2: RuntimeWarning: invalid value encountered in subtract\n",
      "  \n"
     ]
    },
    {
     "data": {
      "text/plain": [
       "[<matplotlib.lines.Line2D at 0x7f390205a400>]"
      ]
     },
     "execution_count": 43,
     "metadata": {},
     "output_type": "execute_result"
    },
    {
     "data": {
      "image/png": "[encoded data removed]",
      "text/plain": [
       "<Figure size 432x288 with 1 Axes>"
      ]
     },
     "metadata": {
      "needs_background": "light"
     },
     "output_type": "display_data"
    }
   ],
   "source": [
    "fig, ax = plt.subplots()\n",
    "ax.plot(ifo.amplitude_spectral_density_array-asd_old)\n",
    "#ax.plot(asd_old)\n",
    "#ax.set_yscale('log')"
   ]
  },
  {
   "cell_type": "code",
   "execution_count": 23,
   "id": "468ec6ea-5312-4336-901d-666f86e10061",
   "metadata": {},
   "outputs": [
    {
     "data": {
      "text/plain": [
       "[<matplotlib.lines.Line2D at 0x7feca2363dd8>]"
      ]
     },
     "execution_count": 23,
     "metadata": {},
     "output_type": "execute_result"
    },
    {
     "data": {
      "image/png": "[encoded data removed]",
      "text/plain": [
       "<Figure size 432x288 with 1 Axes>"
      ]
     },
     "metadata": {
      "needs_background": "light"
     },
     "output_type": "display_data"
    }
   ],
   "source": [
    "fig, ax = plt.subplots()\n",
    "ax.plot(resp_fd[0])"
   ]
  },
  {
   "cell_type": "code",
   "execution_count": 75,
   "id": "1812e514-980e-4f3a-9561-559e2fb8177b",
   "metadata": {},
   "outputs": [
    {
     "name": "stderr",
     "output_type": "stream",
     "text": [
      "01:16 bilby WARNING : Injecting signal outside segment, start_time=1325029267.5, merger time=0.0.\n",
      "01:16 bilby INFO    : Injected signal in H1:\n",
      "01:16 bilby INFO    :   optimal SNR = 39.26\n",
      "01:16 bilby INFO    :   matched filter SNR = 38.97-0.53j\n",
      "01:16 bilby INFO    :   mass_1 = 50\n",
      "01:16 bilby INFO    :   mass_2 = 50\n",
      "01:16 bilby INFO    :   a_1 = 0.0\n",
      "01:16 bilby INFO    :   a_2 = 0.0\n",
      "01:16 bilby INFO    :   tilt_1 = 0.0\n",
      "01:16 bilby INFO    :   tilt_2 = 0.0\n",
      "01:16 bilby INFO    :   phi_12 = 0.0\n",
      "01:16 bilby INFO    :   phi_jl = 0.0\n",
      "01:16 bilby INFO    :   luminosity_distance = 1000\n",
      "01:16 bilby INFO    :   theta_jn = 0.0\n",
      "01:16 bilby INFO    :   psi = 0.0\n",
      "01:16 bilby INFO    :   phase = 0.0\n",
      "01:16 bilby INFO    :   geocent_time = 0.0\n",
      "01:16 bilby INFO    :   ra = 1.375\n",
      "01:16 bilby INFO    :   dec = -1.2108\n",
      "01:16 bilby WARNING : Injecting signal outside segment, start_time=1325029267.5, merger time=0.0.\n",
      "01:16 bilby INFO    : Injected signal in L1:\n",
      "01:16 bilby INFO    :   optimal SNR = 29.75\n",
      "01:16 bilby INFO    :   matched filter SNR = 28.89-0.88j\n",
      "01:16 bilby INFO    :   mass_1 = 50\n",
      "01:16 bilby INFO    :   mass_2 = 50\n",
      "01:16 bilby INFO    :   a_1 = 0.0\n",
      "01:16 bilby INFO    :   a_2 = 0.0\n",
      "01:16 bilby INFO    :   tilt_1 = 0.0\n",
      "01:16 bilby INFO    :   tilt_2 = 0.0\n",
      "01:16 bilby INFO    :   phi_12 = 0.0\n",
      "01:16 bilby INFO    :   phi_jl = 0.0\n",
      "01:16 bilby INFO    :   luminosity_distance = 1000\n",
      "01:16 bilby INFO    :   theta_jn = 0.0\n",
      "01:16 bilby INFO    :   psi = 0.0\n",
      "01:16 bilby INFO    :   phase = 0.0\n",
      "01:16 bilby INFO    :   geocent_time = 0.0\n",
      "01:16 bilby INFO    :   ra = 1.375\n",
      "01:16 bilby INFO    :   dec = -1.2108\n"
     ]
    }
   ],
   "source": [
    "pol_inj = ifos.inject_signal(injection_polarizations = wfg_pol, parameters = injection_parameters)"
   ]
  },
  {
   "cell_type": "code",
   "execution_count": 34,
   "id": "6225c3f7-40b9-406e-8a95-ed5b97072ff2",
   "metadata": {},
   "outputs": [
    {
     "name": "stderr",
     "output_type": "stream",
     "text": [
      "07:47 bilby WARNING : Injecting signal outside segment, start_time=1325029267.5, merger time=0.0.\n",
      "07:47 bilby INFO    : Injected signal in H1:\n",
      "07:47 bilby INFO    :   optimal SNR = 39.26\n",
      "07:47 bilby INFO    :   matched filter SNR = 115.68-1.66j\n",
      "07:47 bilby INFO    :   mass_1 = 50\n",
      "07:47 bilby INFO    :   mass_2 = 50\n",
      "07:47 bilby INFO    :   a_1 = 0.0\n",
      "07:47 bilby INFO    :   a_2 = 0.0\n",
      "07:47 bilby INFO    :   tilt_1 = 0.0\n",
      "07:47 bilby INFO    :   tilt_2 = 0.0\n",
      "07:47 bilby INFO    :   phi_12 = 0.0\n",
      "07:47 bilby INFO    :   phi_jl = 0.0\n",
      "07:47 bilby INFO    :   luminosity_distance = 1000\n",
      "07:47 bilby INFO    :   theta_jn = 0.0\n",
      "07:47 bilby INFO    :   psi = 0.0\n",
      "07:47 bilby INFO    :   phase = 0.0\n",
      "07:47 bilby INFO    :   geocent_time = 0.0\n",
      "07:47 bilby INFO    :   ra = 1.375\n",
      "07:47 bilby INFO    :   dec = -1.2108\n",
      "07:47 bilby WARNING : Injecting signal outside segment, start_time=1325029267.5, merger time=0.0.\n",
      "07:47 bilby INFO    : Injected signal in L1:\n",
      "07:47 bilby INFO    :   optimal SNR = 29.75\n",
      "07:47 bilby INFO    :   matched filter SNR = 89.43-0.01j\n",
      "07:47 bilby INFO    :   mass_1 = 50\n",
      "07:47 bilby INFO    :   mass_2 = 50\n",
      "07:47 bilby INFO    :   a_1 = 0.0\n",
      "07:47 bilby INFO    :   a_2 = 0.0\n",
      "07:47 bilby INFO    :   tilt_1 = 0.0\n",
      "07:47 bilby INFO    :   tilt_2 = 0.0\n",
      "07:47 bilby INFO    :   phi_12 = 0.0\n",
      "07:47 bilby INFO    :   phi_jl = 0.0\n",
      "07:47 bilby INFO    :   luminosity_distance = 1000\n",
      "07:47 bilby INFO    :   theta_jn = 0.0\n",
      "07:47 bilby INFO    :   psi = 0.0\n",
      "07:47 bilby INFO    :   phase = 0.0\n",
      "07:47 bilby INFO    :   geocent_time = 0.0\n",
      "07:47 bilby INFO    :   ra = 1.375\n",
      "07:47 bilby INFO    :   dec = -1.2108\n"
     ]
    }
   ],
   "source": [
    "inj_pol = ifos.inject_signal(waveform_generator=waveform_generator, parameters=injection_parameters)"
   ]
  },
  {
   "cell_type": "code",
   "execution_count": 46,
   "id": "b654a64f-f1ed-4a31-a709-e3f10b5f1873",
   "metadata": {},
   "outputs": [
    {
     "data": {
      "text/plain": [
       "(4.804717190910345e-22-1.0874575677400692e-22j)"
      ]
     },
     "execution_count": 46,
     "metadata": {},
     "output_type": "execute_result"
    }
   ],
   "source": [
    "np.sum(pol_inj[0]['plus'])"
   ]
  },
  {
   "cell_type": "code",
   "execution_count": 41,
   "id": "5ed6293a-d0bd-43d6-8bcd-974e230be334",
   "metadata": {},
   "outputs": [
    {
     "data": {
      "text/plain": [
       "0j"
      ]
     },
     "execution_count": 41,
     "metadata": {},
     "output_type": "execute_result"
    }
   ],
   "source": [
    "np.sum(pol_inj[0]['plus'] - inj_pol[0]['plus'])"
   ]
  },
  {
   "cell_type": "code",
   "execution_count": 66,
   "id": "989f7391-aeda-4d7e-8d7b-900891c7f4f4",
   "metadata": {},
   "outputs": [
    {
     "name": "stderr",
     "output_type": "stream",
     "text": [
      "04:11 bilby INFO    : No prior given, using default BBH priors in /home/joseph.bayley/.local/lib/python3.7/site-packages/bilby/gw/prior_files/precessing_spins_bbh.prior.\n"
     ]
    }
   ],
   "source": [
    "priors = bilby.gw.prior.BBHPriorDict()\n",
    "priors.pop('chirp_mass')\n",
    "priors['mass_ratio'] = bilby.gw.prior.Constraint(minimum=0.125, maximum=1, name='mass_ratio', latex_label='$q$', unit=None)\n",
    "priors['mass_1'] = bilby.gw.prior.Uniform(name='mass_1', minimum=35, maximum=80, unit='$M_{\\odot}$')\n",
    "priors['mass_2'] = bilby.gw.prior.Uniform(name='mass_2', minimum=35, maximum=80, unit='$M_{\\odot}$')\n",
    "priors['geocent_time'] = bilby.core.prior.Uniform(minimum=ref_geocent_time + 0.15,maximum=ref_geocent_time + 0.35,name='geocent_time', latex_label='$t_c$', unit='$s$')"
   ]
  },
  {
   "cell_type": "code",
   "execution_count": 70,
   "id": "5b3e5634-e910-427d-b239-83c80bc2dac9",
   "metadata": {},
   "outputs": [],
   "source": [
    "pars2 = priors.sample()\n",
    "pars2[\"det\"] = pars[\"det\"]"
   ]
  },
  {
   "cell_type": "code",
   "execution_count": 71,
   "id": "d2eea253-decb-46ad-acfe-e101c9b057f9",
   "metadata": {
    "tags": []
   },
   "outputs": [
    {
     "name": "stderr",
     "output_type": "stream",
     "text": [
      "04:12 bilby INFO    : Waveform generator initiated with\n",
      "  frequency_domain_source_model: bilby.gw.source.lal_binary_black_hole\n",
      "  time_domain_source_model: None\n",
      "  parameter_conversion: bilby.gw.conversion.convert_to_lal_binary_black_hole_parameters\n"
     ]
    }
   ],
   "source": [
    "train_hplus_hcross, injpars, wfg = gen_template(duration,sampling_frequency,\n",
    "                                                                pars2,ref_geocent_time,[psd_file],\n",
    "                                                                use_real_det_noise=False,\n",
    "                                                                return_polarisations=True)"
   ]
  },
  {
   "cell_type": "code",
   "execution_count": 72,
   "id": "37755efe-aaa1-4548-9912-58cf899bcba6",
   "metadata": {
    "tags": []
   },
   "outputs": [
    {
     "name": "stderr",
     "output_type": "stream",
     "text": [
      "04:12 bilby INFO    : Waveform generator initiated with\n",
      "  frequency_domain_source_model: bilby.gw.source.lal_binary_black_hole\n",
      "  time_domain_source_model: None\n",
      "  parameter_conversion: bilby.gw.conversion.convert_to_lal_binary_black_hole_parameters\n",
      "04:12 bilby INFO    : Injected signal in H1:\n",
      "04:12 bilby INFO    :   optimal SNR = 6.36\n",
      "04:12 bilby INFO    :   matched filter SNR = 7.48+0.98j\n",
      "04:12 bilby INFO    :   mass_1 = 54.09970449603983\n",
      "04:12 bilby INFO    :   mass_2 = 42.03680900991128\n",
      "04:12 bilby INFO    :   a_1 = 0.4853896661327851\n",
      "04:12 bilby INFO    :   a_2 = 0.5290751812687172\n",
      "04:12 bilby INFO    :   tilt_1 = 2.971666808319773\n",
      "04:12 bilby INFO    :   tilt_2 = 0.9437024429245895\n",
      "04:12 bilby INFO    :   phi_12 = 1.7876927195609587\n",
      "04:12 bilby INFO    :   phi_jl = 3.4599922659798588\n",
      "04:12 bilby INFO    :   luminosity_distance = 3862.455797030312\n",
      "04:12 bilby INFO    :   theta_jn = 0.8107472145729007\n",
      "04:12 bilby INFO    :   psi = 2.488406991036923\n",
      "04:12 bilby INFO    :   phase = 1.8403729323107885\n",
      "04:12 bilby INFO    :   geocent_time = 1325029268.185465\n",
      "04:12 bilby INFO    :   ra = 5.977621680172244\n",
      "04:12 bilby INFO    :   dec = -0.07300576456093692\n",
      "04:12 bilby INFO    : Injected signal in L1:\n",
      "04:12 bilby INFO    :   optimal SNR = 7.41\n",
      "04:12 bilby INFO    :   matched filter SNR = 9.10-0.14j\n",
      "04:12 bilby INFO    :   mass_1 = 54.09970449603983\n",
      "04:12 bilby INFO    :   mass_2 = 42.03680900991128\n",
      "04:12 bilby INFO    :   a_1 = 0.4853896661327851\n",
      "04:12 bilby INFO    :   a_2 = 0.5290751812687172\n",
      "04:12 bilby INFO    :   tilt_1 = 2.971666808319773\n",
      "04:12 bilby INFO    :   tilt_2 = 0.9437024429245895\n",
      "04:12 bilby INFO    :   phi_12 = 1.7876927195609587\n",
      "04:12 bilby INFO    :   phi_jl = 3.4599922659798588\n",
      "04:12 bilby INFO    :   luminosity_distance = 3862.455797030312\n",
      "04:12 bilby INFO    :   theta_jn = 0.8107472145729007\n",
      "04:12 bilby INFO    :   psi = 2.488406991036923\n",
      "04:12 bilby INFO    :   phase = 1.8403729323107885\n",
      "04:12 bilby INFO    :   geocent_time = 1325029268.185465\n",
      "04:12 bilby INFO    :   ra = 5.977621680172244\n",
      "04:12 bilby INFO    :   dec = -0.07300576456093692\n"
     ]
    },
    {
     "name": "stdout",
     "output_type": "stream",
     "text": [
      "... Injected signal\n",
      "... Whitened signals\n"
     ]
    }
   ],
   "source": [
    "test_samples_noisefree,test_samples_noisy,injection_parameters,ifos,waveform_generator = gen_template(duration,sampling_frequency,pars2,ref_geocent_time,[psd_file])"
   ]
  },
  {
   "cell_type": "code",
   "execution_count": 102,
   "id": "e536a1da-faae-4db6-8965-decabb83eed9",
   "metadata": {},
   "outputs": [
    {
     "name": "stderr",
     "output_type": "stream",
     "text": [
      "/home/joseph.bayley/.local/lib/python3.7/site-packages/bilby/gw/detector/psd.py:362: RuntimeWarning: invalid value encountered in multiply\n",
      "  frequency_domain_strain = self.__power_spectral_density_interpolated(frequencies) ** 0.5 * white_noise\n"
     ]
    }
   ],
   "source": [
    "ifos = bilby.gw.detector.InterferometerList(pars['det'])\n",
    "for int_idx,ifo in enumerate(ifos):\n",
    "    ifo.power_spectral_density = bilby.gw.detector.PowerSpectralDensity(asd_file=psd_file)\n",
    "ifos.set_strain_data_from_power_spectral_densities(sampling_frequency=sampling_frequency, duration=duration, start_time=start_time)"
   ]
  },
  {
   "cell_type": "code",
   "execution_count": 103,
   "id": "c8ba883f-6c39-41b2-87af-fd92dbaaf798",
   "metadata": {},
   "outputs": [
    {
     "data": {
      "text/plain": [
       "0j"
      ]
     },
     "execution_count": 103,
     "metadata": {},
     "output_type": "execute_result"
    }
   ],
   "source": [
    "np.sum(waveform_generator.frequency_domain_strain()[\"plus\"] - train_hplus_hcross[0])"
   ]
  },
  {
   "cell_type": "code",
   "execution_count": 134,
   "id": "c787b2ea-5294-4740-bb18-ac86440f65a4",
   "metadata": {},
   "outputs": [],
   "source": [
    "resp_fd = []\n",
    "Nt = len(train_hplus_hcross[0])*2\n",
    "polarisations = {\"plus\":train_hplus_hcross[0],\"cross\":train_hplus_hcross[1]}\n",
    "for ifo in ifos:\n",
    "    signal_fd = ifo.get_detector_response(polarisations, injpars)\n",
    "    whitened_signal_fd = signal_fd/ifo.amplitude_spectral_density_array\n",
    "    whitened_signal_td = np.sqrt(2.0*Nt)*np.fft.irfft(whitened_signal_fd)\n",
    "    resp_fd.append(whitened_signal_td)"
   ]
  },
  {
   "cell_type": "code",
   "execution_count": 135,
   "id": "2294d69f-f15e-4c47-a6aa-8fec117c3e69",
   "metadata": {},
   "outputs": [
    {
     "name": "stderr",
     "output_type": "stream",
     "text": [
      "/home/joseph.bayley/.local/lib/python3.7/site-packages/bilby/gw/detector/psd.py:362: RuntimeWarning: invalid value encountered in multiply\n",
      "  frequency_domain_strain = self.__power_spectral_density_interpolated(frequencies) ** 0.5 * white_noise\n",
      "06:31 bilby INFO    : Injected signal in H1:\n",
      "06:31 bilby INFO    :   optimal SNR = 6.36\n",
      "06:31 bilby INFO    :   matched filter SNR = 4.38+1.02j\n",
      "06:31 bilby INFO    :   mass_1 = 54.09970449603983\n",
      "06:31 bilby INFO    :   mass_2 = 42.03680900991128\n",
      "06:31 bilby INFO    :   a_1 = 0.4853896661327851\n",
      "06:31 bilby INFO    :   a_2 = 0.5290751812687172\n",
      "06:31 bilby INFO    :   tilt_1 = 2.971666808319773\n",
      "06:31 bilby INFO    :   tilt_2 = 0.9437024429245895\n",
      "06:31 bilby INFO    :   phi_12 = 1.7876927195609587\n",
      "06:31 bilby INFO    :   phi_jl = 3.4599922659798588\n",
      "06:31 bilby INFO    :   luminosity_distance = 3862.455797030312\n",
      "06:31 bilby INFO    :   theta_jn = 0.8107472145729007\n",
      "06:31 bilby INFO    :   psi = 2.488406991036923\n",
      "06:31 bilby INFO    :   phase = 1.8403729323107885\n",
      "06:31 bilby INFO    :   geocent_time = 1325029268.185465\n",
      "06:31 bilby INFO    :   ra = 5.977621680172244\n",
      "06:31 bilby INFO    :   dec = -0.07300576456093692\n",
      "06:31 bilby INFO    : Injected signal in L1:\n",
      "06:31 bilby INFO    :   optimal SNR = 7.41\n",
      "06:31 bilby INFO    :   matched filter SNR = 8.36-0.31j\n",
      "06:31 bilby INFO    :   mass_1 = 54.09970449603983\n",
      "06:31 bilby INFO    :   mass_2 = 42.03680900991128\n",
      "06:31 bilby INFO    :   a_1 = 0.4853896661327851\n",
      "06:31 bilby INFO    :   a_2 = 0.5290751812687172\n",
      "06:31 bilby INFO    :   tilt_1 = 2.971666808319773\n",
      "06:31 bilby INFO    :   tilt_2 = 0.9437024429245895\n",
      "06:31 bilby INFO    :   phi_12 = 1.7876927195609587\n",
      "06:31 bilby INFO    :   phi_jl = 3.4599922659798588\n",
      "06:31 bilby INFO    :   luminosity_distance = 3862.455797030312\n",
      "06:31 bilby INFO    :   theta_jn = 0.8107472145729007\n",
      "06:31 bilby INFO    :   psi = 2.488406991036923\n",
      "06:31 bilby INFO    :   phase = 1.8403729323107885\n",
      "06:31 bilby INFO    :   geocent_time = 1325029268.185465\n",
      "06:31 bilby INFO    :   ra = 5.977621680172244\n",
      "06:31 bilby INFO    :   dec = -0.07300576456093692\n"
     ]
    }
   ],
   "source": [
    "ifos = bilby.gw.detector.InterferometerList(pars['det'])\n",
    "psd_files = [psd_file]\n",
    "# If user is specifying PSD files       \n",
    "\n",
    "freq_signal = waveform_generator.frequency_domain_strain()\n",
    "if len(psd_files) > 0:\n",
    "    type_psd = psd_files[0].split('/')[-1].split('_')[-1].split('.')[0]\n",
    "    for int_idx,ifo in enumerate(ifos):\n",
    "        if type_psd == 'psd':\n",
    "            ifo.power_spectral_density = bilby.gw.detector.PowerSpectralDensity(psd_file=psd_files[0])\n",
    "        elif type_psd == 'asd':\n",
    "            ifo.power_spectral_density = bilby.gw.detector.PowerSpectralDensity(asd_file=psd_files[0])\n",
    "        else:\n",
    "            print('Could not determine whether psd or asd ...')\n",
    "            exit()\n",
    "\n",
    "ifos.set_strain_data_from_power_spectral_densities(sampling_frequency=sampling_frequency, duration=duration, start_time=start_time)\n",
    "\n",
    "ifos.inject_signal(waveform_generator=waveform_generator,\n",
    "                           parameters=injection_parameters)\n",
    "\n",
    "\n",
    "whitened_signal_td_all = []\n",
    "whitened_h_td_all = []\n",
    "# iterate over ifos                                                                                        \n",
    "whiten_data = True\n",
    "for i in range(len(pars['det'])):\n",
    "    # get frequency domain noise-free signal at detector                                                   \n",
    "    signal_fd = ifos[i].get_detector_response(freq_signal, injection_parameters)\n",
    "\n",
    "    # get frequency domain signal + noise at detector                                                      \n",
    "    h_fd = ifos[i].strain_data.frequency_domain_strain\n",
    "\n",
    "    # whitening       \n",
    "    # whiten frequency domain noise-free signal (and reshape/flatten)                                  \n",
    "    whitened_signal_fd = signal_fd/ifos[i].amplitude_spectral_density_array\n",
    "    #whitened_signal_fd = whitened_signal_fd.reshape(whitened_signal_fd.shape[0])                      \n",
    "\n",
    "    # inverse FFT noise-free signal back to time domain and normalise                                  \n",
    "    whitened_signal_td = np.sqrt(2.0*Nt)*np.fft.irfft(whitened_signal_fd)\n",
    "\n",
    "    # whiten noisy frequency domain signal                                                             \n",
    "    whitened_h_fd = h_fd/ifos[i].amplitude_spectral_density_array\n",
    "\n",
    "    # inverse FFT noisy signal back to time domain and normalise                                       \n",
    "    whitened_h_td = np.sqrt(2.0*Nt)*np.fft.irfft(whitened_h_fd)\n",
    "\n",
    "    whitened_h_td_all.append([whitened_h_td])\n",
    "    whitened_signal_td_all.append(whitened_signal_td)"
   ]
  },
  {
   "cell_type": "code",
   "execution_count": 136,
   "id": "f940f52f-2f05-4202-bfb3-82a446a61160",
   "metadata": {},
   "outputs": [
    {
     "data": {
      "text/plain": [
       "1026"
      ]
     },
     "execution_count": 136,
     "metadata": {},
     "output_type": "execute_result"
    }
   ],
   "source": [
    "Nt"
   ]
  },
  {
   "cell_type": "code",
   "execution_count": 138,
   "id": "e9b03f56-e0da-4e8e-b045-62dea5eb40ca",
   "metadata": {},
   "outputs": [
    {
     "data": {
      "text/plain": [
       "[<matplotlib.lines.Line2D at 0x7f6d0f663d30>]"
      ]
     },
     "execution_count": 138,
     "metadata": {},
     "output_type": "execute_result"
    },
    {
     "data": {
      "image/png": "[encoded data removed]",
      "text/plain": [
       "<Figure size 432x288 with 1 Axes>"
      ]
     },
     "metadata": {
      "needs_background": "light"
     },
     "output_type": "display_data"
    }
   ],
   "source": [
    "fig, ax = plt.subplots()\n",
    "ax.plot(test_samples_noisefree[0])\n",
    "ax.plot(whitened_signal_td_all[0])"
   ]
  },
  {
   "cell_type": "code",
   "execution_count": 148,
   "id": "d2d444a1-0a71-499a-96b7-b6a0924e36f7",
   "metadata": {},
   "outputs": [
    {
     "data": {
      "text/plain": [
       "[<matplotlib.lines.Line2D at 0x7f6d0f0f5978>]"
      ]
     },
     "execution_count": 148,
     "metadata": {},
     "output_type": "execute_result"
    },
    {
     "data": {
      "image/png": "[encoded data removed]",
      "text/plain": [
       "<Figure size 432x288 with 1 Axes>"
      ]
     },
     "metadata": {
      "needs_background": "light"
     },
     "output_type": "display_data"
    }
   ],
   "source": [
    "fig, ax = plt.subplots()\n",
    "ax.plot((test_samples_noisefree[0]-whitened_signal_td_all[0]))\n"
   ]
  },
  {
   "cell_type": "code",
   "execution_count": 150,
   "id": "d1093e97-8669-4e8b-ae2e-3b9da149ad0b",
   "metadata": {},
   "outputs": [
    {
     "data": {
      "text/plain": [
       "0.9990248656871401"
      ]
     },
     "execution_count": 150,
     "metadata": {},
     "output_type": "execute_result"
    }
   ],
   "source": [
    "np.mean(test_samples_noisefree[0]/whitened_signal_td_all[0])"
   ]
  },
  {
   "cell_type": "code",
   "execution_count": 152,
   "id": "c171a7bf-c9b8-41e4-b629-e01acb4a9d39",
   "metadata": {},
   "outputs": [
    {
     "data": {
      "text/plain": [
       "0.0009751343128598933"
      ]
     },
     "execution_count": 152,
     "metadata": {},
     "output_type": "execute_result"
    }
   ],
   "source": [
    "1 - 0.9990248656871401"
   ]
  },
  {
   "cell_type": "code",
   "execution_count": null,
   "id": "8d9b6f16-f073-4df6-8560-43e53067a443",
   "metadata": {},
   "outputs": [],
   "source": []
  }
 ],
 "metadata": {
  "kernelspec": {
   "display_name": "vitaminenv",
   "language": "python",
   "name": "vitaminenv"
  },
  "language_info": {
   "codemirror_mode": {
    "name": "ipython",
    "version": 3
   },
   "file_extension": ".py",
   "mimetype": "text/x-python",
   "name": "python",
   "nbconvert_exporter": "python",
   "pygments_lexer": "ipython3",
   "version": "3.7.12"
  }
 },
 "nbformat": 4,
 "nbformat_minor": 5
}
