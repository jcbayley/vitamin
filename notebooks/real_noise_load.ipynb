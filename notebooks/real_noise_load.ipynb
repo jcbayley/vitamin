{
 "cells": [
  {
   "cell_type": "code",
   "execution_count": 15,
   "id": "42ff23c4-2eab-48e7-bb9a-da79206a1f9b",
   "metadata": {},
   "outputs": [],
   "source": [
    "import sys\n",
    "sys.path.append(\"../vitamin_c\")\n",
    "import gen_benchmark_pe\n",
    "from gwpy.timeseries import TimeSeries\n",
    "import numpy as np\n",
    "from gwdatafind import find_urls\n",
    "import matplotlib.pyplot as plt"
   ]
  },
  {
   "cell_type": "code",
   "execution_count": 16,
   "id": "6e1bf6ec-b748-44fb-9471-4f04da750725",
   "metadata": {},
   "outputs": [],
   "source": [
    "%matplotlib inline"
   ]
  },
  {
   "cell_type": "code",
   "execution_count": 22,
   "id": "bd84b1e9-1c9e-42c8-8d2a-7992f42e8e1d",
   "metadata": {},
   "outputs": [],
   "source": [
    "ref_time = 1245029268\n",
    "real_noise_seg = [ref_time, ref_time + 1]"
   ]
  },
  {
   "cell_type": "code",
   "execution_count": 23,
   "id": "a00c403c-1ac4-45a7-93eb-923747093c2e",
   "metadata": {},
   "outputs": [],
   "source": [
    "gwf_url = find_urls(\"L\", \"L1_HOFT_C00\", real_noise_seg[0], real_noise_seg[1])"
   ]
  },
  {
   "cell_type": "code",
   "execution_count": 24,
   "id": "ee86797c-ea84-409c-859f-cb9321b921cd",
   "metadata": {},
   "outputs": [],
   "source": [
    "gwf_url = gwf_url[0].replace(\"file://localhost\",\"\")"
   ]
  },
  {
   "cell_type": "code",
   "execution_count": 25,
   "id": "d373b50a-24d6-484c-a83b-d6c02f765587",
   "metadata": {},
   "outputs": [],
   "source": [
    "ts = TimeSeries.read(gwf_url, \"L1:GDS-CALIB_STRAIN\",real_noise_seg[0],real_noise_seg[1])"
   ]
  },
  {
   "cell_type": "code",
   "execution_count": 26,
   "id": "5cab9eae-b386-4fce-9441-1c0440b7cc39",
   "metadata": {},
   "outputs": [
    {
     "data": {
      "text/latex": [
       "$16384 \\; \\mathrm{Hz}$"
      ],
      "text/plain": [
       "<Quantity 16384. Hz>"
      ]
     },
     "execution_count": 26,
     "metadata": {},
     "output_type": "execute_result"
    }
   ],
   "source": [
    "ts.sample_rate"
   ]
  },
  {
   "cell_type": "code",
   "execution_count": 27,
   "id": "0d83c3b7-19b5-46b6-8d59-274083a0db5c",
   "metadata": {},
   "outputs": [],
   "source": [
    "ts_rs = ts.resample(1024, window='hamming')"
   ]
  },
  {
   "cell_type": "code",
   "execution_count": 28,
   "id": "6fdaf42d-c9d3-44d7-896e-c879323f692e",
   "metadata": {},
   "outputs": [
    {
     "data": {
      "text/plain": [
       "1024"
      ]
     },
     "execution_count": 28,
     "metadata": {},
     "output_type": "execute_result"
    }
   ],
   "source": [
    "len(ts_rs)"
   ]
  },
  {
   "cell_type": "code",
   "execution_count": 12,
   "id": "f7a8129b-f92e-4f46-b76f-e50e496658f0",
   "metadata": {},
   "outputs": [
    {
     "data": {
      "text/latex": [
       "$1.0561356 \\times 10^{-18} \\; \\mathrm{}$"
      ],
      "text/plain": [
       "<Quantity 1.0561356e-18>"
      ]
     },
     "execution_count": 12,
     "metadata": {},
     "output_type": "execute_result"
    }
   ],
   "source": [
    "ts_rs[0]"
   ]
  },
  {
   "cell_type": "code",
   "execution_count": null,
   "id": "20766e58-6e76-4ced-b72c-e9e2d3de9a00",
   "metadata": {},
   "outputs": [],
   "source": []
  },
  {
   "cell_type": "code",
   "execution_count": null,
   "id": "586dca73-5fe3-4961-a523-bf70812c97d4",
   "metadata": {},
   "outputs": [],
   "source": []
  },
  {
   "cell_type": "code",
   "execution_count": null,
   "id": "051bea7a-1bab-4f75-bdde-d4c44aee1e0b",
   "metadata": {},
   "outputs": [],
   "source": []
  },
  {
   "cell_type": "code",
   "execution_count": 3,
   "id": "ad4b395e-42c1-4df6-b2e7-1f6dd82c93c5",
   "metadata": {
    "collapsed": true,
    "jupyter": {
     "outputs_hidden": true
    },
    "tags": []
   },
   "outputs": [
    {
     "ename": "RuntimeError",
     "evalue": "Invalid pointer",
     "output_type": "error",
     "traceback": [
      "\u001b[0;31m---------------------------------------------------------------------------\u001b[0m",
      "\u001b[0;31mRuntimeError\u001b[0m                              Traceback (most recent call last)",
      "\u001b[0;32m<ipython-input-3-9c8007e85ca3>\u001b[0m in \u001b[0;36m<module>\u001b[0;34m\u001b[0m\n\u001b[0;32m----> 1\u001b[0;31m \u001b[0mgen_benchmark_pe\u001b[0m\u001b[0;34m.\u001b[0m\u001b[0mgen_real_noise\u001b[0m\u001b[0;34m(\u001b[0m\u001b[0;36m1\u001b[0m\u001b[0;34m,\u001b[0m \u001b[0;36m1024\u001b[0m\u001b[0;34m,\u001b[0m \u001b[0;34m[\u001b[0m\u001b[0;34m\"H1\"\u001b[0m\u001b[0;34m,\u001b[0m \u001b[0;34m\"L1\"\u001b[0m\u001b[0;34m]\u001b[0m\u001b[0;34m,\u001b[0m \u001b[0mref_time\u001b[0m\u001b[0;34m,\u001b[0m \u001b[0mreal_noise_seg\u001b[0m\u001b[0;34m)\u001b[0m\u001b[0;34m\u001b[0m\u001b[0m\n\u001b[0m",
      "\u001b[0;32m~/projects/Vitamin/vitamin_c_refact/vitamin_c/gen_benchmark_pe.py\u001b[0m in \u001b[0;36mgen_real_noise\u001b[0;34m(duration, sampling_frequency, det, ref_geocent_time, psd_files, real_noise_seg)\u001b[0m\n\u001b[1;32m     72\u001b[0m     \u001b[0;32mfor\u001b[0m \u001b[0mifo_idx\u001b[0m\u001b[0;34m,\u001b[0m\u001b[0mifo\u001b[0m \u001b[0;32min\u001b[0m \u001b[0menumerate\u001b[0m\u001b[0;34m(\u001b[0m\u001b[0mifos\u001b[0m\u001b[0;34m)\u001b[0m\u001b[0;34m:\u001b[0m \u001b[0;31m# iterate over interferometers\u001b[0m\u001b[0;34m\u001b[0m\u001b[0m\n\u001b[1;32m     73\u001b[0m         time_series = TimeSeries.find('%s:GDS-CALIB_STRAIN' % det[ifo_idx],\n\u001b[0;32m---> 74\u001b[0;31m                       start_open_seg, end_open_seg) # pull timeseries data using gwpy\n\u001b[0m\u001b[1;32m     75\u001b[0m         \u001b[0mifo\u001b[0m\u001b[0;34m.\u001b[0m\u001b[0mset_strain_data_from_gwpy_timeseries\u001b[0m\u001b[0;34m(\u001b[0m\u001b[0mtime_series\u001b[0m\u001b[0;34m=\u001b[0m\u001b[0mtime_series\u001b[0m\u001b[0;34m)\u001b[0m \u001b[0;31m# input new ts into bilby ifo\u001b[0m\u001b[0;34m\u001b[0m\u001b[0m\n\u001b[1;32m     76\u001b[0m \u001b[0;34m\u001b[0m\u001b[0m\n",
      "\u001b[0;32m~/.conda/envs/vitc_newkeras/lib/python3.7/site-packages/gwpy/timeseries/core.py\u001b[0m in \u001b[0;36mfind\u001b[0;34m(cls, channel, start, end, frametype, pad, scaled, dtype, nproc, verbose, **readargs)\u001b[0m\n\u001b[1;32m    543\u001b[0m             \u001b[0mdtype\u001b[0m\u001b[0;34m=\u001b[0m\u001b[0mdtype\u001b[0m\u001b[0;34m,\u001b[0m\u001b[0;34m\u001b[0m\u001b[0m\n\u001b[1;32m    544\u001b[0m             \u001b[0mnproc\u001b[0m\u001b[0;34m=\u001b[0m\u001b[0mnproc\u001b[0m\u001b[0;34m,\u001b[0m\u001b[0;34m\u001b[0m\u001b[0m\n\u001b[0;32m--> 545\u001b[0;31m             \u001b[0;34m**\u001b[0m\u001b[0mreadargs\u001b[0m\u001b[0;34m\u001b[0m\u001b[0m\n\u001b[0m\u001b[1;32m    546\u001b[0m         )[str(channel)]\n\u001b[1;32m    547\u001b[0m \u001b[0;34m\u001b[0m\u001b[0m\n",
      "\u001b[0;32m~/.conda/envs/vitc_newkeras/lib/python3.7/site-packages/gwpy/timeseries/core.py\u001b[0m in \u001b[0;36mfind\u001b[0;34m(cls, channels, start, end, frametype, frametype_match, pad, scaled, dtype, nproc, verbose, allow_tape, observatory, **readargs)\u001b[0m\n\u001b[1;32m   1219\u001b[0m         \u001b[0;32mfrom\u001b[0m \u001b[0;34m.\u001b[0m\u001b[0;34m.\u001b[0m\u001b[0mio\u001b[0m \u001b[0;32mimport\u001b[0m \u001b[0mdatafind\u001b[0m \u001b[0;32mas\u001b[0m \u001b[0mio_datafind\u001b[0m\u001b[0;34m\u001b[0m\u001b[0m\n\u001b[1;32m   1220\u001b[0m \u001b[0;34m\u001b[0m\u001b[0m\n\u001b[0;32m-> 1221\u001b[0;31m         \u001b[0mstart\u001b[0m \u001b[0;34m=\u001b[0m \u001b[0mto_gps\u001b[0m\u001b[0;34m(\u001b[0m\u001b[0mstart\u001b[0m\u001b[0;34m)\u001b[0m\u001b[0;34m\u001b[0m\u001b[0m\n\u001b[0m\u001b[1;32m   1222\u001b[0m         \u001b[0mend\u001b[0m \u001b[0;34m=\u001b[0m \u001b[0mto_gps\u001b[0m\u001b[0;34m(\u001b[0m\u001b[0mend\u001b[0m\u001b[0;34m)\u001b[0m\u001b[0;34m\u001b[0m\u001b[0m\n\u001b[1;32m   1223\u001b[0m \u001b[0;34m\u001b[0m\u001b[0m\n",
      "\u001b[0;32m~/.conda/envs/vitc_newkeras/lib/python3.7/site-packages/gwpy/time/_tconvert.py\u001b[0m in \u001b[0;36mto_gps\u001b[0;34m(t, *args, **kwargs)\u001b[0m\n\u001b[1;32m    169\u001b[0m         \u001b[0;32mreturn\u001b[0m \u001b[0m_time_to_gps\u001b[0m\u001b[0;34m(\u001b[0m\u001b[0mt\u001b[0m\u001b[0;34m,\u001b[0m \u001b[0;34m*\u001b[0m\u001b[0margs\u001b[0m\u001b[0;34m,\u001b[0m \u001b[0;34m**\u001b[0m\u001b[0mkwargs\u001b[0m\u001b[0;34m)\u001b[0m\u001b[0;34m\u001b[0m\u001b[0m\n\u001b[1;32m    170\u001b[0m     \u001b[0;32mtry\u001b[0m\u001b[0;34m:\u001b[0m\u001b[0;34m\u001b[0m\u001b[0m\n\u001b[0;32m--> 171\u001b[0;31m         \u001b[0;32mreturn\u001b[0m \u001b[0mLIGOTimeGPS\u001b[0m\u001b[0;34m(\u001b[0m\u001b[0mt\u001b[0m\u001b[0;34m)\u001b[0m\u001b[0;34m\u001b[0m\u001b[0m\n\u001b[0m\u001b[1;32m    172\u001b[0m     \u001b[0;32mexcept\u001b[0m \u001b[0;34m(\u001b[0m\u001b[0mTypeError\u001b[0m\u001b[0;34m,\u001b[0m \u001b[0mValueError\u001b[0m\u001b[0;34m)\u001b[0m\u001b[0;34m:\u001b[0m\u001b[0;34m\u001b[0m\u001b[0m\n\u001b[1;32m    173\u001b[0m         \u001b[0;32mreturn\u001b[0m \u001b[0mLIGOTimeGPS\u001b[0m\u001b[0;34m(\u001b[0m\u001b[0mfloat\u001b[0m\u001b[0;34m(\u001b[0m\u001b[0mt\u001b[0m\u001b[0;34m)\u001b[0m\u001b[0;34m)\u001b[0m\u001b[0;34m\u001b[0m\u001b[0m\n",
      "\u001b[0;31mRuntimeError\u001b[0m: Invalid pointer"
     ]
    }
   ],
   "source": [
    "gen_benchmark_pe.gen_real_noise(1, 1024, [\"H1\", \"L1\"], ref_time, real_noise_seg)"
   ]
  },
  {
   "cell_type": "code",
   "execution_count": 11,
   "id": "efaedcba-6fca-4d31-8a4f-52112f3d3b7b",
   "metadata": {},
   "outputs": [
    {
     "data": {
      "text/plain": [
       "['__call__',\n",
       " '__class__',\n",
       " '__delattr__',\n",
       " '__dir__',\n",
       " '__doc__',\n",
       " '__eq__',\n",
       " '__format__',\n",
       " '__func__',\n",
       " '__ge__',\n",
       " '__get__',\n",
       " '__getattribute__',\n",
       " '__gt__',\n",
       " '__hash__',\n",
       " '__init__',\n",
       " '__init_subclass__',\n",
       " '__le__',\n",
       " '__lt__',\n",
       " '__ne__',\n",
       " '__new__',\n",
       " '__reduce__',\n",
       " '__reduce_ex__',\n",
       " '__repr__',\n",
       " '__self__',\n",
       " '__setattr__',\n",
       " '__sizeof__',\n",
       " '__str__',\n",
       " '__subclasshook__']"
      ]
     },
     "execution_count": 11,
     "metadata": {},
     "output_type": "execute_result"
    }
   ],
   "source": [
    "dir(TimeSeries.get)"
   ]
  },
  {
   "cell_type": "code",
   "execution_count": 9,
   "id": "76220cdd-a693-420d-b13d-587909e17b42",
   "metadata": {},
   "outputs": [
    {
     "ename": "RuntimeError",
     "evalue": "Failed to establish a connection[INFO: Invalid IP address]",
     "output_type": "error",
     "traceback": [
      "\u001b[0;31m---------------------------------------------------------------------------\u001b[0m",
      "\u001b[0;31mRuntimeError\u001b[0m                              Traceback (most recent call last)",
      "\u001b[0;32m<ipython-input-9-a79237019432>\u001b[0m in \u001b[0;36m<module>\u001b[0;34m\u001b[0m\n\u001b[0;32m----> 1\u001b[0;31m \u001b[0mTimeSeries\u001b[0m\u001b[0;34m.\u001b[0m\u001b[0mget\u001b[0m\u001b[0;34m(\u001b[0m\u001b[0;34m'H1:GDS_CALIB_STRAIN'\u001b[0m\u001b[0;34m,\u001b[0m \u001b[0mref_time\u001b[0m \u001b[0;34m+\u001b[0m \u001b[0;36m0.5\u001b[0m\u001b[0;34m,\u001b[0m \u001b[0mref_time\u001b[0m \u001b[0;34m-\u001b[0m \u001b[0;36m0.5\u001b[0m\u001b[0;34m,\u001b[0m \u001b[0mhost\u001b[0m\u001b[0;34m=\u001b[0m\u001b[0;34m\"datafind.ligo.org:443\"\u001b[0m\u001b[0;34m)\u001b[0m\u001b[0;34m\u001b[0m\u001b[0m\n\u001b[0m",
      "\u001b[0;32m~/.conda/envs/vitc_newkeras/lib/python3.7/site-packages/gwpy/timeseries/core.py\u001b[0m in \u001b[0;36mget\u001b[0;34m(cls, channel, start, end, pad, scaled, dtype, verbose, allow_tape, **kwargs)\u001b[0m\n\u001b[1;32m    609\u001b[0m         return cls.DictClass.get(\n\u001b[1;32m    610\u001b[0m             \u001b[0;34m[\u001b[0m\u001b[0mchannel\u001b[0m\u001b[0;34m]\u001b[0m\u001b[0;34m,\u001b[0m \u001b[0mstart\u001b[0m\u001b[0;34m,\u001b[0m \u001b[0mend\u001b[0m\u001b[0;34m,\u001b[0m \u001b[0mpad\u001b[0m\u001b[0;34m=\u001b[0m\u001b[0mpad\u001b[0m\u001b[0;34m,\u001b[0m \u001b[0mscaled\u001b[0m\u001b[0;34m=\u001b[0m\u001b[0mscaled\u001b[0m\u001b[0;34m,\u001b[0m \u001b[0mdtype\u001b[0m\u001b[0;34m=\u001b[0m\u001b[0mdtype\u001b[0m\u001b[0;34m,\u001b[0m\u001b[0;34m\u001b[0m\u001b[0m\n\u001b[0;32m--> 611\u001b[0;31m             verbose=verbose, allow_tape=allow_tape, **kwargs)[str(channel)]\n\u001b[0m\u001b[1;32m    612\u001b[0m \u001b[0;34m\u001b[0m\u001b[0m\n\u001b[1;32m    613\u001b[0m     \u001b[0;31m# -- utilities ------------------------------\u001b[0m\u001b[0;34m\u001b[0m\u001b[0;34m\u001b[0m\u001b[0m\n",
      "\u001b[0;32m~/.conda/envs/vitc_newkeras/lib/python3.7/site-packages/gwpy/timeseries/core.py\u001b[0m in \u001b[0;36mget\u001b[0;34m(cls, channels, start, end, pad, scaled, dtype, verbose, allow_tape, **kwargs)\u001b[0m\n\u001b[1;32m   1372\u001b[0m             return cls.fetch(channels, start, end, pad=pad, scaled=scaled,\n\u001b[1;32m   1373\u001b[0m                              \u001b[0mdtype\u001b[0m\u001b[0;34m=\u001b[0m\u001b[0mdtype\u001b[0m\u001b[0;34m,\u001b[0m \u001b[0mallow_tape\u001b[0m\u001b[0;34m=\u001b[0m\u001b[0mallow_tape\u001b[0m\u001b[0;34m,\u001b[0m\u001b[0;34m\u001b[0m\u001b[0m\n\u001b[0;32m-> 1374\u001b[0;31m                              verbose=verbose, **kwargs)\n\u001b[0m\u001b[1;32m   1375\u001b[0m         \u001b[0;32mexcept\u001b[0m \u001b[0mRuntimeError\u001b[0m \u001b[0;32mas\u001b[0m \u001b[0mexc\u001b[0m\u001b[0;34m:\u001b[0m\u001b[0;34m\u001b[0m\u001b[0m\n\u001b[1;32m   1376\u001b[0m             \u001b[0;31m# if all else fails, try and get each channel individually\u001b[0m\u001b[0;34m\u001b[0m\u001b[0;34m\u001b[0m\u001b[0m\n",
      "\u001b[0;32m~/.conda/envs/vitc_newkeras/lib/python3.7/site-packages/gwpy/timeseries/core.py\u001b[0m in \u001b[0;36mfetch\u001b[0;34m(cls, channels, start, end, host, port, verify, verbose, connection, pad, scaled, allow_tape, type, dtype)\u001b[0m\n\u001b[1;32m   1103\u001b[0m             print_verbose(\"Opening new connection to {0}...\".format(host),\n\u001b[1;32m   1104\u001b[0m                           end=' ', verbose=verbose)\n\u001b[0;32m-> 1105\u001b[0;31m             \u001b[0mconnection\u001b[0m \u001b[0;34m=\u001b[0m \u001b[0mio_nds2\u001b[0m\u001b[0;34m.\u001b[0m\u001b[0mauth_connect\u001b[0m\u001b[0;34m(\u001b[0m\u001b[0mhost\u001b[0m\u001b[0;34m,\u001b[0m \u001b[0mport\u001b[0m\u001b[0;34m)\u001b[0m\u001b[0;34m\u001b[0m\u001b[0m\n\u001b[0m\u001b[1;32m   1106\u001b[0m             \u001b[0mprint_verbose\u001b[0m\u001b[0;34m(\u001b[0m\u001b[0;34m'connected'\u001b[0m\u001b[0;34m,\u001b[0m \u001b[0mverbose\u001b[0m\u001b[0;34m=\u001b[0m\u001b[0mverbose\u001b[0m\u001b[0;34m)\u001b[0m\u001b[0;34m\u001b[0m\u001b[0m\n\u001b[1;32m   1107\u001b[0m         \u001b[0;31m# otherwise cycle through connections in logical order\u001b[0m\u001b[0;34m\u001b[0m\u001b[0;34m\u001b[0m\u001b[0m\n",
      "\u001b[0;32m~/.conda/envs/vitc_newkeras/lib/python3.7/site-packages/gwpy/io/nds2.py\u001b[0m in \u001b[0;36mauth_connect\u001b[0;34m(host, port)\u001b[0m\n\u001b[1;32m    336\u001b[0m     \"\"\"\n\u001b[1;32m    337\u001b[0m     \u001b[0;32mtry\u001b[0m\u001b[0;34m:\u001b[0m\u001b[0;34m\u001b[0m\u001b[0m\n\u001b[0;32m--> 338\u001b[0;31m         \u001b[0;32mreturn\u001b[0m \u001b[0mconnect\u001b[0m\u001b[0;34m(\u001b[0m\u001b[0mhost\u001b[0m\u001b[0;34m,\u001b[0m \u001b[0mport\u001b[0m\u001b[0;34m)\u001b[0m\u001b[0;34m\u001b[0m\u001b[0m\n\u001b[0m\u001b[1;32m    339\u001b[0m     \u001b[0;32mexcept\u001b[0m \u001b[0mRuntimeError\u001b[0m \u001b[0;32mas\u001b[0m \u001b[0mexc\u001b[0m\u001b[0;34m:\u001b[0m\u001b[0;34m\u001b[0m\u001b[0m\n\u001b[1;32m    340\u001b[0m         \u001b[0;32mif\u001b[0m \u001b[0;34m'Request SASL authentication'\u001b[0m \u001b[0;32mnot\u001b[0m \u001b[0;32min\u001b[0m \u001b[0mstr\u001b[0m\u001b[0;34m(\u001b[0m\u001b[0mexc\u001b[0m\u001b[0;34m)\u001b[0m\u001b[0;34m:\u001b[0m\u001b[0;34m\u001b[0m\u001b[0m\n",
      "\u001b[0;32m~/.conda/envs/vitc_newkeras/lib/python3.7/site-packages/gwpy/io/nds2.py\u001b[0m in \u001b[0;36mconnect\u001b[0;34m(host, port)\u001b[0m\n\u001b[1;32m    312\u001b[0m \u001b[0;34m\u001b[0m\u001b[0m\n\u001b[1;32m    313\u001b[0m     \u001b[0;32mif\u001b[0m \u001b[0mport\u001b[0m \u001b[0;32mis\u001b[0m \u001b[0;32mNone\u001b[0m\u001b[0;34m:\u001b[0m\u001b[0;34m\u001b[0m\u001b[0m\n\u001b[0;32m--> 314\u001b[0;31m         \u001b[0;32mreturn\u001b[0m \u001b[0mnds2\u001b[0m\u001b[0;34m.\u001b[0m\u001b[0mconnection\u001b[0m\u001b[0;34m(\u001b[0m\u001b[0mhost\u001b[0m\u001b[0;34m)\u001b[0m\u001b[0;34m\u001b[0m\u001b[0m\n\u001b[0m\u001b[1;32m    315\u001b[0m     \u001b[0;32mreturn\u001b[0m \u001b[0mnds2\u001b[0m\u001b[0;34m.\u001b[0m\u001b[0mconnection\u001b[0m\u001b[0;34m(\u001b[0m\u001b[0mhost\u001b[0m\u001b[0;34m,\u001b[0m \u001b[0mport\u001b[0m\u001b[0;34m)\u001b[0m\u001b[0;34m\u001b[0m\u001b[0m\n\u001b[1;32m    316\u001b[0m \u001b[0;34m\u001b[0m\u001b[0m\n",
      "\u001b[0;32m~/.conda/envs/vitc_newkeras/lib/python3.7/site-packages/nds2.py\u001b[0m in \u001b[0;36m__init__\u001b[0;34m(self, *args)\u001b[0m\n\u001b[1;32m   3170\u001b[0m \u001b[0;34m\u001b[0m\u001b[0m\n\u001b[1;32m   3171\u001b[0m \u001b[0;34m\u001b[0m\u001b[0m\n\u001b[0;32m-> 3172\u001b[0;31m         \u001b[0m_nds2\u001b[0m\u001b[0;34m.\u001b[0m\u001b[0mconnection_swiginit\u001b[0m\u001b[0;34m(\u001b[0m\u001b[0mself\u001b[0m\u001b[0;34m,\u001b[0m \u001b[0m_nds2\u001b[0m\u001b[0;34m.\u001b[0m\u001b[0mnew_connection\u001b[0m\u001b[0;34m(\u001b[0m\u001b[0;34m*\u001b[0m\u001b[0margs\u001b[0m\u001b[0;34m)\u001b[0m\u001b[0;34m)\u001b[0m\u001b[0;34m\u001b[0m\u001b[0m\n\u001b[0m\u001b[1;32m   3173\u001b[0m     \u001b[0m__swig_destroy__\u001b[0m \u001b[0;34m=\u001b[0m \u001b[0m_nds2\u001b[0m\u001b[0;34m.\u001b[0m\u001b[0mdelete_connection\u001b[0m\u001b[0;34m\u001b[0m\u001b[0m\n\u001b[1;32m   3174\u001b[0m \u001b[0;34m\u001b[0m\u001b[0m\n",
      "\u001b[0;31mRuntimeError\u001b[0m: Failed to establish a connection[INFO: Invalid IP address]"
     ]
    }
   ],
   "source": [
    "TimeSeries.get('H1:GDS_CALIB_STRAIN', ref_time + 0.5, ref_time - 0.5, host=\"datafind.ligo.org:443\")"
   ]
  },
  {
   "cell_type": "code",
   "execution_count": null,
   "id": "e6091254-9860-44b9-8685-fa24494d10e5",
   "metadata": {},
   "outputs": [],
   "source": [
    "dir()"
   ]
  },
  {
   "cell_type": "code",
   "execution_count": 27,
   "id": "c10b37f1-d015-46be-a9cc-af873d544f7d",
   "metadata": {},
   "outputs": [],
   "source": [
    "start_range, end_range = 0,10\n",
    "segment_duration = 1\n",
    "ifos = [\"h1\",\"l1\",\"v1\"]\n",
    "starts = []\n",
    "for i in range(len(ifos)):\n",
    "    if i == 0:\n",
    "        start_temp = np.random.uniform(start_range + segment_duration, end_range - segment_duration, 1)\n",
    "    else:\n",
    "        while np.any((np.array(starts) <= start_temp) & (start_temp <= np.array(starts) + segment_duration)):\n",
    "            start_temp = np.random.uniform(start_range + segment_duration, end_range - segment_duration, 1)\n",
    "    starts.append(start_temp[0])"
   ]
  },
  {
   "cell_type": "code",
   "execution_count": 28,
   "id": "04f76c23-cc4a-4e1d-bbfa-346e2838fa0a",
   "metadata": {},
   "outputs": [
    {
     "data": {
      "text/plain": [
       "[1.0235400634107137, 2.6422769606232013, 8.929082837481715]"
      ]
     },
     "execution_count": 28,
     "metadata": {},
     "output_type": "execute_result"
    }
   ],
   "source": [
    "starts"
   ]
  },
  {
   "cell_type": "code",
   "execution_count": null,
   "id": "c6266db3-531c-42ec-863a-99713cdca284",
   "metadata": {},
   "outputs": [],
   "source": []
  }
 ],
 "metadata": {
  "kernelspec": {
   "display_name": "vitc_newkeras",
   "language": "python",
   "name": "vitc_newkeras"
  },
  "language_info": {
   "codemirror_mode": {
    "name": "ipython",
    "version": 3
   },
   "file_extension": ".py",
   "mimetype": "text/x-python",
   "name": "python",
   "nbconvert_exporter": "python",
   "pygments_lexer": "ipython3",
   "version": "3.7.0"
  }
 },
 "nbformat": 4,
 "nbformat_minor": 5
}
