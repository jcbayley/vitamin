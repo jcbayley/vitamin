{
 "cells": [
  {
   "cell_type": "code",
   "execution_count": 4,
   "metadata": {
    "Collapsed": "false"
   },
   "outputs": [],
   "source": [
    "import h5py\n",
    "import numpy as np\n",
    "import os\n",
    "import matplotlib.pyplot as plt\n",
    "from scipy.special import logsumexp\n",
    "import scipy.stats as stats\n",
    "import json\n",
    "import natsort"
   ]
  },
  {
   "cell_type": "code",
   "execution_count": 7,
   "metadata": {
    "Collapsed": "false"
   },
   "outputs": [],
   "source": [
    "root_dir = \"/home/joseph.bayley/data/CBC/O4/test_sets_gaussnoise/1024Hz_1s_full_15par_2det_fullparam/test_dynesty2/\""
   ]
  },
  {
   "cell_type": "code",
   "execution_count": 8,
   "metadata": {},
   "outputs": [],
   "source": [
    "wave_dir = \"/home/joseph.bayley/data/CBC/O4/test_sets_gaussnoise/1024Hz_1s_full_15par_2det_fullparam//test_waveforms/\""
   ]
  },
  {
   "cell_type": "code",
   "execution_count": 11,
   "metadata": {
    "Collapsed": "false"
   },
   "outputs": [],
   "source": [
    "bounds_file = \"/home/joseph.bayley/projects/Vitamin/vitamin_c_refact/vitamin_c/params_files_1024Hz_1s_polarisation/bounds.json\""
   ]
  },
  {
   "cell_type": "code",
   "execution_count": 12,
   "metadata": {
    "Collapsed": "false"
   },
   "outputs": [],
   "source": [
    "with open(os.path.join(root_dir, \"1024Hz_1s_full_15par_2det_fullparam_0_samples.dat\"),\"r\") as f:\n",
    "    labels = [str(i).strip(\"\\n\") for i in f.readline().split(\" \")]"
   ]
  },
  {
   "cell_type": "code",
   "execution_count": 13,
   "metadata": {
    "Collapsed": "false"
   },
   "outputs": [
    {
     "data": {
      "text/plain": [
       "['mass_1',\n",
       " 'mass_2',\n",
       " 'luminosity_distance',\n",
       " 'dec',\n",
       " 'ra',\n",
       " 'theta_jn',\n",
       " 'psi',\n",
       " 'a_1',\n",
       " 'a_2',\n",
       " 'tilt_1',\n",
       " 'tilt_2',\n",
       " 'phi_12',\n",
       " 'phi_jl',\n",
       " 'geocent_time']"
      ]
     },
     "execution_count": 13,
     "metadata": {},
     "output_type": "execute_result"
    }
   ],
   "source": [
    "labels"
   ]
  },
  {
   "cell_type": "code",
   "execution_count": 14,
   "metadata": {
    "Collapsed": "false"
   },
   "outputs": [],
   "source": [
    "with open(bounds_file,\"r\") as f:\n",
    "    bounds = json.load(f)"
   ]
  },
  {
   "cell_type": "code",
   "execution_count": 15,
   "metadata": {
    "Collapsed": "false"
   },
   "outputs": [],
   "source": [
    "scales = {}\n",
    "total_scale = 1\n",
    "for lab in labels:\n",
    "    if lab in [\"phi_12\",\"phi_jl\"]:\n",
    "        scales[lab] = 1\n",
    "    elif lab in [\"psi\"]:\n",
    "        scales[lab] = np.pi/2\n",
    "    elif lab in [\"phase\"]:\n",
    "        scales[lab] = np.pi\n",
    "    else:\n",
    "        scales[lab] = np.abs(bounds[lab + \"_max\"] - bounds[lab + \"_min\"])\n",
    "    total_scale *= scales[lab]"
   ]
  },
  {
   "cell_type": "code",
   "execution_count": 16,
   "metadata": {
    "Collapsed": "false"
   },
   "outputs": [
    {
     "data": {
      "text/plain": [
       "7479640420.970608"
      ]
     },
     "execution_count": 16,
     "metadata": {},
     "output_type": "execute_result"
    }
   ],
   "source": [
    "total_scale"
   ]
  },
  {
   "cell_type": "code",
   "execution_count": 17,
   "metadata": {
    "Collapsed": "false"
   },
   "outputs": [],
   "source": [
    "files = natsort.natsorted([os.path.join(root_dir,f) for f in os.listdir(root_dir) if f.endswith(\".h5py\")])\n",
    "waveform_files = natsort.natsorted([os.path.join(wave_dir,f) for f in os.listdir(wave_dir) if f.strip(\" ...\").endswith(\".h5py\")])\n",
    "hdf5files = natsort.natsorted([os.path.join(root_dir,f) for f in os.listdir(root_dir) if f.endswith(\".hdf5\")])"
   ]
  },
  {
   "cell_type": "code",
   "execution_count": 36,
   "metadata": {
    "Collapsed": "false",
    "collapsed": true,
    "jupyter": {
     "outputs_hidden": true
    },
    "tags": []
   },
   "outputs": [
    {
     "data": {
      "text/plain": [
       "['/home/joseph.bayley/data/CBC/O4MDC/test_sets/1024Hz_1s_full_15par_2det_fullparam/test_2_dynesty2/1024Hz_1s_full_15par_2det_fullparam_0.h5py',\n",
       " '/home/joseph.bayley/data/CBC/O4MDC/test_sets/1024Hz_1s_full_15par_2det_fullparam/test_2_dynesty2/1024Hz_1s_full_15par_2det_fullparam_1.h5py',\n",
       " '/home/joseph.bayley/data/CBC/O4MDC/test_sets/1024Hz_1s_full_15par_2det_fullparam/test_2_dynesty2/1024Hz_1s_full_15par_2det_fullparam_2.h5py',\n",
       " '/home/joseph.bayley/data/CBC/O4MDC/test_sets/1024Hz_1s_full_15par_2det_fullparam/test_2_dynesty2/1024Hz_1s_full_15par_2det_fullparam_3.h5py',\n",
       " '/home/joseph.bayley/data/CBC/O4MDC/test_sets/1024Hz_1s_full_15par_2det_fullparam/test_2_dynesty2/1024Hz_1s_full_15par_2det_fullparam_4.h5py',\n",
       " '/home/joseph.bayley/data/CBC/O4MDC/test_sets/1024Hz_1s_full_15par_2det_fullparam/test_2_dynesty2/1024Hz_1s_full_15par_2det_fullparam_5.h5py',\n",
       " '/home/joseph.bayley/data/CBC/O4MDC/test_sets/1024Hz_1s_full_15par_2det_fullparam/test_2_dynesty2/1024Hz_1s_full_15par_2det_fullparam_6.h5py',\n",
       " '/home/joseph.bayley/data/CBC/O4MDC/test_sets/1024Hz_1s_full_15par_2det_fullparam/test_2_dynesty2/1024Hz_1s_full_15par_2det_fullparam_7.h5py',\n",
       " '/home/joseph.bayley/data/CBC/O4MDC/test_sets/1024Hz_1s_full_15par_2det_fullparam/test_2_dynesty2/1024Hz_1s_full_15par_2det_fullparam_8.h5py',\n",
       " '/home/joseph.bayley/data/CBC/O4MDC/test_sets/1024Hz_1s_full_15par_2det_fullparam/test_2_dynesty2/1024Hz_1s_full_15par_2det_fullparam_9.h5py',\n",
       " '/home/joseph.bayley/data/CBC/O4MDC/test_sets/1024Hz_1s_full_15par_2det_fullparam/test_2_dynesty2/1024Hz_1s_full_15par_2det_fullparam_10.h5py',\n",
       " '/home/joseph.bayley/data/CBC/O4MDC/test_sets/1024Hz_1s_full_15par_2det_fullparam/test_2_dynesty2/1024Hz_1s_full_15par_2det_fullparam_11.h5py',\n",
       " '/home/joseph.bayley/data/CBC/O4MDC/test_sets/1024Hz_1s_full_15par_2det_fullparam/test_2_dynesty2/1024Hz_1s_full_15par_2det_fullparam_12.h5py',\n",
       " '/home/joseph.bayley/data/CBC/O4MDC/test_sets/1024Hz_1s_full_15par_2det_fullparam/test_2_dynesty2/1024Hz_1s_full_15par_2det_fullparam_13.h5py',\n",
       " '/home/joseph.bayley/data/CBC/O4MDC/test_sets/1024Hz_1s_full_15par_2det_fullparam/test_2_dynesty2/1024Hz_1s_full_15par_2det_fullparam_14.h5py',\n",
       " '/home/joseph.bayley/data/CBC/O4MDC/test_sets/1024Hz_1s_full_15par_2det_fullparam/test_2_dynesty2/1024Hz_1s_full_15par_2det_fullparam_15.h5py',\n",
       " '/home/joseph.bayley/data/CBC/O4MDC/test_sets/1024Hz_1s_full_15par_2det_fullparam/test_2_dynesty2/1024Hz_1s_full_15par_2det_fullparam_16.h5py',\n",
       " '/home/joseph.bayley/data/CBC/O4MDC/test_sets/1024Hz_1s_full_15par_2det_fullparam/test_2_dynesty2/1024Hz_1s_full_15par_2det_fullparam_17.h5py',\n",
       " '/home/joseph.bayley/data/CBC/O4MDC/test_sets/1024Hz_1s_full_15par_2det_fullparam/test_2_dynesty2/1024Hz_1s_full_15par_2det_fullparam_18.h5py',\n",
       " '/home/joseph.bayley/data/CBC/O4MDC/test_sets/1024Hz_1s_full_15par_2det_fullparam/test_2_dynesty2/1024Hz_1s_full_15par_2det_fullparam_19.h5py',\n",
       " '/home/joseph.bayley/data/CBC/O4MDC/test_sets/1024Hz_1s_full_15par_2det_fullparam/test_2_dynesty2/1024Hz_1s_full_15par_2det_fullparam_20.h5py',\n",
       " '/home/joseph.bayley/data/CBC/O4MDC/test_sets/1024Hz_1s_full_15par_2det_fullparam/test_2_dynesty2/1024Hz_1s_full_15par_2det_fullparam_21.h5py',\n",
       " '/home/joseph.bayley/data/CBC/O4MDC/test_sets/1024Hz_1s_full_15par_2det_fullparam/test_2_dynesty2/1024Hz_1s_full_15par_2det_fullparam_22.h5py',\n",
       " '/home/joseph.bayley/data/CBC/O4MDC/test_sets/1024Hz_1s_full_15par_2det_fullparam/test_2_dynesty2/1024Hz_1s_full_15par_2det_fullparam_23.h5py',\n",
       " '/home/joseph.bayley/data/CBC/O4MDC/test_sets/1024Hz_1s_full_15par_2det_fullparam/test_2_dynesty2/1024Hz_1s_full_15par_2det_fullparam_24.h5py',\n",
       " '/home/joseph.bayley/data/CBC/O4MDC/test_sets/1024Hz_1s_full_15par_2det_fullparam/test_2_dynesty2/1024Hz_1s_full_15par_2det_fullparam_25.h5py',\n",
       " '/home/joseph.bayley/data/CBC/O4MDC/test_sets/1024Hz_1s_full_15par_2det_fullparam/test_2_dynesty2/1024Hz_1s_full_15par_2det_fullparam_26.h5py',\n",
       " '/home/joseph.bayley/data/CBC/O4MDC/test_sets/1024Hz_1s_full_15par_2det_fullparam/test_2_dynesty2/1024Hz_1s_full_15par_2det_fullparam_27.h5py',\n",
       " '/home/joseph.bayley/data/CBC/O4MDC/test_sets/1024Hz_1s_full_15par_2det_fullparam/test_2_dynesty2/1024Hz_1s_full_15par_2det_fullparam_28.h5py',\n",
       " '/home/joseph.bayley/data/CBC/O4MDC/test_sets/1024Hz_1s_full_15par_2det_fullparam/test_2_dynesty2/1024Hz_1s_full_15par_2det_fullparam_29.h5py',\n",
       " '/home/joseph.bayley/data/CBC/O4MDC/test_sets/1024Hz_1s_full_15par_2det_fullparam/test_2_dynesty2/1024Hz_1s_full_15par_2det_fullparam_30.h5py',\n",
       " '/home/joseph.bayley/data/CBC/O4MDC/test_sets/1024Hz_1s_full_15par_2det_fullparam/test_2_dynesty2/1024Hz_1s_full_15par_2det_fullparam_31.h5py',\n",
       " '/home/joseph.bayley/data/CBC/O4MDC/test_sets/1024Hz_1s_full_15par_2det_fullparam/test_2_dynesty2/1024Hz_1s_full_15par_2det_fullparam_32.h5py',\n",
       " '/home/joseph.bayley/data/CBC/O4MDC/test_sets/1024Hz_1s_full_15par_2det_fullparam/test_2_dynesty2/1024Hz_1s_full_15par_2det_fullparam_33.h5py',\n",
       " '/home/joseph.bayley/data/CBC/O4MDC/test_sets/1024Hz_1s_full_15par_2det_fullparam/test_2_dynesty2/1024Hz_1s_full_15par_2det_fullparam_34.h5py',\n",
       " '/home/joseph.bayley/data/CBC/O4MDC/test_sets/1024Hz_1s_full_15par_2det_fullparam/test_2_dynesty2/1024Hz_1s_full_15par_2det_fullparam_35.h5py',\n",
       " '/home/joseph.bayley/data/CBC/O4MDC/test_sets/1024Hz_1s_full_15par_2det_fullparam/test_2_dynesty2/1024Hz_1s_full_15par_2det_fullparam_36.h5py',\n",
       " '/home/joseph.bayley/data/CBC/O4MDC/test_sets/1024Hz_1s_full_15par_2det_fullparam/test_2_dynesty2/1024Hz_1s_full_15par_2det_fullparam_37.h5py',\n",
       " '/home/joseph.bayley/data/CBC/O4MDC/test_sets/1024Hz_1s_full_15par_2det_fullparam/test_2_dynesty2/1024Hz_1s_full_15par_2det_fullparam_38.h5py',\n",
       " '/home/joseph.bayley/data/CBC/O4MDC/test_sets/1024Hz_1s_full_15par_2det_fullparam/test_2_dynesty2/1024Hz_1s_full_15par_2det_fullparam_39.h5py',\n",
       " '/home/joseph.bayley/data/CBC/O4MDC/test_sets/1024Hz_1s_full_15par_2det_fullparam/test_2_dynesty2/1024Hz_1s_full_15par_2det_fullparam_40.h5py',\n",
       " '/home/joseph.bayley/data/CBC/O4MDC/test_sets/1024Hz_1s_full_15par_2det_fullparam/test_2_dynesty2/1024Hz_1s_full_15par_2det_fullparam_41.h5py',\n",
       " '/home/joseph.bayley/data/CBC/O4MDC/test_sets/1024Hz_1s_full_15par_2det_fullparam/test_2_dynesty2/1024Hz_1s_full_15par_2det_fullparam_42.h5py',\n",
       " '/home/joseph.bayley/data/CBC/O4MDC/test_sets/1024Hz_1s_full_15par_2det_fullparam/test_2_dynesty2/1024Hz_1s_full_15par_2det_fullparam_43.h5py',\n",
       " '/home/joseph.bayley/data/CBC/O4MDC/test_sets/1024Hz_1s_full_15par_2det_fullparam/test_2_dynesty2/1024Hz_1s_full_15par_2det_fullparam_44.h5py',\n",
       " '/home/joseph.bayley/data/CBC/O4MDC/test_sets/1024Hz_1s_full_15par_2det_fullparam/test_2_dynesty2/1024Hz_1s_full_15par_2det_fullparam_45.h5py',\n",
       " '/home/joseph.bayley/data/CBC/O4MDC/test_sets/1024Hz_1s_full_15par_2det_fullparam/test_2_dynesty2/1024Hz_1s_full_15par_2det_fullparam_46.h5py',\n",
       " '/home/joseph.bayley/data/CBC/O4MDC/test_sets/1024Hz_1s_full_15par_2det_fullparam/test_2_dynesty2/1024Hz_1s_full_15par_2det_fullparam_47.h5py',\n",
       " '/home/joseph.bayley/data/CBC/O4MDC/test_sets/1024Hz_1s_full_15par_2det_fullparam/test_2_dynesty2/1024Hz_1s_full_15par_2det_fullparam_48.h5py',\n",
       " '/home/joseph.bayley/data/CBC/O4MDC/test_sets/1024Hz_1s_full_15par_2det_fullparam/test_2_dynesty2/1024Hz_1s_full_15par_2det_fullparam_49.h5py',\n",
       " '/home/joseph.bayley/data/CBC/O4MDC/test_sets/1024Hz_1s_full_15par_2det_fullparam/test_2_dynesty2/1024Hz_1s_full_15par_2det_fullparam_50.h5py',\n",
       " '/home/joseph.bayley/data/CBC/O4MDC/test_sets/1024Hz_1s_full_15par_2det_fullparam/test_2_dynesty2/1024Hz_1s_full_15par_2det_fullparam_51.h5py',\n",
       " '/home/joseph.bayley/data/CBC/O4MDC/test_sets/1024Hz_1s_full_15par_2det_fullparam/test_2_dynesty2/1024Hz_1s_full_15par_2det_fullparam_52.h5py',\n",
       " '/home/joseph.bayley/data/CBC/O4MDC/test_sets/1024Hz_1s_full_15par_2det_fullparam/test_2_dynesty2/1024Hz_1s_full_15par_2det_fullparam_53.h5py',\n",
       " '/home/joseph.bayley/data/CBC/O4MDC/test_sets/1024Hz_1s_full_15par_2det_fullparam/test_2_dynesty2/1024Hz_1s_full_15par_2det_fullparam_54.h5py',\n",
       " '/home/joseph.bayley/data/CBC/O4MDC/test_sets/1024Hz_1s_full_15par_2det_fullparam/test_2_dynesty2/1024Hz_1s_full_15par_2det_fullparam_55.h5py',\n",
       " '/home/joseph.bayley/data/CBC/O4MDC/test_sets/1024Hz_1s_full_15par_2det_fullparam/test_2_dynesty2/1024Hz_1s_full_15par_2det_fullparam_56.h5py',\n",
       " '/home/joseph.bayley/data/CBC/O4MDC/test_sets/1024Hz_1s_full_15par_2det_fullparam/test_2_dynesty2/1024Hz_1s_full_15par_2det_fullparam_57.h5py',\n",
       " '/home/joseph.bayley/data/CBC/O4MDC/test_sets/1024Hz_1s_full_15par_2det_fullparam/test_2_dynesty2/1024Hz_1s_full_15par_2det_fullparam_58.h5py',\n",
       " '/home/joseph.bayley/data/CBC/O4MDC/test_sets/1024Hz_1s_full_15par_2det_fullparam/test_2_dynesty2/1024Hz_1s_full_15par_2det_fullparam_59.h5py',\n",
       " '/home/joseph.bayley/data/CBC/O4MDC/test_sets/1024Hz_1s_full_15par_2det_fullparam/test_2_dynesty2/1024Hz_1s_full_15par_2det_fullparam_60.h5py',\n",
       " '/home/joseph.bayley/data/CBC/O4MDC/test_sets/1024Hz_1s_full_15par_2det_fullparam/test_2_dynesty2/1024Hz_1s_full_15par_2det_fullparam_61.h5py',\n",
       " '/home/joseph.bayley/data/CBC/O4MDC/test_sets/1024Hz_1s_full_15par_2det_fullparam/test_2_dynesty2/1024Hz_1s_full_15par_2det_fullparam_62.h5py',\n",
       " '/home/joseph.bayley/data/CBC/O4MDC/test_sets/1024Hz_1s_full_15par_2det_fullparam/test_2_dynesty2/1024Hz_1s_full_15par_2det_fullparam_63.h5py',\n",
       " '/home/joseph.bayley/data/CBC/O4MDC/test_sets/1024Hz_1s_full_15par_2det_fullparam/test_2_dynesty2/1024Hz_1s_full_15par_2det_fullparam_64.h5py',\n",
       " '/home/joseph.bayley/data/CBC/O4MDC/test_sets/1024Hz_1s_full_15par_2det_fullparam/test_2_dynesty2/1024Hz_1s_full_15par_2det_fullparam_65.h5py',\n",
       " '/home/joseph.bayley/data/CBC/O4MDC/test_sets/1024Hz_1s_full_15par_2det_fullparam/test_2_dynesty2/1024Hz_1s_full_15par_2det_fullparam_66.h5py',\n",
       " '/home/joseph.bayley/data/CBC/O4MDC/test_sets/1024Hz_1s_full_15par_2det_fullparam/test_2_dynesty2/1024Hz_1s_full_15par_2det_fullparam_67.h5py',\n",
       " '/home/joseph.bayley/data/CBC/O4MDC/test_sets/1024Hz_1s_full_15par_2det_fullparam/test_2_dynesty2/1024Hz_1s_full_15par_2det_fullparam_68.h5py',\n",
       " '/home/joseph.bayley/data/CBC/O4MDC/test_sets/1024Hz_1s_full_15par_2det_fullparam/test_2_dynesty2/1024Hz_1s_full_15par_2det_fullparam_69.h5py',\n",
       " '/home/joseph.bayley/data/CBC/O4MDC/test_sets/1024Hz_1s_full_15par_2det_fullparam/test_2_dynesty2/1024Hz_1s_full_15par_2det_fullparam_70.h5py',\n",
       " '/home/joseph.bayley/data/CBC/O4MDC/test_sets/1024Hz_1s_full_15par_2det_fullparam/test_2_dynesty2/1024Hz_1s_full_15par_2det_fullparam_71.h5py',\n",
       " '/home/joseph.bayley/data/CBC/O4MDC/test_sets/1024Hz_1s_full_15par_2det_fullparam/test_2_dynesty2/1024Hz_1s_full_15par_2det_fullparam_72.h5py',\n",
       " '/home/joseph.bayley/data/CBC/O4MDC/test_sets/1024Hz_1s_full_15par_2det_fullparam/test_2_dynesty2/1024Hz_1s_full_15par_2det_fullparam_73.h5py',\n",
       " '/home/joseph.bayley/data/CBC/O4MDC/test_sets/1024Hz_1s_full_15par_2det_fullparam/test_2_dynesty2/1024Hz_1s_full_15par_2det_fullparam_74.h5py',\n",
       " '/home/joseph.bayley/data/CBC/O4MDC/test_sets/1024Hz_1s_full_15par_2det_fullparam/test_2_dynesty2/1024Hz_1s_full_15par_2det_fullparam_75.h5py',\n",
       " '/home/joseph.bayley/data/CBC/O4MDC/test_sets/1024Hz_1s_full_15par_2det_fullparam/test_2_dynesty2/1024Hz_1s_full_15par_2det_fullparam_76.h5py',\n",
       " '/home/joseph.bayley/data/CBC/O4MDC/test_sets/1024Hz_1s_full_15par_2det_fullparam/test_2_dynesty2/1024Hz_1s_full_15par_2det_fullparam_77.h5py',\n",
       " '/home/joseph.bayley/data/CBC/O4MDC/test_sets/1024Hz_1s_full_15par_2det_fullparam/test_2_dynesty2/1024Hz_1s_full_15par_2det_fullparam_78.h5py',\n",
       " '/home/joseph.bayley/data/CBC/O4MDC/test_sets/1024Hz_1s_full_15par_2det_fullparam/test_2_dynesty2/1024Hz_1s_full_15par_2det_fullparam_79.h5py',\n",
       " '/home/joseph.bayley/data/CBC/O4MDC/test_sets/1024Hz_1s_full_15par_2det_fullparam/test_2_dynesty2/1024Hz_1s_full_15par_2det_fullparam_80.h5py',\n",
       " '/home/joseph.bayley/data/CBC/O4MDC/test_sets/1024Hz_1s_full_15par_2det_fullparam/test_2_dynesty2/1024Hz_1s_full_15par_2det_fullparam_81.h5py',\n",
       " '/home/joseph.bayley/data/CBC/O4MDC/test_sets/1024Hz_1s_full_15par_2det_fullparam/test_2_dynesty2/1024Hz_1s_full_15par_2det_fullparam_82.h5py',\n",
       " '/home/joseph.bayley/data/CBC/O4MDC/test_sets/1024Hz_1s_full_15par_2det_fullparam/test_2_dynesty2/1024Hz_1s_full_15par_2det_fullparam_83.h5py',\n",
       " '/home/joseph.bayley/data/CBC/O4MDC/test_sets/1024Hz_1s_full_15par_2det_fullparam/test_2_dynesty2/1024Hz_1s_full_15par_2det_fullparam_84.h5py',\n",
       " '/home/joseph.bayley/data/CBC/O4MDC/test_sets/1024Hz_1s_full_15par_2det_fullparam/test_2_dynesty2/1024Hz_1s_full_15par_2det_fullparam_85.h5py',\n",
       " '/home/joseph.bayley/data/CBC/O4MDC/test_sets/1024Hz_1s_full_15par_2det_fullparam/test_2_dynesty2/1024Hz_1s_full_15par_2det_fullparam_86.h5py',\n",
       " '/home/joseph.bayley/data/CBC/O4MDC/test_sets/1024Hz_1s_full_15par_2det_fullparam/test_2_dynesty2/1024Hz_1s_full_15par_2det_fullparam_87.h5py',\n",
       " '/home/joseph.bayley/data/CBC/O4MDC/test_sets/1024Hz_1s_full_15par_2det_fullparam/test_2_dynesty2/1024Hz_1s_full_15par_2det_fullparam_88.h5py',\n",
       " '/home/joseph.bayley/data/CBC/O4MDC/test_sets/1024Hz_1s_full_15par_2det_fullparam/test_2_dynesty2/1024Hz_1s_full_15par_2det_fullparam_89.h5py',\n",
       " '/home/joseph.bayley/data/CBC/O4MDC/test_sets/1024Hz_1s_full_15par_2det_fullparam/test_2_dynesty2/1024Hz_1s_full_15par_2det_fullparam_90.h5py',\n",
       " '/home/joseph.bayley/data/CBC/O4MDC/test_sets/1024Hz_1s_full_15par_2det_fullparam/test_2_dynesty2/1024Hz_1s_full_15par_2det_fullparam_91.h5py',\n",
       " '/home/joseph.bayley/data/CBC/O4MDC/test_sets/1024Hz_1s_full_15par_2det_fullparam/test_2_dynesty2/1024Hz_1s_full_15par_2det_fullparam_92.h5py',\n",
       " '/home/joseph.bayley/data/CBC/O4MDC/test_sets/1024Hz_1s_full_15par_2det_fullparam/test_2_dynesty2/1024Hz_1s_full_15par_2det_fullparam_93.h5py',\n",
       " '/home/joseph.bayley/data/CBC/O4MDC/test_sets/1024Hz_1s_full_15par_2det_fullparam/test_2_dynesty2/1024Hz_1s_full_15par_2det_fullparam_94.h5py',\n",
       " '/home/joseph.bayley/data/CBC/O4MDC/test_sets/1024Hz_1s_full_15par_2det_fullparam/test_2_dynesty2/1024Hz_1s_full_15par_2det_fullparam_95.h5py',\n",
       " '/home/joseph.bayley/data/CBC/O4MDC/test_sets/1024Hz_1s_full_15par_2det_fullparam/test_2_dynesty2/1024Hz_1s_full_15par_2det_fullparam_96.h5py',\n",
       " '/home/joseph.bayley/data/CBC/O4MDC/test_sets/1024Hz_1s_full_15par_2det_fullparam/test_2_dynesty2/1024Hz_1s_full_15par_2det_fullparam_97.h5py',\n",
       " '/home/joseph.bayley/data/CBC/O4MDC/test_sets/1024Hz_1s_full_15par_2det_fullparam/test_2_dynesty2/1024Hz_1s_full_15par_2det_fullparam_98.h5py',\n",
       " '/home/joseph.bayley/data/CBC/O4MDC/test_sets/1024Hz_1s_full_15par_2det_fullparam/test_2_dynesty2/1024Hz_1s_full_15par_2det_fullparam_99.h5py']"
      ]
     },
     "execution_count": 36,
     "metadata": {},
     "output_type": "execute_result"
    }
   ],
   "source": [
    "files"
   ]
  },
  {
   "cell_type": "code",
   "execution_count": 62,
   "metadata": {},
   "outputs": [
    {
     "name": "stdout",
     "output_type": "stream",
     "text": [
      "<KeysViewHDF5 ['__module__', '__name__', 'constraint_parameter_keys', 'fixed_parameter_keys', 'information_gain', 'injection_parameters', 'label', 'log_bayes_factor', 'log_evidence', 'log_evidence_err', 'log_likelihood_evaluations', 'log_noise_evidence', 'log_prior_evaluations', 'meta_data', 'nested_samples', 'outdir', 'parameter_labels', 'parameter_labels_with_unit', 'posterior', 'priors', 'sampler', 'sampler_kwargs', 'samples', 'sampling_time', 'search_parameter_keys', 'use_ratio', 'version']>\n",
      "-1025.1489926759298\n"
     ]
    }
   ],
   "source": [
    "with h5py.File(hdf5files[0],\"r\") as f:\n",
    "    print(f.keys())\n",
    "    print(np.array(f['log_evidence']))"
   ]
  },
  {
   "cell_type": "code",
   "execution_count": null,
   "metadata": {},
   "outputs": [],
   "source": []
  },
  {
   "cell_type": "code",
   "execution_count": 16,
   "metadata": {
    "Collapsed": "false"
   },
   "outputs": [],
   "source": [
    "log_evidences = np.array([-1025.437, -960.12,-967.734, -958.845, -1036.076, -1003.259, -1018.907, -1003.116, -996.577, -1030.878])"
   ]
  },
  {
   "cell_type": "code",
   "execution_count": 17,
   "metadata": {
    "Collapsed": "false"
   },
   "outputs": [
    {
     "data": {
      "text/plain": [
       "array([-5.90568737e+11, -5.90568737e+11, -5.90568737e+11, -5.90568737e+11,\n",
       "       -5.90568737e+11, -5.90568737e+11, -5.90568737e+11, -5.90568737e+11,\n",
       "       -5.90568737e+11, -5.90568737e+11])"
      ]
     },
     "execution_count": 17,
     "metadata": {},
     "output_type": "execute_result"
    }
   ],
   "source": [
    "log_evidences - total_scale"
   ]
  },
  {
   "cell_type": "markdown",
   "metadata": {
    "Collapsed": "false"
   },
   "source": [
    "\\begin{equation}\n",
    "H = -E_{p(y)}\\left[ \\int p(x \\mid y) \\log{p(x \\mid y)} dx\\right]\n",
    "\\end{equation}\n",
    "which can be written as\n",
    "\\begin{equation}\n",
    "H =  \\int \\int p(y) p(x \\mid y) \\log{p(x \\mid y)} dx dy\n",
    "\\end{equation}"
   ]
  },
  {
   "cell_type": "markdown",
   "metadata": {
    "Collapsed": "false"
   },
   "source": [
    "Another way may be to use importance sampling as we have a set of samples $x_i$ drawn from $p(x \\mid y)$.\n",
    "Where importance sampling is a way to evaluate the integral\n",
    "\\begin{equation}\n",
    "I = \\int f(x) dx\n",
    "\\end{equation}\n",
    "which can be rewritten using a weight function $w(x)$ \n",
    "\\begin{equation}\n",
    "I = \\int  \\frac{f(x)}{w(x)} w(x) dx.\n",
    "\\end{equation}\n",
    "We can then draw a set of points from the distribution $w(x)$, which allows us to evaluate the integral as\n",
    "\\begin{equation}\n",
    "I = \\frac{1}{N}\\sum_i^N  \\frac{f(x_i)}{w(x_i)}.\n",
    "\\end{equation}\n",
    "We can rewrite this in terms of our integral in the entropy.\n",
    "\\begin{equation}\n",
    "H = -E_{p(y)}\\left[ \\int p(x \\mid y) \\log{p(x \\mid y)} dx\\right] = E_{p(y)}\\left[ I \\right].\n",
    "\\end{equation}\n",
    "We can calculate the integral $I$ over dx using our samples $x_i$ which are from $w(x) = p(x \\mid y)$ where we can set \n",
    "$f(x) = p(x \\mid y) \\log{p(x \\mid y)}$\n",
    "\n",
    "\\begin{equation}\n",
    "I = \\frac{1}{N}\\sum_i^N  \\frac{p(x_i \\mid y) \\log{p(x_i \\mid y)}}{p(x_i \\mid y)} = \\frac{1}{N}\\sum_i^N  \\log{p(x_i \\mid y)} = \\frac{1}{N}\\sum_i^N  \\log{\\frac{p(x_i)p(y \\mid x_i)}{p(y)}}\n",
    "\\end{equation}\n",
    "which we can expand out the log such that we have two distributions for which we have access to the values of\n",
    "\\begin{equation}\n",
    "\\begin{split}\n",
    "I &= \\frac{1}{N}\\sum_i^N  \\log{p(x_i)} + \\log{p(y \\mid x_i)} - \\log{p(y)} \\\\\n",
    "&= -\\log{p(y)} + \\frac{1}{N}\\sum_i^N  \\log{p(x_i)} + \\log{p(y \\mid x_i)}\n",
    "\\end{split}\n",
    "\\end{equation}\n",
    "The expectation value of the integral then becomes\n",
    "\\begin{equation}\n",
    "\\begin{split}\n",
    "H &=  -\\left< I \\right> = \\left< \\log{p(y)} - \\frac{1}{N}\\sum_i^N  \\left[\\log{p(x_i)} + \\log{p(y \\mid x_i)}\\right] \\right>\n",
    "\\end{split}\n",
    "\\end{equation}"
   ]
  },
  {
   "cell_type": "markdown",
   "metadata": {
    "Collapsed": "false"
   },
   "source": [
    "Rescaling the prior distribution:\n",
    "\\begin{equation}\n",
    "\\begin{split}\n",
    "x^{(R)} &= s x \\\\\n",
    "\\frac{dx^{(R)}}{dx} &= s \\\\\n",
    "p(x^{(R)}) &= p(x) \\left| \\frac{dx}{dx^{(R)}} \\right| \\\\\n",
    "\\end{split}\n",
    "\\end{equation}\n",
    "where $s_i$ is the scaling of each of the parameters \n",
    "The determinant of the Jacobian is the product of the diagonals, therefore\n",
    "\\begin{equation}\n",
    "p(x^{(R)}) = p(x) \\frac{1}{ \\prod_i s_i}\n",
    "\\end{equation}\n",
    "\n",
    "Rescaling the likelihood.\n",
    "We rescale the timeseries by a factor of $s_y$, which is equivalent to rescaling the frequency spectrum by the same amount\n",
    "\\begin{equation}\n",
    "p(y \\mid x) = \\prod_i^N \\frac{1}{2 \\pi S_n(f_i)} \\exp{ \\left\\{ \\frac{nn^{*}}{S_n(f)} \\right\\}}\n",
    "\\end{equation}\n",
    "\\begin{equation}\n",
    "p(y^{(R)} \\mid x^{(R)}) = \\prod_i^N \\frac{1}{2 \\pi S_n(f_i) s_y} \\exp{ \\left\\{ \\frac{nn^{*} s_y}{S_n(f) s_y} \\right\\}}\n",
    "\\end{equation}\n",
    "where $s_y$ is the scaling of the data\n",
    "Therefore,\n",
    "\\begin{equation}\n",
    "\\begin{split}\n",
    "p(y^{(R)} \\mid x^{(R)}) &= \\left( \\frac{1}{s_y}\\right)^N p(y \\mid x) \\\\\n",
    "\\log p(y^{(R)} \\mid x^{(R)}) &= \\log \\left[\\left( \\frac{1}{s_y}\\right)^N p(y \\mid x) \\right] \\\\\n",
    "&= \\log p(y \\mid x) - N \\log(s_y)\n",
    "\\end{split}\n",
    "\\end{equation}\n",
    "\n",
    "Rescaling the Evidence\n",
    "\\begin{equation}\n",
    "p(y) = Z = \\int p(y|x)p(x)dx\n",
    "\\end{equation}\n",
    "\\begin{equation}\n",
    "\\begin{split}\n",
    "p(y^{(R)}) &= Z^{(R)} = \\int p(y^{(R)}|x^{(R)})p(x^{(R)})dx^{(R)} \\\\\n",
    "& = \\int p(y^{(R)}|x^{(R)})p(x)dx \\\\\n",
    "&= \\left( \\frac{1}{s_y}\\right)^N \\int p(y \\mid x)p(x)dx \\\\\n",
    "&= \\left( \\frac{1}{s_y}\\right)^N Z\n",
    "\\end{split}\n",
    "\\end{equation}\n",
    "Therefore \n",
    "\\begin{equation}\n",
    "\\log Z^{(R)} = \\log Z - N\\log(s_y)\n",
    "\\end{equation}"
   ]
  },
  {
   "cell_type": "code",
   "execution_count": 18,
   "metadata": {
    "Collapsed": "false"
   },
   "outputs": [
    {
     "data": {
      "text/plain": [
       "27.104351869093183"
      ]
     },
     "execution_count": 18,
     "metadata": {},
     "output_type": "execute_result"
    }
   ],
   "source": [
    "np.log(total_scale)"
   ]
  },
  {
   "cell_type": "code",
   "execution_count": 18,
   "metadata": {
    "Collapsed": "false",
    "collapsed": true,
    "jupyter": {
     "outputs_hidden": true
    },
    "tags": []
   },
   "outputs": [
    {
     "name": "stdout",
     "output_type": "stream",
     "text": [
      "-1.3692282295909308 -3.619015923473933 3.402490631859373\n",
      "305.3081861683381 -4.362893436025396 323.0661162044372\n",
      "272.3665729488049 -3.986854053610091 289.77925998192234\n",
      "4.206731836469885 -3.881642344947894 15.956729372226526\n",
      "175.85684038523664 -4.2939291972696845 192.94076481577127\n",
      "-2.762185208888809 -3.6465923006456165 0.30823819771787503\n",
      "543.8976464246462 -4.697374552406122 568.6013361795447\n",
      "24.96500363390419 -4.236881097201776 43.17048977926802\n",
      "45.40770420227693 -2.964907765131226 73.29810265081345\n",
      "51.73130476234155 -3.3303289466801274 64.14694534217584\n",
      "1374.1757951072348 -3.681555334477934 1402.3343487638563\n",
      "41.10147964242219 -4.237419917212247 56.682824621303716\n",
      "121.51132173479732 -3.9853719633319242 139.40181215181045\n",
      "53.13446232752267 -3.686010808738988 69.70931025377969\n",
      "0.7705488595709085 -3.656162833537538 9.145656790625305\n",
      "-0.29781489200945543 -3.5402702444119534 6.864013977084178\n",
      "-0.2150956273223983 -3.601185836344714 5.673289201797757\n",
      "58.43913064871572 -4.276156322353819 73.37199300318045\n",
      "8.089009763286185 -3.95780663687684 22.3642737413668\n",
      "49.36961848048679 -2.9611590129825522 72.98982283000636\n",
      "0.44245596756434225 -3.795237487553616 9.495137273755121\n",
      "46.115923235251444 -4.113017057292967 67.86746943069629\n",
      "1.068799688893023 -3.795660458433599 14.831301575996369\n",
      "41843.43497678466 -4.343523123368534 41890.34198433362\n",
      "3.6101137062955786 -3.547648050194016 14.337256615649109\n",
      "17.89808558236882 -3.4032682762758983 28.71413621160772\n",
      "32.68240083713579 -3.643849891448109 44.978340104055576\n",
      "-2.1445988366239135 -3.613723917113197 1.5661988960424762\n",
      "8.038480510816498 -3.4979323552522055 17.864000918387912\n",
      "111.56486054270954 -3.4450647720411967 127.24771935542786\n",
      "2728.5477848506844 -3.1362351433571267 2767.5144643574317\n",
      "-1.770402916982448 -3.6508568637295786 2.0066911276681623\n",
      "-0.3083206930970164 -3.640696712041458 4.702474837520559\n",
      "17.529716819049668 -3.6993069681293944 29.208922868930383\n",
      "-1.6789889574628205 -3.6652283531730427 2.5469294505783022\n",
      "1.8264421600035803 -3.519133795189823 10.125645991927158\n",
      "540.3871727530965 -4.32541289010512 561.445332928508\n",
      "12.610704676155478 -3.7601307570273366 24.842580766761618\n",
      "116.80330163512303 -3.7674458490837015 132.01027147362572\n",
      "28.573446167833936 -4.088204038251061 44.18266879981394\n",
      "23.16582903065637 -3.838993028235499 39.052884036286464\n",
      "20.34456375930847 -4.136335881579746 32.00516863716347\n",
      "0.6805463905810711 -3.79419876643688 11.158379881694135\n",
      "153.87857383644064 -4.028166448420261 172.76523451400504\n",
      "20.26633418459039 -3.6773637766347704 32.803695106645385\n",
      "791.0083778630355 -4.047676965537814 814.9636264582416\n",
      "15.331183648371052 -3.9529672023937645 25.966967288033377\n",
      "358.8137397519031 -3.461857420303381 386.9706968707969\n",
      "237.95735225430883 -3.932657116895594 254.129200935868\n",
      "834.2849033543877 -3.8713000937639217 866.774082730185\n",
      "6.332967917971814 -3.7047062461628433 15.758317796334861\n",
      "-1.710397835058302 -3.654043358756118 2.8515291131529463\n",
      "-1.2332027924228441 -3.697427758274354 3.5152391498998603\n",
      "356.87481181412636 -3.2807461267546 386.19853998364505\n",
      "164.36876287349878 -3.794123635940915 179.97195310137886\n",
      "0.2219620705241141 -3.727719894186075 8.78903989301775\n",
      "157.3143473583201 -3.941059731711396 175.02684854310849\n",
      "-1.434575051369393 -3.6039214089035125 2.854848231562032\n",
      "-1.1704355479724882 -3.6202113522270802 3.088592620094071\n",
      "34.0876049984455 -3.6342804033246416 50.69074863194253\n",
      "3723.312536489123 -3.958884690934617 3767.6723852398122\n",
      "42.67196154466296 -4.25771781836183 54.44274160707358\n",
      "12090.820377258773 -3.8559702737676007 12131.620373086054\n",
      "-1.6593536700961522 -3.6022437812082315 2.0551425120954234\n",
      "-1.781788898705713 -3.6409500905405086 2.7083671110631484\n",
      "5.707183034336367 -3.642595273815724 15.816240594911125\n",
      "7.420150028219268 -3.906411538371433 22.34532826749208\n",
      "14.439807370886001 -3.763293411331818 24.808038704865822\n",
      "3.448900921393715 -3.562059645619902 13.263936748809034\n",
      "-1.7321551163289541 -3.6017210562717126 2.8222242026598106\n",
      "689.6759341276426 -3.822101297572987 715.0522421717541\n",
      "100.4556884979188 -3.538974859554 123.91252005452684\n",
      "-0.7816738474500653 -3.7469048894005423 5.804792487761363\n",
      "466.87628948805786 -4.09698216177695 488.79089792768497\n",
      "6547.713724608377 -3.8431082848552585 6580.632543149787\n",
      "770.0102262918122 -4.162933496283419 796.7067385018778\n",
      "210.97549178269105 -3.7781841588253475 230.27017439006417\n",
      "17.09114239270184 -3.405547133396193 29.008059136774623\n",
      "33.229721536960824 -4.4139526994063445 53.911249089481515\n",
      "8.509907082259133 -3.425280026077414 20.160192413821562\n",
      "-1.3975526367767088 -3.6661528070841807 2.9481113494871747\n",
      "-2.2787172520311287 -3.611439017600279 0.9498345282685724\n",
      "3817.824676162266 -3.264413484205353 3850.8478132476534\n",
      "36.22100021879032 -3.7703391118659493 59.37117546510255\n",
      "428.87860419024753 -4.035658783361789 451.03238815680186\n",
      "-2.07008547085195 -3.6318820498901343 1.39560521737155\n",
      "7.46549283262641 -3.68448039666365 20.345480858600787\n",
      "-2.122563503924084 -3.621379134724834 1.4948502295374428\n",
      "9.594992232772938 -4.069292394934529 21.980329465964246\n",
      "987.0131762840853 -3.4943619483445416 1018.9320441110607\n",
      "39.993539557632175 -3.902534024269746 53.54523058797768\n",
      "588.9446887536293 -4.600491604943561 612.6229440831007\n",
      "38.120391909584896 -3.4388174884302165 60.36245461144489\n",
      "-1.617638121348591 -3.605206501932606 2.9581577819729996\n",
      "866.3475048537109 -4.436999640785585 889.0541105740358\n",
      "10.010519103267939 -3.6895503790102606 24.765949534481383\n",
      "8097.394892039617 -3.275987855779651 8138.06011701803\n",
      "5419.165883033527 -4.490448276160261 5455.864868357406\n",
      "65.30453684270162 -3.4878539341772106 78.12690731527\n",
      "161.29475839606926 -3.526692247674275 177.1580662139228\n",
      "455.18293905977487 -3.31178786185315 482.87971452343277\n",
      "-1.1394898337126733 -3.656580667291784 5.603716148992261\n",
      "25.826422553583257 -3.9336582924263723 38.99450779957977\n",
      "-2.1115787414843226 -3.6473526184827842 1.5913937548617416\n",
      "251.05633579709024 -3.200001641838387 280.5107621990438\n",
      "147.5840562403812 -3.183775853992454 171.69004968339976\n",
      "-1.992167145696385 -3.6493508241609174 1.6567928485456116\n",
      "54.43255770289716 -3.8397570874848292 69.49228402239919\n",
      "3864.3195193039314 -3.6073454793332065 3899.8411234210503\n",
      "208.15311433020156 -3.5355133508192136 233.10469905205525\n",
      "89.05653058714756 -3.6752580255689833 102.13753600362023\n",
      "20.94088465569405 -3.452762110004306 33.36852946221286\n",
      "3.862858838734155 -3.4523908723540746 15.750518856208696\n",
      "36.55032821136126 -3.858666996095286 48.68113696082967\n",
      "-0.4013089048908114 -3.556116356506632 5.373715098080579\n",
      "167.68345796896676 -3.2529732830435067 191.11385448928678\n",
      "91.87648938804818 -4.227354582860452 106.67851752758881\n",
      "61.76521240301372 -4.1795575472724895 75.81351276875638\n",
      "-2.0506015849235837 -3.6328982286101112 1.6345036081271436\n",
      "145.28863910407017 -3.863028836833158 162.87042603714374\n",
      "39.62951484701864 -3.626953140058445 54.808135702055694\n",
      "22.476573973634117 -3.8002785588169004 33.469844234811305\n",
      "7.11420438065079 -3.694568298142374 17.82772272143315\n",
      "0.4853078048008683 -3.747914428404539 7.382626630501085\n",
      "60.02024859227038 -3.7377796285102436 73.85640956591293\n",
      "-1.3062084386124297 -3.5960109659214727 8.228933455958032\n",
      "58.2692268047831 -3.4449529833943986 85.09778015786377\n",
      "192.23646167337085 -4.279703012648584 209.58106349137003\n",
      "29.182187604679257 -3.9572337580684405 49.971896439296\n",
      "45.807223766169386 -3.9591324411804174 57.711398614727145\n",
      "68.91789853952059 -4.740730525514563 89.01266852022522\n",
      "158.2487648485993 -3.4615297058265972 176.16280068988806\n",
      "203.49603231201706 -4.3412534629751365 224.64910167241933\n",
      "176.06044747280828 -4.925684223550468 197.3177574345857\n",
      "7.212231414579605 -4.637754962943626 24.664752144875667\n",
      "-0.1806592028204932 -3.573561759133577 7.388327499498235\n",
      "-1.8315764400556418 -3.618750895991849 2.1089958010060412\n",
      "-1.8463584593126825 -3.6102919953792716 2.565849732977778\n",
      "783.6825660953481 -3.2106837938340465 816.8462692324198\n",
      "-1.1054597413924512 -3.5605169463770596 3.31030815064664\n",
      "3961.1182396542504 -3.2823677215935305 4002.5855614412294\n",
      "17681.246840542 -3.5721544191175876 17719.380525205554\n",
      "56.85817609975231 -3.8401124133208917 75.30855294883906\n",
      "-1.5128166862505168 -3.637400332780206 2.513645975756023\n",
      "328.3007325366009 -3.606078312192026 345.6060885823631\n",
      "0.8389439859805634 -3.5533981349462445 8.606108387702783\n",
      "88.98749987309805 -4.0345574316358 103.86947631326464\n",
      "779.005655588563 -3.5775173977761323 808.7258015908129\n",
      "28.259850279168404 -3.3723245575015937 42.62646268610374\n",
      "52.071905872881985 -3.4500500047754965 72.95754886343687\n",
      "15.086274067391514 -3.573301779677334 27.866827784197564\n",
      "20.613403907854945 -3.6722480546420804 33.722671724674385\n",
      "6027.417343208679 -3.6693124386447846 6070.1418584116045\n",
      "0.7354181199293635 -3.792457657393389 8.298130517345893\n",
      "649.5747095378074 -3.749047790661515 679.2256138167083\n",
      "-0.5203819974359476 -3.6718815338195996 6.697186088235549\n",
      "8.723272955201764 -3.8931064746305366 18.962249722116177\n",
      "9.070350906133399 -3.567524159203965 20.510875565406835\n",
      "-2.197147460359247 -3.6527593211721783 1.1829635255912565\n",
      "38.09145762937294 -3.832849656228501 51.12622056233599\n",
      "34.31669391649859 -3.956753048265886 45.59983602985503\n",
      "44.67446211759716 -3.78985831464981 56.556356316635934\n",
      "18.296552914880294 -3.8135915126798845 30.585878984478285\n",
      "1.7320123639537996 -3.4827325697021423 11.681650501238199\n",
      "230.4268183272161 -3.734266357329026 245.89289909943167\n",
      "4.523587964928083 -3.652076501821764 14.666865289735789\n",
      "24284.39463100613 -3.817422948913676 24332.142853624973\n",
      "12.591293530956136 -3.7478200438302416 23.806796255601142\n",
      "8686.574823036392 -4.310791350956346 8722.327231428222\n",
      "15.163544899710928 -3.7689879102747317 32.36640375514948\n",
      "119.10518921763605 -4.153446632070063 137.39865388844223\n",
      "33.04359274756746 -3.2478909880999427 50.36147277625127\n",
      "254.8004153022207 -3.4101020487646085 282.8747331179752\n",
      "1324.7999090150997 -3.5969314703458366 1352.1751868728081\n",
      "3.1703225116295926 -3.721321508949366 16.11661996903493\n",
      "2.7060883713680823 -3.762652303835678 12.058295408236674\n",
      "1028.477557875209 -3.9994788254476217 1050.6712577247722\n",
      "188.5438579422147 -3.449666050731063 208.81172309115735\n",
      "120.75657831270166 -4.232346234692712 136.76177875328975\n",
      "4676.1995835652215 -3.69125154633635 4716.897127605439\n",
      "-1.297087030077364 -3.6219304285723966 3.440749445174749\n",
      "13.92155722718826 -3.6252827436731057 24.33435394981372\n",
      "411.1239344315711 -3.2811470601331525 436.9700266757384\n",
      "-1.6917733720933938 -3.6721445830367805 2.8754505290116756\n",
      "18.43704445245976 -3.8760467835203176 32.704239811523315\n",
      "185.0924105847546 -3.467701562934719 202.21309872972606\n",
      "116.92616105459592 -3.680867488621321 133.47319569080298\n",
      "643.4925856266078 -4.339146385837223 667.8141517899453\n",
      "1771.596030877795 -3.498861038856038 1800.7901609517685\n",
      "253.8013742194821 -4.143603003722957 273.29322715831813\n",
      "20.72553495598754 -3.695022139463651 35.806762401958515\n",
      "37876.22096596258 -4.623668573233922 37921.594394561806\n",
      "-0.7820696042764439 -3.8565457298742625 9.742177440330758\n",
      "-1.6254930589599326 -3.70216527772766 3.3088188104050564\n",
      "16.643884155079718 -3.3793746406707754 26.234188916723646\n",
      "770.3644924185461 -5.257889821946263 792.3363054482548\n",
      "-0.4561407544113081 -3.7000972928106752 7.51726283541554\n",
      "1.718303274445816 -3.8840351433032323 10.440046828064428\n",
      "58.842577354016385 -3.5322796882100156 79.46914051389727\n",
      "35.05081389543329 -3.4772363847520595 54.95959714920301\n",
      "-0.2732643507066541 -3.5994000612105985 6.96585949849411\n",
      "15528.671969044064 -4.197848384555546 15569.604990257614\n",
      "28239.373735144094 -4.368748827092103 28277.34570256294\n",
      "4.490077030226985 -3.707337352288139 12.943226153164353\n",
      "150.80829069746198 -4.520352583125169 171.48377264173223\n",
      "-0.7648264699372476 -3.7945632435578998 9.428070019118357\n",
      "0.2789878977819171 -3.629565710234781 7.5643391017214885\n",
      "-0.9480584554689813 -3.5473860383467053 4.023877562592726\n",
      "34.72906773371665 -3.6909475226211654 50.767234099554514\n",
      "485.84062238099636 -4.851705821937867 511.8315023095537\n",
      "68.36753282936729 -3.622268697794449 81.97520661904036\n",
      "894.7580872332799 -3.5608924078513335 918.652848344972\n",
      "24.649161129344634 -3.7117627052595026 39.31887473817699\n",
      "-1.1660547290791783 -3.655097142833628 3.4982555496342376\n",
      "25.53778240338545 -3.450553622464553 37.665902810204145\n",
      "268.3289147649325 -3.6588680154820437 288.55770249907164\n",
      "360.66671404600174 -3.6341665747699112 388.0681402077328\n",
      "141.39229853254653 -3.8073965235280856 158.86004589328607\n",
      "-0.8560764401117922 -3.6614405469926745 5.808977960386646\n",
      "2.298951039015492 -3.899522823071341 18.323370044616016\n",
      "-1.841725397815594 -3.6430864254688045 2.5027280131470864\n",
      "6.805109491140001 -3.8674693853767885 17.887647947432043\n",
      "13.158488243804982 -3.528425853842725 30.210557094245388\n",
      "681.4973170515449 -3.931752228073885 707.7552386139067\n",
      "988.2637789154671 -3.654755525243117 1012.6101034195331\n",
      "240.51504723149696 -3.5088178305647424 265.32178230684735\n",
      "1254.0479175104715 -4.8266936437622565 1290.6225067584746\n",
      "63.4370713194445 -3.8371335931026134 77.86515836069377\n",
      "-2.078696157152649 -3.587380664382547 1.3955717712941356\n",
      "157.87232353347986 -3.763255346683226 173.97301704810516\n",
      "1083.2596298397214 -3.0430711705443283 1117.655403080579\n",
      "1.6746750658162455 -3.693812228003745 11.82901006838082\n",
      "20.43688525500329 -3.9219828601241105 31.463142678000164\n",
      "101.48083750365231 -3.611370267160092 116.10768663854103\n",
      "180.26850265759333 -2.9905123326971905 209.90022542719197\n",
      "2.092712848486485 -3.650559881948389 10.085381120367185\n",
      "10.033014004681263 -3.886943234750906 21.071176696770117\n",
      "3746.124803239033 -4.643777742861454 3778.0443343693637\n",
      "0.29968810767798004 -3.7232021846325516 9.324198293170271\n",
      "3110.293487207267 -5.233979314354054 3143.775804804117\n",
      "7.206874475727545 -3.5561260959042125 16.838977980651578\n",
      "276.3437764757449 -4.311727745034266 294.4792060039\n",
      "482.60266510779707 -3.306225817564776 503.32157077301406\n",
      "14.290954591267337 -3.375993421365222 24.236744426006762\n",
      "-1.435742434185272 -3.597322327903925 6.166721544138184\n",
      "75.51770789275747 -3.7386086082821346 89.83672588482595\n",
      "2.4026697146629203 -3.7180504771205345 11.566933274608397\n",
      "-0.15225148340846317 -3.4864628457046662 6.528389146719789\n",
      "237.3867214971856 -3.8608066976922943 258.1177086492177\n",
      "185.74008573670017 -4.292424819445403 219.8354884289024\n",
      "13.250565460474832 -3.5184149926577017 23.43210216885774\n",
      "-1.005343478770783 -3.56306957215018 3.655393556955772\n"
     ]
    }
   ],
   "source": [
    "all_summed_int = []\n",
    "y_scale = 1./16\n",
    "datalen = 1024*2\n",
    "for i, fname in enumerate(files):\n",
    "    with h5py.File(hdf5files[i],\"r\") as f:\n",
    "        log_z = np.array(f[\"log_evidence\"]) - np.array(f[\"log_noise_evidence\"])\n",
    "    with h5py.File(fname,\"r\") as f:\n",
    "        scaled_log_likelihood = np.array(f[\"log_likelihood_post\"]) #- datalen*np.log(y_scale) \n",
    "        scaled_log_prior = np.array(f[\"log_prior_post\"]) + np.log(total_scale)\n",
    "        scaled_log_evidence = log_z #- datalen*np.log(y_scale) \n",
    "        \n",
    "        #print(np.min(scaled_prior), np.max(scaled_prior))\n",
    "        #print(np.min(scaled_likelihood), np.max(scaled_likelihood))\n",
    "        print(scaled_log_evidence, np.sum(scaled_log_prior)/len(scaled_log_prior), np.sum(scaled_log_likelihood)/len(scaled_log_likelihood))\n",
    "        all_summed_int.append(scaled_log_evidence - np.sum(scaled_log_prior)/len(scaled_log_prior) - np.sum(scaled_log_likelihood)/len(scaled_log_likelihood))\n"
   ]
  },
  {
   "cell_type": "code",
   "execution_count": 77,
   "metadata": {
    "Collapsed": "false",
    "collapsed": true,
    "jupyter": {
     "outputs_hidden": true
    },
    "tags": []
   },
   "outputs": [
    {
     "data": {
      "text/plain": [
       "array([-8.84593028e-01, -1.22521027e+01, -1.57634671e+01, -3.74001605e+00,\n",
       "       -1.56975005e+01, -3.07248860e-01, -2.04554663e+01, -1.50350877e+01,\n",
       "       -2.68014646e+01, -8.26522254e+00, -2.43217817e+01, -1.09903980e+01,\n",
       "       -1.59621760e+01, -1.16738185e+01, -1.01103419e+01, -2.48544743e+00,\n",
       "       -1.95147411e-01, -9.35987750e+00, -5.14536992e+00, -2.16461510e+01,\n",
       "       -1.16100587e+01, -4.55503715e+00, -1.54758057e+00, -4.19612681e+01,\n",
       "       -1.08807440e+01, -8.06847600e+00, -7.58815736e+00,  2.20193740e-01,\n",
       "       -6.06320248e+00, -1.12586617e+01, -3.53788643e+01, -4.94940929e-03,\n",
       "       -4.95598631e+00, -8.04574689e+00, -3.78804850e+00, -3.29849367e+00,\n",
       "       -1.55673570e+01, -1.03460810e+01, -1.10907061e+01, -9.69079846e+00,\n",
       "       -9.21206962e+00, -4.40983550e+00, -1.45363017e+01, -7.80688274e+00,\n",
       "       -6.87943610e+00, -2.29839719e+01, -1.24420004e+01, -2.46293522e+01,\n",
       "       -6.73034864e+00, -1.46541151e+00, -1.61888035e+01, -1.28732326e+01,\n",
       "       -1.22211854e+01, -5.36605064e+00, -1.44370195e+01, -1.58875194e+01,\n",
       "       -5.24482981e+00, -1.10716731e+01, -4.14946033e+01, -1.08229209e+01,\n",
       "       -3.63276228e+01, -1.89149707e+00, -1.29745639e+01, -6.41467777e+00,\n",
       "       -1.06567934e+01, -8.33785021e+00, -7.58892429e+00, -2.40391728e+00,\n",
       "       -1.82655454e+01, -2.47771757e+01, -5.64934240e+00, -1.76513232e+01,\n",
       "       -1.47556306e+01, -8.37790532e+00, -3.31552390e+01, -5.03571328e+00,\n",
       "       -6.12088953e+00, -1.93376276e+01, -2.98972673e+01, -1.26444188e+01,\n",
       "       -1.79981658e+01, -7.26153516e-01, -1.29482206e+01, -1.45747793e+00,\n",
       "       -4.25563304e+00, -2.86798528e+01, -9.36665297e+00, -2.16689560e+01,\n",
       "       -9.78466875e+00, -7.22238271e-01, -1.92450185e+01, -1.33661650e+01,\n",
       "       -3.77403947e+01, -3.28173503e+01, -8.93786811e+00, -1.26840527e+01,\n",
       "       -2.38630006e+01, -7.33353302e-01, -8.67491156e+00, -1.65113060e-01,\n",
       "       -2.87372300e+01, -1.83299732e+01, -2.81625497e-01, -1.26590369e+01,\n",
       "       -3.30111522e+01, -2.23897403e+01, -8.09415242e+00, -1.06892867e+01,\n",
       "       -7.46179835e+00, -8.72866957e+00, -5.14486438e+00, -2.00156527e+01,\n",
       "       -1.23536763e+01, -9.96878506e+00, -5.42380421e+00, -1.15978742e+01,\n",
       "       -1.13281216e+01, -6.81184450e+00, -8.70173098e+00, -8.80853942e+00,\n",
       "       -7.62593876e+00, -4.23675966e+01, -1.13852153e+01, -1.23329036e+01,\n",
       "       -1.90257607e+01, -8.71431059e+00, -1.93368325e+01, -1.23300364e+01,\n",
       "       -1.62003218e+01, -1.50982743e+01, -3.14313374e+01,  1.92013729e-01,\n",
       "       -1.81736453e+00, -2.66376605e+00, -3.01995284e+01, -6.11846093e-01,\n",
       "       -3.79862672e+01, -3.56490491e+01, -1.45151057e+01, -1.51364858e+01,\n",
       "       -1.31572165e+01, -1.97701423e+00, -1.15809618e+01, -2.75384932e+01,\n",
       "       -7.47214404e+00, -2.00080871e+01, -7.84010759e+00, -3.77139173e+00,\n",
       "       -3.91907539e+01, -6.54909839e-01, -2.57371902e+01, -6.08185971e+00,\n",
       "       -7.52668802e+00, -5.62722260e+00,  7.12597408e-02, -8.46595999e+00,\n",
       "       -5.31805532e+00, -7.49636720e+00, -9.46908086e+00, -7.05253212e+00,\n",
       "       -1.22320510e+01, -7.66170936e+00, -4.20955046e+01, -5.90909165e+00,\n",
       "       -3.18186487e+01, -1.30462379e+01, -1.26153727e+01, -9.05214456e+00,\n",
       "       -2.13007241e+01, -2.33349876e+01,  1.93054554e-01, -5.61283982e+00,\n",
       "       -1.74664157e+01, -1.50542556e+01, -1.17232184e+01, -3.64968762e+01,\n",
       "       -2.34525481e+00, -7.22561444e+00, -2.08452692e+01, -9.92601639e-01,\n",
       "       -1.23099536e+01, -1.34717630e+01, -9.83712169e+00, -2.03654712e+01,\n",
       "       -4.41549233e+01, -2.59220943e+01, -1.15419945e+01, -4.10216604e+01,\n",
       "       -1.55036448e+01, -6.57629702e+00, -7.37278226e+00, -1.86339992e-01,\n",
       "       -3.63380110e+00, -8.24415919e+00, -1.32894120e+01, -2.62633246e+00,\n",
       "       -3.51775267e+01, -3.45161022e+01, -2.41203300e+01, -7.40340795e+00,\n",
       "       -1.61729661e+01, -2.14224619e+00, -2.08259266e+00, -1.23910350e+01,\n",
       "       -2.16274452e+01, -9.46668516e+00, -1.93720114e+01, -1.29242822e+01,\n",
       "       -4.90890463e+00, -9.76384374e+00, -1.54592979e+01, -2.31574963e+01,\n",
       "       -1.38609352e+01, -1.06646867e+01, -3.41220771e+00, -1.38079144e+01,\n",
       "       -4.70121480e+00, -4.96515572e+00, -2.17293809e+01, -2.20773511e+01,\n",
       "       -1.11266595e+01, -9.86725165e+00, -1.04501125e+01, -1.14391690e+01,\n",
       "       -3.02556576e+01, -4.34958940e+00, -7.03557604e+00, -1.14190421e+01,\n",
       "       -2.03099038e+01, -5.73442888e+00, -6.83505888e+00, -3.09590947e+01,\n",
       "       -1.25735738e+01, -2.72758674e+01, -8.12792011e+00, -1.30745127e+01,\n",
       "       -1.63609926e+01, -1.01260262e+01, -5.86598879e+00, -1.84366556e+00,\n",
       "       -1.04188083e+01, -5.17215528e+00, -4.36768707e-01, -1.53492001e+01,\n",
       "       -3.49703400e+01, -7.02324957e+00,  1.94149182e-01])"
      ]
     },
     "execution_count": 77,
     "metadata": {},
     "output_type": "execute_result"
    }
   ],
   "source": [
    "np.array(all_summed_int)"
   ]
  },
  {
   "cell_type": "code",
   "execution_count": 19,
   "metadata": {
    "Collapsed": "false"
   },
   "outputs": [
    {
     "data": {
      "text/plain": [
       "(-12.794904522239708,\n",
       " 0.6261545357396233,\n",
       " 0.5761688940389325,\n",
       " -43.93079966993173)"
      ]
     },
     "execution_count": 19,
     "metadata": {},
     "output_type": "execute_result"
    }
   ],
   "source": [
    "np.mean(all_summed_int), np.std(all_summed_int)/np.sqrt(len(all_summed_int)), np.max(all_summed_int), np.min(all_summed_int)"
   ]
  },
  {
   "cell_type": "code",
   "execution_count": 40,
   "metadata": {},
   "outputs": [
    {
     "data": {
      "text/plain": [
       "(array([], dtype=int64),)"
      ]
     },
     "execution_count": 40,
     "metadata": {},
     "output_type": "execute_result"
    }
   ],
   "source": [
    "np.where(np.abs(all_summed_int) > 20000)"
   ]
  },
  {
   "cell_type": "code",
   "execution_count": 19,
   "metadata": {},
   "outputs": [
    {
     "data": {
      "text/plain": [
       "'/home/joseph.bayley/data/CBC/O4MDC/test_sets/1024Hz_1s_full_15par_2det_fullparam/test_2_dynesty2/1024Hz_1s_full_15par_2det_fullparam_23_result.hdf5'"
      ]
     },
     "execution_count": 19,
     "metadata": {},
     "output_type": "execute_result"
    }
   ],
   "source": [
    "hdf5files[15]"
   ]
  },
  {
   "cell_type": "code",
   "execution_count": 43,
   "metadata": {},
   "outputs": [
    {
     "data": {
      "text/plain": [
       "100"
      ]
     },
     "execution_count": 43,
     "metadata": {},
     "output_type": "execute_result"
    }
   ],
   "source": [
    "len(all_summed_int)"
   ]
  },
  {
   "cell_type": "code",
   "execution_count": 20,
   "metadata": {},
   "outputs": [
    {
     "data": {
      "image/png": "[encoded data removed]",
      "text/plain": [
       "<Figure size 432x288 with 1 Axes>"
      ]
     },
     "metadata": {
      "needs_background": "light"
     },
     "output_type": "display_data"
    }
   ],
   "source": [
    "fig, ax = plt.subplots()\n",
    "all_summed_int2 = np.array(all_summed_int)#[np.where(np.abs(all_summed_int) < 60)]\n",
    "hst = ax.hist(all_summed_int, bins = 30)\n",
    "#ax.set_yscale(\"log\")\n",
    "#ax.set_xscale(\"symlog\")"
   ]
  },
  {
   "cell_type": "code",
   "execution_count": 57,
   "metadata": {
    "Collapsed": "false"
   },
   "outputs": [
    {
     "data": {
      "text/plain": [
       "642.5378262086593"
      ]
     },
     "execution_count": 57,
     "metadata": {},
     "output_type": "execute_result"
    }
   ],
   "source": [
    "np.std(all_summed_int)/np.sqrt(len(files))"
   ]
  },
  {
   "cell_type": "code",
   "execution_count": 22,
   "metadata": {},
   "outputs": [
    {
     "ename": "IndexError",
     "evalue": "list index out of range",
     "output_type": "error",
     "traceback": [
      "\u001b[0;31m---------------------------------------------------------------------------\u001b[0m",
      "\u001b[0;31mIndexError\u001b[0m                                Traceback (most recent call last)",
      "\u001b[0;32m<ipython-input-22-452c6c146b20>\u001b[0m in \u001b[0;36m<module>\u001b[0;34m\u001b[0m\n\u001b[0;32m----> 1\u001b[0;31m \u001b[0;32mwith\u001b[0m \u001b[0mh5py\u001b[0m\u001b[0;34m.\u001b[0m\u001b[0mFile\u001b[0m\u001b[0;34m(\u001b[0m\u001b[0mwaveform_files\u001b[0m\u001b[0;34m[\u001b[0m\u001b[0;36m15\u001b[0m\u001b[0;34m]\u001b[0m\u001b[0;34m,\u001b[0m\u001b[0;34m\"r\"\u001b[0m\u001b[0;34m)\u001b[0m \u001b[0;32mas\u001b[0m \u001b[0mf\u001b[0m\u001b[0;34m:\u001b[0m\u001b[0;34m\u001b[0m\u001b[0m\n\u001b[0m\u001b[1;32m      2\u001b[0m     \u001b[0mprint\u001b[0m\u001b[0;34m(\u001b[0m\u001b[0mf\u001b[0m\u001b[0;34m.\u001b[0m\u001b[0mkeys\u001b[0m\u001b[0;34m(\u001b[0m\u001b[0;34m)\u001b[0m\u001b[0;34m)\u001b[0m\u001b[0;34m\u001b[0m\u001b[0m\n",
      "\u001b[0;31mIndexError\u001b[0m: list index out of range"
     ]
    }
   ],
   "source": [
    "with h5py.File(waveform_files[15],\"r\") as f:\n",
    "    print(f.keys())"
   ]
  },
  {
   "cell_type": "markdown",
   "metadata": {
    "Collapsed": "false"
   },
   "source": [
    "# rescaling"
   ]
  },
  {
   "cell_type": "code",
   "execution_count": 477,
   "metadata": {
    "Collapsed": "false"
   },
   "outputs": [],
   "source": [
    "d1 = np.array([[1,0,0],[0,2,0], [0,0,3]])\n",
    "d2 = np.array([[10,0,0],[0,10,0], [0,0,9]])"
   ]
  },
  {
   "cell_type": "code",
   "execution_count": 490,
   "metadata": {
    "Collapsed": "false"
   },
   "outputs": [],
   "source": [
    "norm1 = stats.multivariate_normal([1,0,0],d1)\n",
    "norm2 = stats.multivariate_normal([1,0,0],d2)"
   ]
  },
  {
   "cell_type": "code",
   "execution_count": 491,
   "metadata": {
    "Collapsed": "false"
   },
   "outputs": [],
   "source": [
    "xvals = np.linspace(-2,2,121)"
   ]
  },
  {
   "cell_type": "code",
   "execution_count": 492,
   "metadata": {
    "Collapsed": "false"
   },
   "outputs": [],
   "source": [
    "X,Y,Z = np.meshgrid(xvals,xvals, xvals)"
   ]
  },
  {
   "cell_type": "code",
   "execution_count": 529,
   "metadata": {
    "Collapsed": "false"
   },
   "outputs": [],
   "source": [
    "pd1 = norm1.pdf(np.dstack([np.ravel(X) + 1, np.ravel(Y), np.ravel(Z)]))"
   ]
  },
  {
   "cell_type": "code",
   "execution_count": 539,
   "metadata": {
    "Collapsed": "false"
   },
   "outputs": [],
   "source": [
    "pd2 = np.sqrt(10)*np.sqrt(5)*np.sqrt(3)*norm2.pdf(np.dstack([np.ravel(X)*np.sqrt(10) + 1, np.ravel(Y)*np.sqrt(5), np.ravel(Z)*np.sqrt(3)]))"
   ]
  },
  {
   "cell_type": "code",
   "execution_count": 540,
   "metadata": {
    "Collapsed": "false"
   },
   "outputs": [
    {
     "data": {
      "text/plain": [
       "(0.02592116832548878, 0.025921168325488783)"
      ]
     },
     "execution_count": 540,
     "metadata": {},
     "output_type": "execute_result"
    }
   ],
   "source": [
    "max(pd1), max(pd2)"
   ]
  },
  {
   "cell_type": "code",
   "execution_count": 541,
   "metadata": {
    "Collapsed": "false"
   },
   "outputs": [
    {
     "data": {
      "text/plain": [
       "<matplotlib.contour.QuadContourSet at 0x7fa3b2e105f8>"
      ]
     },
     "execution_count": 541,
     "metadata": {},
     "output_type": "execute_result"
    },
    {
     "data": {
      "image/png": "[encoded data removed]",
      "text/plain": [
       "<Figure size 432x288 with 1 Axes>"
      ]
     },
     "metadata": {
      "needs_background": "light"
     },
     "output_type": "display_data"
    }
   ],
   "source": [
    "fig, ax = plt.subplots()\n",
    "ax.contour(xvals,xvals, pd1.reshape(121,121, 121)[60], alpha = 0.5, colors= \"k\")\n",
    "ax.contour(xvals,xvals, pd2.reshape(121,121, 121)[60], alpha = 0.5, colors = \"r\")\n",
    "#ax.plot(xvals,pd2)"
   ]
  },
  {
   "cell_type": "code",
   "execution_count": 542,
   "metadata": {
    "Collapsed": "false"
   },
   "outputs": [
    {
     "data": {
      "text/plain": [
       "[<matplotlib.lines.Line2D at 0x7fa3b2d44eb8>]"
      ]
     },
     "execution_count": 542,
     "metadata": {},
     "output_type": "execute_result"
    },
    {
     "data": {
      "image/png": "[encoded data removed]",
      "text/plain": [
       "<Figure size 432x288 with 1 Axes>"
      ]
     },
     "metadata": {
      "needs_background": "light"
     },
     "output_type": "display_data"
    }
   ],
   "source": [
    "fig, ax = plt.subplots()\n",
    "ax.plot(xvals, pd1.reshape(121,121, 121)[60,60])\n",
    "ax.plot(xvals, pd2.reshape(121,121, 121)[60,60])"
   ]
  },
  {
   "cell_type": "code",
   "execution_count": 548,
   "metadata": {
    "Collapsed": "false"
   },
   "outputs": [],
   "source": [
    "snorm1 = stats.norm(0,1)\n",
    "snorm2 = stats.norm(0,10)"
   ]
  },
  {
   "cell_type": "code",
   "execution_count": 549,
   "metadata": {
    "Collapsed": "false"
   },
   "outputs": [],
   "source": [
    "xvals = np.linspace(-2,2,121)"
   ]
  },
  {
   "cell_type": "code",
   "execution_count": 556,
   "metadata": {
    "Collapsed": "false"
   },
   "outputs": [],
   "source": [
    "spd1 = snorm1.pdf(xvals)\n",
    "spd2 = 10*snorm2.pdf(xvals*10)"
   ]
  },
  {
   "cell_type": "code",
   "execution_count": 558,
   "metadata": {
    "Collapsed": "false"
   },
   "outputs": [
    {
     "data": {
      "text/plain": [
       "[<matplotlib.lines.Line2D at 0x7fa3b2ae5be0>]"
      ]
     },
     "execution_count": 558,
     "metadata": {},
     "output_type": "execute_result"
    },
    {
     "data": {
      "image/png": "[encoded data removed]",
      "text/plain": [
       "<Figure size 432x288 with 1 Axes>"
      ]
     },
     "metadata": {
      "needs_background": "light"
     },
     "output_type": "display_data"
    }
   ],
   "source": [
    "fig, ax = plt.subplots()\n",
    "ax.plot(xvals, spd1, ls = \"--\")\n",
    "ax.plot(xvals, spd2)"
   ]
  },
  {
   "cell_type": "code",
   "execution_count": 594,
   "metadata": {
    "Collapsed": "false"
   },
   "outputs": [
    {
     "name": "stdout",
     "output_type": "stream",
     "text": [
      "nan\n"
     ]
    },
    {
     "name": "stderr",
     "output_type": "stream",
     "text": [
      "/home/joseph.bayley/.conda/envs/vitc_newkeras/lib/python3.7/site-packages/ipykernel_launcher.py:5: RuntimeWarning: invalid value encountered in arccos\n",
      "  \"\"\"\n"
     ]
    }
   ],
   "source": [
    "A = 1\n",
    "fmax = 500\n",
    "fb = 499.8\n",
    "df = 0.15\n",
    "print(np.arccos(A*fmax/(fb + df)))"
   ]
  },
  {
   "cell_type": "code",
   "execution_count": 595,
   "metadata": {
    "Collapsed": "false"
   },
   "outputs": [
    {
     "data": {
      "text/plain": [
       "0.9999"
      ]
     },
     "execution_count": 595,
     "metadata": {},
     "output_type": "execute_result"
    }
   ],
   "source": [
    "(499.8 + 0.15)/500"
   ]
  },
  {
   "cell_type": "code",
   "execution_count": 596,
   "metadata": {
    "Collapsed": "false"
   },
   "outputs": [
    {
     "data": {
      "text/plain": [
       "0.5003"
      ]
     },
     "execution_count": 596,
     "metadata": {},
     "output_type": "execute_result"
    }
   ],
   "source": [
    "(250.0 + 0.15)/500"
   ]
  },
  {
   "cell_type": "code",
   "execution_count": 598,
   "metadata": {
    "Collapsed": "false"
   },
   "outputs": [
    {
     "data": {
      "text/plain": [
       "0.6433012020781996"
      ]
     },
     "execution_count": 598,
     "metadata": {},
     "output_type": "execute_result"
    }
   ],
   "source": [
    "np.arccos(0.4003*500/(250 + 0.15))"
   ]
  },
  {
   "cell_type": "code",
   "execution_count": null,
   "metadata": {
    "Collapsed": "false"
   },
   "outputs": [],
   "source": []
  }
 ],
 "metadata": {
  "kernelspec": {
   "display_name": "vitc_newkeras",
   "language": "python",
   "name": "vitc_newkeras"
  },
  "language_info": {
   "codemirror_mode": {
    "name": "ipython",
    "version": 3
   },
   "file_extension": ".py",
   "mimetype": "text/x-python",
   "name": "python",
   "nbconvert_exporter": "python",
   "pygments_lexer": "ipython3",
   "version": "3.7.0"
  }
 },
 "nbformat": 4,
 "nbformat_minor": 4
}
