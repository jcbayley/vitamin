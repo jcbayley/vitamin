{
 "cells": [
  {
   "cell_type": "code",
   "execution_count": 2,
   "metadata": {
    "Collapsed": "false"
   },
   "outputs": [
    {
     "name": "stdout",
     "output_type": "stream",
     "text": [
      "module 'basemap' is not installed\n",
      "Skyplotting functionality is automatically disabled.\n"
     ]
    }
   ],
   "source": [
    "import h5py\n",
    "import os\n",
    "import tensorflow as tf\n",
    "import numpy as np\n",
    "import matplotlib.pyplot as plt\n",
    "import vitamin\n",
    "from vitamin import vitamin_parser\n",
    "from vitamin import gw"
   ]
  },
  {
   "cell_type": "code",
   "execution_count": 3,
   "metadata": {},
   "outputs": [],
   "source": [
    "%matplotlib inline"
   ]
  },
  {
   "cell_type": "code",
   "execution_count": 1,
   "metadata": {
    "Collapsed": "false"
   },
   "outputs": [],
   "source": [
    "config = \"/home/joseph.bayley/public_html/CBC/vitamin_refactor_O4/chirp4s/run9/config.ini\""
   ]
  },
  {
   "cell_type": "code",
   "execution_count": 4,
   "metadata": {
    "collapsed": true,
    "jupyter": {
     "outputs_hidden": true
    },
    "tags": []
   },
   "outputs": [
    {
     "data": {
      "text/plain": [
       "['CVAE',\n",
       " '__author__',\n",
       " '__builtins__',\n",
       " '__cached__',\n",
       " '__credits__',\n",
       " '__doc__',\n",
       " '__file__',\n",
       " '__loader__',\n",
       " '__name__',\n",
       " '__package__',\n",
       " '__path__',\n",
       " '__spec__',\n",
       " '__version__',\n",
       " 'absolute_import',\n",
       " 'callbacks',\n",
       " 'group_inference_parameters',\n",
       " 'initialise_directory',\n",
       " 'out_dist',\n",
       " 'plotting',\n",
       " 'sys',\n",
       " 'train_plots',\n",
       " 'vitamin_model']"
      ]
     },
     "execution_count": 4,
     "metadata": {},
     "output_type": "execute_result"
    }
   ],
   "source": [
    "dir(vitamin)"
   ]
  },
  {
   "cell_type": "code",
   "execution_count": 4,
   "metadata": {},
   "outputs": [
    {
     "name": "stderr",
     "output_type": "stream",
     "text": [
      "2022-08-24 04:00:01.989618: W tensorflow/stream_executor/platform/default/dso_loader.cc:64] Could not load dynamic library 'libcuda.so.1'; dlerror: libcuda.so.1: cannot open shared object file: No such file or directory\n",
      "2022-08-24 04:00:02.133275: W tensorflow/stream_executor/cuda/cuda_driver.cc:269] failed call to cuInit: UNKNOWN ERROR (303)\n",
      "2022-08-24 04:00:02.249212: I tensorflow/stream_executor/cuda/cuda_diagnostics.cc:156] kernel driver does not appear to be running on this host (jupyter): /proc/driver/nvidia/version does not exist\n",
      "2022-08-24 04:00:04.958023: I tensorflow/core/platform/cpu_feature_guard.cc:142] This TensorFlow binary is optimized with oneAPI Deep Neural Network Library (oneDNN) to use the following CPU instructions in performance-critical operations:  AVX2 FMA\n",
      "To enable them in other operations, rebuild TensorFlow with the appropriate compiler flags.\n"
     ]
    }
   ],
   "source": [
    "cfg = gw.gw_parser.GWInputParser(config)"
   ]
  },
  {
   "cell_type": "code",
   "execution_count": 5,
   "metadata": {},
   "outputs": [],
   "source": [
    "cfg.config[\"training\"][\"chunk_batch\"] = 2"
   ]
  },
  {
   "cell_type": "code",
   "execution_count": 6,
   "metadata": {},
   "outputs": [
    {
     "data": {
      "text/plain": [
       "2"
      ]
     },
     "execution_count": 6,
     "metadata": {},
     "output_type": "execute_result"
    }
   ],
   "source": [
    "cfg[\"training\"][\"chunk_batch\"]"
   ]
  },
  {
   "cell_type": "code",
   "execution_count": 7,
   "metadata": {},
   "outputs": [],
   "source": [
    "dt = gw.load_data.DataLoader(os.path.join(cfg[\"data\"][\"data_directory\"], \"training\"),cfg)"
   ]
  },
  {
   "cell_type": "code",
   "execution_count": 8,
   "metadata": {},
   "outputs": [
    {
     "name": "stderr",
     "output_type": "stream",
     "text": [
      "/home/joseph.bayley/projects/Vitamin/vitamin_refactor/vitamin/gw/load_data.py:411: VisibleDeprecationWarning: Creating an ndarray from ragged nested sequences (which is a list-or-tuple of lists-or-tuples-or ndarrays with different lengths or shapes) is deprecated. If you meant to do this, you must specify 'dtype=object' when creating the ndarray.\n",
      "  data['x_data'] = np.concatenate(np.array(data['x_data']), axis=0).squeeze()\n",
      "/home/joseph.bayley/projects/Vitamin/vitamin_refactor/vitamin/gw/load_data.py:417: VisibleDeprecationWarning: Creating an ndarray from ragged nested sequences (which is a list-or-tuple of lists-or-tuples-or ndarrays with different lengths or shapes) is deprecated. If you meant to do this, you must specify 'dtype=object' when creating the ndarray.\n",
      "  data['y_hplus_hcross'] = np.transpose(np.concatenate(np.array(data['y_hplus_hcross']), axis=0),[0,2,1])\n",
      "2022-08-24 04:02:01.869297: W tensorflow/core/framework/cpu_allocator_impl.cc:80] Allocation of 67108864 exceeds 10% of free system memory.\n",
      "2022-08-24 04:02:02.169161: W tensorflow/core/framework/cpu_allocator_impl.cc:80] Allocation of 33554432 exceeds 10% of free system memory.\n"
     ]
    },
    {
     "name": "stdout",
     "output_type": "stream",
     "text": [
      "load_time chunk 0: 21.768380165100098\n"
     ]
    }
   ],
   "source": [
    "dt.load_next_chunk()"
   ]
  },
  {
   "cell_type": "code",
   "execution_count": 12,
   "metadata": {},
   "outputs": [],
   "source": [
    "tdt = gw.load_data.DataLoader(os.path.join(cfg[\"data\"][\"data_directory\"], \"test\", \"waveforms\"),cfg, test_set=True)"
   ]
  },
  {
   "cell_type": "code",
   "execution_count": 13,
   "metadata": {
    "tags": []
   },
   "outputs": [],
   "source": [
    "tdt.load_next_chunk()"
   ]
  },
  {
   "cell_type": "code",
   "execution_count": 30,
   "metadata": {},
   "outputs": [
    {
     "data": {
      "text/plain": [
       "TensorShape([4096, 2])"
      ]
     },
     "execution_count": 30,
     "metadata": {},
     "output_type": "execute_result"
    }
   ],
   "source": [
    "np.shape(tdt.Y_noisy[0])"
   ]
  },
  {
   "cell_type": "code",
   "execution_count": 34,
   "metadata": {},
   "outputs": [
    {
     "data": {
      "text/plain": [
       "[<matplotlib.lines.Line2D at 0x7f8090548f50>]"
      ]
     },
     "execution_count": 34,
     "metadata": {},
     "output_type": "execute_result"
    },
    {
     "data": {
      "image/png": "[encoded data removed]",
      "text/plain": [
       "<Figure size 432x288 with 1 Axes>"
      ]
     },
     "metadata": {
      "needs_background": "light"
     },
     "output_type": "display_data"
    }
   ],
   "source": [
    "fig, ax = plt.subplots()\n",
    "ax.plot(dt[0][0][0][:,0]*2)\n",
    "ax.plot(np.array(tdt.Y_noisy[0])[:,0], alpha = 0.5)"
   ]
  },
  {
   "cell_type": "code",
   "execution_count": 15,
   "metadata": {},
   "outputs": [
    {
     "data": {
      "text/plain": [
       "TensorShape([1024, 15])"
      ]
     },
     "execution_count": 15,
     "metadata": {},
     "output_type": "execute_result"
    }
   ],
   "source": [
    "np.shape(dt.X)"
   ]
  },
  {
   "cell_type": "code",
   "execution_count": 16,
   "metadata": {},
   "outputs": [
    {
     "data": {
      "text/plain": [
       "<tf.Tensor: shape=(1024, 15), dtype=float32, numpy=\n",
       "array([[0.62100077, 0.25779688, 0.43236917, ..., 0.44833183,\n",
       "        0.01555976, 0.8633359 ],\n",
       "       [0.69418097, 0.5943164 , 0.30299145, ..., 0.29743302,\n",
       "        0.6822193 , 0.4091856 ],\n",
       "       [0.8084933 , 0.4593553 , 0.502796  , ..., 0.85190415,\n",
       "        0.4349214 , 0.6411384 ],\n",
       "       ...,\n",
       "       [0.53331447, 0.14704657, 0.70785946, ..., 0.62071526,\n",
       "        0.83559424, 0.07839061],\n",
       "       [0.96403164, 0.60300845, 0.39125368, ..., 0.5982622 ,\n",
       "        0.01212283, 0.47791728],\n",
       "       [0.90637696, 0.39111134, 0.994157  , ..., 0.6672172 ,\n",
       "        0.7729316 , 0.46153745]], dtype=float32)>"
      ]
     },
     "execution_count": 16,
     "metadata": {},
     "output_type": "execute_result"
    }
   ],
   "source": [
    "dt.X"
   ]
  },
  {
   "cell_type": "code",
   "execution_count": 35,
   "metadata": {},
   "outputs": [
    {
     "name": "stdout",
     "output_type": "stream",
     "text": [
      "0.00017046944\n"
     ]
    }
   ],
   "source": [
    "print(np.min(dv.X))"
   ]
  },
  {
   "cell_type": "code",
   "execution_count": 19,
   "metadata": {},
   "outputs": [
    {
     "data": {
      "text/plain": [
       "[<matplotlib.lines.Line2D at 0x7f8eec17ba90>,\n",
       " <matplotlib.lines.Line2D at 0x7f8eec15fa90>]"
      ]
     },
     "execution_count": 19,
     "metadata": {},
     "output_type": "execute_result"
    },
    {
     "data": {
      "image/png": "[encoded data removed]",
      "text/plain": [
       "<Figure size 432x288 with 1 Axes>"
      ]
     },
     "metadata": {
      "needs_background": "light"
     },
     "output_type": "display_data"
    }
   ],
   "source": [
    "fig, ax = plt.subplots()\n",
    "ax.plot(dt.Y_noisefree[0,:])"
   ]
  },
  {
   "cell_type": "code",
   "execution_count": 20,
   "metadata": {},
   "outputs": [],
   "source": [
    "dat = dt[0]"
   ]
  },
  {
   "cell_type": "code",
   "execution_count": 23,
   "metadata": {},
   "outputs": [
    {
     "data": {
      "text/plain": [
       "(512, 1024, 2)"
      ]
     },
     "execution_count": 23,
     "metadata": {},
     "output_type": "execute_result"
    }
   ],
   "source": [
    "np.shape(dat[0])"
   ]
  },
  {
   "cell_type": "code",
   "execution_count": 27,
   "metadata": {},
   "outputs": [
    {
     "data": {
      "text/plain": [
       "[<matplotlib.lines.Line2D at 0x7f8ed03bdb50>,\n",
       " <matplotlib.lines.Line2D at 0x7f8ed039c790>]"
      ]
     },
     "execution_count": 27,
     "metadata": {},
     "output_type": "execute_result"
    },
    {
     "data": {
      "image/png": "[encoded data removed]",
      "text/plain": [
       "<Figure size 432x288 with 1 Axes>"
      ]
     },
     "metadata": {
      "needs_background": "light"
     },
     "output_type": "display_data"
    }
   ],
   "source": [
    "fig, ax = plt.subplots()\n",
    "ax.plot(dat[0][1,:])\n",
    "ax.plot(dt.Y_noisefree[1,:]/128)"
   ]
  },
  {
   "cell_type": "code",
   "execution_count": 36,
   "metadata": {},
   "outputs": [],
   "source": [
    "dv = vitamin.load_data.DataLoader(os.path.join(cfg[\"data\"][\"data_directory\"], \"validation\"),cfg)"
   ]
  },
  {
   "cell_type": "code",
   "execution_count": 37,
   "metadata": {},
   "outputs": [
    {
     "name": "stdout",
     "output_type": "stream",
     "text": [
      "Reached maximum number of chunks, restarting index and shuffling files\n"
     ]
    },
    {
     "name": "stderr",
     "output_type": "stream",
     "text": [
      "/home/joseph.bayley/.local/lib/python3.7/site-packages/bilby/gw/detector/psd.py:362: RuntimeWarning: invalid value encountered in multiply\n",
      "  frequency_domain_strain = self.__power_spectral_density_interpolated(frequencies) ** 0.5 * white_noise\n"
     ]
    },
    {
     "name": "stdout",
     "output_type": "stream",
     "text": [
      "load_time chunk 0: 1.277165412902832\n"
     ]
    }
   ],
   "source": [
    "dv.load_next_chunk()"
   ]
  },
  {
   "cell_type": "code",
   "execution_count": 42,
   "metadata": {},
   "outputs": [
    {
     "data": {
      "text/plain": [
       "2"
      ]
     },
     "execution_count": 42,
     "metadata": {},
     "output_type": "execute_result"
    }
   ],
   "source": [
    "len(dv)"
   ]
  },
  {
   "cell_type": "code",
   "execution_count": 41,
   "metadata": {},
   "outputs": [
    {
     "data": {
      "text/plain": [
       "(array([], shape=(0, 1024, 2), dtype=float32),\n",
       " array([], shape=(0, 15), dtype=float32))"
      ]
     },
     "execution_count": 41,
     "metadata": {},
     "output_type": "execute_result"
    }
   ],
   "source": [
    "dv[2]"
   ]
  },
  {
   "cell_type": "code",
   "execution_count": null,
   "metadata": {},
   "outputs": [],
   "source": []
  },
  {
   "cell_type": "code",
   "execution_count": 18,
   "metadata": {},
   "outputs": [],
   "source": [
    "dtest = vitamin.load_data.DataLoader(os.path.join(cfg[\"data\"][\"data_directory\"], \"test\", \"waveforms\"),cfg, test_set=True)"
   ]
  },
  {
   "cell_type": "code",
   "execution_count": 19,
   "metadata": {},
   "outputs": [],
   "source": [
    "dtest.load_next_chunk()"
   ]
  },
  {
   "cell_type": "code",
   "execution_count": 9,
   "metadata": {
    "Collapsed": "false"
   },
   "outputs": [],
   "source": [
    "input_dir = \"/home/joseph.bayley/data/CBC/O4MDC/validation_sets_realnoise_2det_15par_4096Hz_2s_widespin/tset_tot-1000_split-1000/\""
   ]
  },
  {
   "cell_type": "code",
   "execution_count": 3,
   "metadata": {
    "Collapsed": "false"
   },
   "outputs": [],
   "source": [
    "filename = \"data_61000-10000000.h5py\""
   ]
  },
  {
   "cell_type": "code",
   "execution_count": 12,
   "metadata": {
    "Collapsed": "false"
   },
   "outputs": [
    {
     "name": "stdout",
     "output_type": "stream",
     "text": [
      "<_io.TextIOWrapper name='/home/joseph.bayley/data/CBC/O4MDC/training_sets_realnoise_2det_15par_4096Hz_2s_widespin/tset_tot-10000000_split-1000/data_61000-10000000.h5py' mode='r' encoding='UTF-8'>\n"
     ]
    }
   ],
   "source": [
    "with open(os.path.join(input_dir,filename),\"r\") as f:\n",
    "    print(f)"
   ]
  },
  {
   "cell_type": "code",
   "execution_count": null,
   "metadata": {},
   "outputs": [],
   "source": [
    "data_453000-10000000.h5py"
   ]
  },
  {
   "cell_type": "code",
   "execution_count": 5,
   "metadata": {
    "Collapsed": "false"
   },
   "outputs": [],
   "source": [
    "os.environ[\"HDF5_USE_FILE_LOCKING\"] = \"FALSE\""
   ]
  },
  {
   "cell_type": "code",
   "execution_count": null,
   "metadata": {
    "Collapsed": "false"
   },
   "outputs": [],
   "source": [
    "for fname in os.listdir(input_dir):\n",
    "\n",
    "    with h5py.File(os.path.join(input_dir,fname), 'r') as f:\n",
    "        pass"
   ]
  },
  {
   "cell_type": "code",
   "execution_count": 13,
   "metadata": {
    "Collapsed": "false"
   },
   "outputs": [
    {
     "data": {
      "text/plain": [
       "[]"
      ]
     },
     "execution_count": 13,
     "metadata": {},
     "output_type": "execute_result"
    }
   ],
   "source": [
    "os.listdir(input_dir)"
   ]
  },
  {
   "cell_type": "code",
   "execution_count": 45,
   "metadata": {},
   "outputs": [],
   "source": [
    "xdat = np.linspace(0,1,100)"
   ]
  },
  {
   "cell_type": "code",
   "execution_count": 98,
   "metadata": {
    "Collapsed": "false"
   },
   "outputs": [],
   "source": [
    "s_arr = tf.transpose(tf.split(tf.transpose(tf.repeat(tf.sin(10*xdat[:,np.newaxis]), 6, axis = 1)), 2,axis = 0), (1,2,0))"
   ]
  },
  {
   "cell_type": "code",
   "execution_count": 99,
   "metadata": {},
   "outputs": [
    {
     "data": {
      "text/plain": [
       "TensorShape([3, 100, 2])"
      ]
     },
     "execution_count": 99,
     "metadata": {},
     "output_type": "execute_result"
    }
   ],
   "source": [
    "s_arr.shape"
   ]
  },
  {
   "cell_type": "code",
   "execution_count": 102,
   "metadata": {},
   "outputs": [],
   "source": [
    "spl = tf.split(s_arr, 5, axis=1)\n",
    "#spl_arr = tf.reshape(spl, (-1, 5, 20))\n",
    "con_arr = tf.transpose(tf.squeeze(tf.concat(tf.expand_dims(spl, -1), axis = 2)), perm = (1,0,2, 3))\n",
    "c_arr = tf.transpose(spl, (1,0,2, 3))"
   ]
  },
  {
   "cell_type": "code",
   "execution_count": 103,
   "metadata": {
    "collapsed": true,
    "jupyter": {
     "outputs_hidden": true
    },
    "tags": []
   },
   "outputs": [
    {
     "data": {
      "text/plain": [
       "<tf.Tensor: shape=(3, 5, 20, 2), dtype=float64, numpy=\n",
       "array([[[[ 0.        ,  0.        ],\n",
       "         [ 0.10083842,  0.10083842],\n",
       "         [ 0.20064886,  0.20064886],\n",
       "         [ 0.2984138 ,  0.2984138 ],\n",
       "         [ 0.39313661,  0.39313661],\n",
       "         [ 0.48385164,  0.48385164],\n",
       "         [ 0.56963411,  0.56963411],\n",
       "         [ 0.64960951,  0.64960951],\n",
       "         [ 0.72296256,  0.72296256],\n",
       "         [ 0.78894546,  0.78894546],\n",
       "         [ 0.84688556,  0.84688556],\n",
       "         [ 0.8961922 ,  0.8961922 ],\n",
       "         [ 0.93636273,  0.93636273],\n",
       "         [ 0.96698762,  0.96698762],\n",
       "         [ 0.98775469,  0.98775469],\n",
       "         [ 0.99845223,  0.99845223],\n",
       "         [ 0.99897117,  0.99897117],\n",
       "         [ 0.98930624,  0.98930624],\n",
       "         [ 0.96955595,  0.96955595],\n",
       "         [ 0.93992165,  0.93992165]],\n",
       "\n",
       "        [[ 0.90070545,  0.90070545],\n",
       "         [ 0.85230712,  0.85230712],\n",
       "         [ 0.79522006,  0.79522006],\n",
       "         [ 0.73002623,  0.73002623],\n",
       "         [ 0.65739025,  0.65739025],\n",
       "         [ 0.57805259,  0.57805259],\n",
       "         [ 0.49282204,  0.49282204],\n",
       "         [ 0.40256749,  0.40256749],\n",
       "         [ 0.30820902,  0.30820902],\n",
       "         [ 0.21070855,  0.21070855],\n",
       "         [ 0.11106004,  0.11106004],\n",
       "         [ 0.01027934,  0.01027934],\n",
       "         [-0.09060615, -0.09060615],\n",
       "         [-0.19056796, -0.19056796],\n",
       "         [-0.28858706, -0.28858706],\n",
       "         [-0.38366419, -0.38366419],\n",
       "         [-0.47483011, -0.47483011],\n",
       "         [-0.56115544, -0.56115544],\n",
       "         [-0.64176014, -0.64176014],\n",
       "         [-0.7158225 , -0.7158225 ]],\n",
       "\n",
       "        [[-0.7825875 , -0.7825875 ],\n",
       "         [-0.84137452, -0.84137452],\n",
       "         [-0.89158426, -0.89158426],\n",
       "         [-0.93270486, -0.93270486],\n",
       "         [-0.96431712, -0.96431712],\n",
       "         [-0.98609877, -0.98609877],\n",
       "         [-0.99782778, -0.99782778],\n",
       "         [-0.99938456, -0.99938456],\n",
       "         [-0.99075324, -0.99075324],\n",
       "         [-0.97202182, -0.97202182],\n",
       "         [-0.94338126, -0.94338126],\n",
       "         [-0.90512352, -0.90512352],\n",
       "         [-0.85763861, -0.85763861],\n",
       "         [-0.80141062, -0.80141062],\n",
       "         [-0.73701276, -0.73701276],\n",
       "         [-0.66510151, -0.66510151],\n",
       "         [-0.58640998, -0.58640998],\n",
       "         [-0.50174037, -0.50174037],\n",
       "         [-0.41195583, -0.41195583],\n",
       "         [-0.31797166, -0.31797166]],\n",
       "\n",
       "        [[-0.22074597, -0.22074597],\n",
       "         [-0.12126992, -0.12126992],\n",
       "         [-0.0205576 , -0.0205576 ],\n",
       "         [ 0.0803643 ,  0.0803643 ],\n",
       "         [ 0.18046693,  0.18046693],\n",
       "         [ 0.27872982,  0.27872982],\n",
       "         [ 0.37415123,  0.37415123],\n",
       "         [ 0.46575841,  0.46575841],\n",
       "         [ 0.55261747,  0.55261747],\n",
       "         [ 0.63384295,  0.63384295],\n",
       "         [ 0.7086068 ,  0.7086068 ],\n",
       "         [ 0.77614685,  0.77614685],\n",
       "         [ 0.83577457,  0.83577457],\n",
       "         [ 0.8868821 ,  0.8868821 ],\n",
       "         [ 0.92894843,  0.92894843],\n",
       "         [ 0.96154471,  0.96154471],\n",
       "         [ 0.98433866,  0.98433866],\n",
       "         [ 0.99709789,  0.99709789],\n",
       "         [ 0.99969234,  0.99969234],\n",
       "         [ 0.99209556,  0.99209556]],\n",
       "\n",
       "        [[ 0.97438499,  0.97438499],\n",
       "         [ 0.94674118,  0.94674118],\n",
       "         [ 0.90944594,  0.90944594],\n",
       "         [ 0.86287948,  0.86287948],\n",
       "         [ 0.8075165 ,  0.8075165 ],\n",
       "         [ 0.74392141,  0.74392141],\n",
       "         [ 0.6727425 ,  0.6727425 ],\n",
       "         [ 0.59470541,  0.59470541],\n",
       "         [ 0.51060568,  0.51060568],\n",
       "         [ 0.42130064,  0.42130064],\n",
       "         [ 0.32770071,  0.32770071],\n",
       "         [ 0.23076008,  0.23076008],\n",
       "         [ 0.13146699,  0.13146699],\n",
       "         [ 0.03083368,  0.03083368],\n",
       "         [-0.07011396, -0.07011396],\n",
       "         [-0.17034683, -0.17034683],\n",
       "         [-0.26884313, -0.26884313],\n",
       "         [-0.36459873, -0.36459873],\n",
       "         [-0.45663749, -0.45663749],\n",
       "         [-0.54402111, -0.54402111]]],\n",
       "\n",
       "\n",
       "       [[[ 0.        ,  0.        ],\n",
       "         [ 0.10083842,  0.10083842],\n",
       "         [ 0.20064886,  0.20064886],\n",
       "         [ 0.2984138 ,  0.2984138 ],\n",
       "         [ 0.39313661,  0.39313661],\n",
       "         [ 0.48385164,  0.48385164],\n",
       "         [ 0.56963411,  0.56963411],\n",
       "         [ 0.64960951,  0.64960951],\n",
       "         [ 0.72296256,  0.72296256],\n",
       "         [ 0.78894546,  0.78894546],\n",
       "         [ 0.84688556,  0.84688556],\n",
       "         [ 0.8961922 ,  0.8961922 ],\n",
       "         [ 0.93636273,  0.93636273],\n",
       "         [ 0.96698762,  0.96698762],\n",
       "         [ 0.98775469,  0.98775469],\n",
       "         [ 0.99845223,  0.99845223],\n",
       "         [ 0.99897117,  0.99897117],\n",
       "         [ 0.98930624,  0.98930624],\n",
       "         [ 0.96955595,  0.96955595],\n",
       "         [ 0.93992165,  0.93992165]],\n",
       "\n",
       "        [[ 0.90070545,  0.90070545],\n",
       "         [ 0.85230712,  0.85230712],\n",
       "         [ 0.79522006,  0.79522006],\n",
       "         [ 0.73002623,  0.73002623],\n",
       "         [ 0.65739025,  0.65739025],\n",
       "         [ 0.57805259,  0.57805259],\n",
       "         [ 0.49282204,  0.49282204],\n",
       "         [ 0.40256749,  0.40256749],\n",
       "         [ 0.30820902,  0.30820902],\n",
       "         [ 0.21070855,  0.21070855],\n",
       "         [ 0.11106004,  0.11106004],\n",
       "         [ 0.01027934,  0.01027934],\n",
       "         [-0.09060615, -0.09060615],\n",
       "         [-0.19056796, -0.19056796],\n",
       "         [-0.28858706, -0.28858706],\n",
       "         [-0.38366419, -0.38366419],\n",
       "         [-0.47483011, -0.47483011],\n",
       "         [-0.56115544, -0.56115544],\n",
       "         [-0.64176014, -0.64176014],\n",
       "         [-0.7158225 , -0.7158225 ]],\n",
       "\n",
       "        [[-0.7825875 , -0.7825875 ],\n",
       "         [-0.84137452, -0.84137452],\n",
       "         [-0.89158426, -0.89158426],\n",
       "         [-0.93270486, -0.93270486],\n",
       "         [-0.96431712, -0.96431712],\n",
       "         [-0.98609877, -0.98609877],\n",
       "         [-0.99782778, -0.99782778],\n",
       "         [-0.99938456, -0.99938456],\n",
       "         [-0.99075324, -0.99075324],\n",
       "         [-0.97202182, -0.97202182],\n",
       "         [-0.94338126, -0.94338126],\n",
       "         [-0.90512352, -0.90512352],\n",
       "         [-0.85763861, -0.85763861],\n",
       "         [-0.80141062, -0.80141062],\n",
       "         [-0.73701276, -0.73701276],\n",
       "         [-0.66510151, -0.66510151],\n",
       "         [-0.58640998, -0.58640998],\n",
       "         [-0.50174037, -0.50174037],\n",
       "         [-0.41195583, -0.41195583],\n",
       "         [-0.31797166, -0.31797166]],\n",
       "\n",
       "        [[-0.22074597, -0.22074597],\n",
       "         [-0.12126992, -0.12126992],\n",
       "         [-0.0205576 , -0.0205576 ],\n",
       "         [ 0.0803643 ,  0.0803643 ],\n",
       "         [ 0.18046693,  0.18046693],\n",
       "         [ 0.27872982,  0.27872982],\n",
       "         [ 0.37415123,  0.37415123],\n",
       "         [ 0.46575841,  0.46575841],\n",
       "         [ 0.55261747,  0.55261747],\n",
       "         [ 0.63384295,  0.63384295],\n",
       "         [ 0.7086068 ,  0.7086068 ],\n",
       "         [ 0.77614685,  0.77614685],\n",
       "         [ 0.83577457,  0.83577457],\n",
       "         [ 0.8868821 ,  0.8868821 ],\n",
       "         [ 0.92894843,  0.92894843],\n",
       "         [ 0.96154471,  0.96154471],\n",
       "         [ 0.98433866,  0.98433866],\n",
       "         [ 0.99709789,  0.99709789],\n",
       "         [ 0.99969234,  0.99969234],\n",
       "         [ 0.99209556,  0.99209556]],\n",
       "\n",
       "        [[ 0.97438499,  0.97438499],\n",
       "         [ 0.94674118,  0.94674118],\n",
       "         [ 0.90944594,  0.90944594],\n",
       "         [ 0.86287948,  0.86287948],\n",
       "         [ 0.8075165 ,  0.8075165 ],\n",
       "         [ 0.74392141,  0.74392141],\n",
       "         [ 0.6727425 ,  0.6727425 ],\n",
       "         [ 0.59470541,  0.59470541],\n",
       "         [ 0.51060568,  0.51060568],\n",
       "         [ 0.42130064,  0.42130064],\n",
       "         [ 0.32770071,  0.32770071],\n",
       "         [ 0.23076008,  0.23076008],\n",
       "         [ 0.13146699,  0.13146699],\n",
       "         [ 0.03083368,  0.03083368],\n",
       "         [-0.07011396, -0.07011396],\n",
       "         [-0.17034683, -0.17034683],\n",
       "         [-0.26884313, -0.26884313],\n",
       "         [-0.36459873, -0.36459873],\n",
       "         [-0.45663749, -0.45663749],\n",
       "         [-0.54402111, -0.54402111]]],\n",
       "\n",
       "\n",
       "       [[[ 0.        ,  0.        ],\n",
       "         [ 0.10083842,  0.10083842],\n",
       "         [ 0.20064886,  0.20064886],\n",
       "         [ 0.2984138 ,  0.2984138 ],\n",
       "         [ 0.39313661,  0.39313661],\n",
       "         [ 0.48385164,  0.48385164],\n",
       "         [ 0.56963411,  0.56963411],\n",
       "         [ 0.64960951,  0.64960951],\n",
       "         [ 0.72296256,  0.72296256],\n",
       "         [ 0.78894546,  0.78894546],\n",
       "         [ 0.84688556,  0.84688556],\n",
       "         [ 0.8961922 ,  0.8961922 ],\n",
       "         [ 0.93636273,  0.93636273],\n",
       "         [ 0.96698762,  0.96698762],\n",
       "         [ 0.98775469,  0.98775469],\n",
       "         [ 0.99845223,  0.99845223],\n",
       "         [ 0.99897117,  0.99897117],\n",
       "         [ 0.98930624,  0.98930624],\n",
       "         [ 0.96955595,  0.96955595],\n",
       "         [ 0.93992165,  0.93992165]],\n",
       "\n",
       "        [[ 0.90070545,  0.90070545],\n",
       "         [ 0.85230712,  0.85230712],\n",
       "         [ 0.79522006,  0.79522006],\n",
       "         [ 0.73002623,  0.73002623],\n",
       "         [ 0.65739025,  0.65739025],\n",
       "         [ 0.57805259,  0.57805259],\n",
       "         [ 0.49282204,  0.49282204],\n",
       "         [ 0.40256749,  0.40256749],\n",
       "         [ 0.30820902,  0.30820902],\n",
       "         [ 0.21070855,  0.21070855],\n",
       "         [ 0.11106004,  0.11106004],\n",
       "         [ 0.01027934,  0.01027934],\n",
       "         [-0.09060615, -0.09060615],\n",
       "         [-0.19056796, -0.19056796],\n",
       "         [-0.28858706, -0.28858706],\n",
       "         [-0.38366419, -0.38366419],\n",
       "         [-0.47483011, -0.47483011],\n",
       "         [-0.56115544, -0.56115544],\n",
       "         [-0.64176014, -0.64176014],\n",
       "         [-0.7158225 , -0.7158225 ]],\n",
       "\n",
       "        [[-0.7825875 , -0.7825875 ],\n",
       "         [-0.84137452, -0.84137452],\n",
       "         [-0.89158426, -0.89158426],\n",
       "         [-0.93270486, -0.93270486],\n",
       "         [-0.96431712, -0.96431712],\n",
       "         [-0.98609877, -0.98609877],\n",
       "         [-0.99782778, -0.99782778],\n",
       "         [-0.99938456, -0.99938456],\n",
       "         [-0.99075324, -0.99075324],\n",
       "         [-0.97202182, -0.97202182],\n",
       "         [-0.94338126, -0.94338126],\n",
       "         [-0.90512352, -0.90512352],\n",
       "         [-0.85763861, -0.85763861],\n",
       "         [-0.80141062, -0.80141062],\n",
       "         [-0.73701276, -0.73701276],\n",
       "         [-0.66510151, -0.66510151],\n",
       "         [-0.58640998, -0.58640998],\n",
       "         [-0.50174037, -0.50174037],\n",
       "         [-0.41195583, -0.41195583],\n",
       "         [-0.31797166, -0.31797166]],\n",
       "\n",
       "        [[-0.22074597, -0.22074597],\n",
       "         [-0.12126992, -0.12126992],\n",
       "         [-0.0205576 , -0.0205576 ],\n",
       "         [ 0.0803643 ,  0.0803643 ],\n",
       "         [ 0.18046693,  0.18046693],\n",
       "         [ 0.27872982,  0.27872982],\n",
       "         [ 0.37415123,  0.37415123],\n",
       "         [ 0.46575841,  0.46575841],\n",
       "         [ 0.55261747,  0.55261747],\n",
       "         [ 0.63384295,  0.63384295],\n",
       "         [ 0.7086068 ,  0.7086068 ],\n",
       "         [ 0.77614685,  0.77614685],\n",
       "         [ 0.83577457,  0.83577457],\n",
       "         [ 0.8868821 ,  0.8868821 ],\n",
       "         [ 0.92894843,  0.92894843],\n",
       "         [ 0.96154471,  0.96154471],\n",
       "         [ 0.98433866,  0.98433866],\n",
       "         [ 0.99709789,  0.99709789],\n",
       "         [ 0.99969234,  0.99969234],\n",
       "         [ 0.99209556,  0.99209556]],\n",
       "\n",
       "        [[ 0.97438499,  0.97438499],\n",
       "         [ 0.94674118,  0.94674118],\n",
       "         [ 0.90944594,  0.90944594],\n",
       "         [ 0.86287948,  0.86287948],\n",
       "         [ 0.8075165 ,  0.8075165 ],\n",
       "         [ 0.74392141,  0.74392141],\n",
       "         [ 0.6727425 ,  0.6727425 ],\n",
       "         [ 0.59470541,  0.59470541],\n",
       "         [ 0.51060568,  0.51060568],\n",
       "         [ 0.42130064,  0.42130064],\n",
       "         [ 0.32770071,  0.32770071],\n",
       "         [ 0.23076008,  0.23076008],\n",
       "         [ 0.13146699,  0.13146699],\n",
       "         [ 0.03083368,  0.03083368],\n",
       "         [-0.07011396, -0.07011396],\n",
       "         [-0.17034683, -0.17034683],\n",
       "         [-0.26884313, -0.26884313],\n",
       "         [-0.36459873, -0.36459873],\n",
       "         [-0.45663749, -0.45663749],\n",
       "         [-0.54402111, -0.54402111]]]])>"
      ]
     },
     "execution_count": 103,
     "metadata": {},
     "output_type": "execute_result"
    }
   ],
   "source": [
    "c_arr"
   ]
  },
  {
   "cell_type": "code",
   "execution_count": 67,
   "metadata": {},
   "outputs": [
    {
     "data": {
      "text/plain": [
       "TensorShape([3, 20, 5])"
      ]
     },
     "execution_count": 67,
     "metadata": {},
     "output_type": "execute_result"
    }
   ],
   "source": [
    "spl_arr.shape"
   ]
  },
  {
   "cell_type": "code",
   "execution_count": 107,
   "metadata": {},
   "outputs": [
    {
     "data": {
      "image/png": "[encoded data removed]",
      "text/plain": [
       "<Figure size 432x288 with 1 Axes>"
      ]
     },
     "metadata": {
      "needs_background": "light"
     },
     "output_type": "display_data"
    }
   ],
   "source": [
    "fig, ax = plt.subplots()\n",
    "ax.plot(xdat,s_arr[0], \"k\")\n",
    "#ax.plot(xdat[:20], spl_arr[0][0])\n",
    "for i in range(2):\n",
    "    ax.plot(xdat[:20] + i/5, c_arr[0][i])"
   ]
  },
  {
   "cell_type": "code",
   "execution_count": 110,
   "metadata": {},
   "outputs": [
    {
     "name": "stdout",
     "output_type": "stream",
     "text": [
      "<KeysViewHDF5 ['__module__', '__name__', 'constraint_parameter_keys', 'fixed_parameter_keys', 'information_gain', 'injection_parameters', 'label', 'log_bayes_factor', 'log_evidence', 'log_evidence_err', 'log_likelihood_evaluations', 'log_noise_evidence', 'log_prior_evaluations', 'meta_data', 'nested_samples', 'outdir', 'parameter_labels', 'parameter_labels_with_unit', 'posterior', 'priors', 'sampler', 'sampler_kwargs', 'samples', 'sampling_time', 'search_parameter_keys', 'use_ratio', 'version']>\n"
     ]
    }
   ],
   "source": [
    "with h5py.File(\"/home/joseph.bayley/data/CBC/O4MDC/test_sets/1024Hz_1s_full_15par_2det_fullparam/test_2_dynesty2/1024Hz_1s_full_15par_2det_fullparam_2_result.hdf5\",\"r\") as f:\n",
    "    print(f.keys())"
   ]
  },
  {
   "cell_type": "code",
   "execution_count": 109,
   "metadata": {},
   "outputs": [
    {
     "data": {
      "text/plain": [
       "<Closed HDF5 file>"
      ]
     },
     "execution_count": 109,
     "metadata": {},
     "output_type": "execute_result"
    }
   ],
   "source": [
    "data"
   ]
  },
  {
   "cell_type": "code",
   "execution_count": 36,
   "metadata": {},
   "outputs": [],
   "source": [
    "rdir = \"/home/joseph.bayley/data/CBC/O4_2/data_1024Hz_4s_3det_gaussnoise_polarisation/validation/data_0_1000.0.h5py\""
   ]
  },
  {
   "cell_type": "code",
   "execution_count": 37,
   "metadata": {},
   "outputs": [
    {
     "name": "stdout",
     "output_type": "stream",
     "text": [
      "<KeysViewHDF5 ['injection_parameters_keys', 'injection_parameters_values', 'snrs', 'y_hplus_hcross']>\n"
     ]
    }
   ],
   "source": [
    "with h5py.File(rdir,\"r\") as f:\n",
    "    print(f.keys())"
   ]
  },
  {
   "cell_type": "code",
   "execution_count": null,
   "metadata": {},
   "outputs": [],
   "source": [
    "{f\"p{i}_{bnd}\":val for i in range(3) for bnd,val in zip([\"min\",\"max\"], [0,1])}"
   ]
  },
  {
   "cell_type": "code",
   "execution_count": null,
   "metadata": {},
   "outputs": [],
   "source": []
  }
 ],
 "metadata": {
  "kernelspec": {
   "display_name": "vitaminenv",
   "language": "python",
   "name": "vitaminenv"
  },
  "language_info": {
   "codemirror_mode": {
    "name": "ipython",
    "version": 3
   },
   "file_extension": ".py",
   "mimetype": "text/x-python",
   "name": "python",
   "nbconvert_exporter": "python",
   "pygments_lexer": "ipython3",
   "version": "3.7.12"
  }
 },
 "nbformat": 4,
 "nbformat_minor": 4
}
