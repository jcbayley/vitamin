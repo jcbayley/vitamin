{
 "cells": [
  {
   "cell_type": "code",
   "execution_count": null,
   "id": "cb533773-74b2-408a-849b-b746ed820d40",
   "metadata": {},
   "outputs": [],
   "source": []
  }
 ],
 "metadata": {
  "kernelspec": {
   "display_name": "vitc_newkeras",
   "language": "python",
   "name": "vitc_newkeras"
  },
  "language_info": {
   "codemirror_mode": {
    "name": "ipython",
    "version": 3
   },
   "file_extension": ".py",
   "mimetype": "text/x-python",
   "name": "python",
   "nbconvert_exporter": "python",
   "pygments_lexer": "ipython3",
   "version": "3.7.0"
  }
 },
 "nbformat": 4,
 "nbformat_minor": 5
}
